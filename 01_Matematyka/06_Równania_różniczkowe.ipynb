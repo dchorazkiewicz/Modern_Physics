{
 "cells": [
  {
   "cell_type": "markdown",
   "id": "d7bb603f115135c9",
   "metadata": {
    "collapsed": false,
    "jupyter": {
     "outputs_hidden": false
    }
   },
   "source": [
    "# Równanania różniczkowe\n",
    "\n",
    "Równania różniczkowe to matematyczne relacje opisujące zależności między funkcjami a ich pochodnymi. Są one kluczowymi narzędziami w matematyce i fizyce, pozwalającymi modelować zmiany i dynamikę różnych zjawisk. Istnieją dwa główne typy równań różniczkowych: zwyczajne (ODE - Ordinary Differential Equations), które dotyczą pojedynczej zmiennej niezależnej, oraz cząstkowe (PDE - Partial Differential Equations), które odnoszą się do wielu zmiennych niezależnych. Równania różniczkowe mają zastosowanie w wielu dziedzinach, takich jak mechanika, elektrotechnika, ekonomia, biologia, i innych, umożliwiając modelowanie zjawisk takich jak ruch, rozprzestrzenianie się ciepła, dynamika populacji, rozkład stężenia substancji i wiele innych. Rozwiązanie równania różniczkowego pozwala na przewidywanie zachowania układów w czasie i przestrzeni.\n",
    "\n",
    "\n",
    "1. **Równanie Newtona ruchu (równanie różniczkowe)**:\n",
    "$$m\\frac{{d^2x}}{{dt^2}} = F$$\n",
    "To równanie różniczkowe opisuje zależność między masą (m), położeniem (x) i siłą działającą na ciało (F). Z drugiej zasady dynamiki Newtona wynika, że przyspieszenie (drugą pochodną położenia ze względu na czas) jest proporcjonalne do siły przy stałej masie.\n",
    "\n",
    "2. **Równanie falowe**:\n",
    "$$\\frac{{\\partial^2 u}}{{\\partial t^2}} = c^2 \\frac{{\\partial^2 u}}{{\\partial x^2}}$$\n",
    "To równanie opisuje rozchodzenie się fali przez przestrzeń. Lewa strona równania opisuje przyspieszenie zmian amplitudy fali w czasie, podczas gdy prawa strona opisuje drugą pochodną przestrzenną amplitudy fali, przemnożoną przez kwadrat prędkości fali (c).\n",
    "\n",
    "3. **Równanie epidemii (model SIR)**:\n",
    "$$\\frac{{dS}}{{dt}} = -\\beta SI$$\n",
    "$$\\frac{{dI}}{{dt}} = \\beta SI - \\gamma I$$\n",
    "$$\\frac{{dR}}{{dt}} = \\gamma I$$\n",
    "Te równania opisują dynamikę rozprzestrzeniania się chorób zakaźnych w populacji, gdzie S to liczba podatnych osób, I to liczba zainfekowanych, R to liczba ozdrowieńców, a β i γ to współczynniki związane z prędkością zakażania i wyzdrowienia.\n",
    "\n",
    "4. **Równanie Einsteina (równania pola Einsteina)**:\n",
    "$$G_{\\mu\\nu} + \\Lambda g_{\\mu\\nu} = \\frac{{8\\pi G}}{{c^4}} T_{\\mu\\nu}$$\n",
    "To równanie opisuje zależność między krzywizną czasoprzestrzeni (Lewa strona), grawitacją (G), stałą kosmologiczną (Λ), prędkością światła w próżni (c), oraz energią i pędem materii i promieniowania (Prawa strona).\n",
    "\n",
    "Tensor krzywizny Ricciego:\n",
    "$$ R_{\\mu\\nu} = \\partial_{\\alpha}\\Gamma^{\\alpha}_{\\nu,\\mu} - \\partial_{\\nu}\\Gamma^{\\alpha}_{\\alpha,\\mu} + \\Gamma^{\\alpha}_{\\alpha,\\lambda}\\Gamma^{\\lambda}_{\\nu,\\mu} - \\Gamma^{\\alpha}_{\\nu,\\lambda}\\Gamma^{\\lambda}_{\\alpha,\\mu} $$\n",
    "Tensor krzywizny Ricciego opisuje zakrzywienie czasoprzestrzeni i jest używany w równaniach Einsteina.\n",
    "\n",
    "Symbol Christoffela:\n",
    "$$ \\Gamma^{\\alpha}_{\\beta,\\gamma} = \\frac{1}{2} g^{\\alpha\\lambda} (\\partial_{\\beta} g_{\\gamma\\lambda} + \\partial_{\\gamma} g_{\\lambda\\beta} - \\partial_{\\lambda} g_{\\beta\\gamma}) $$\n",
    "Symbol Christoffela określa połączenia geometryczne czasoprzestrzeni i jest używany do obliczeń tensora krzywizny Ricciego.\n",
    "\n",
    "Skalar krzywizny:\n",
    "$$ R = g^{\\mu\\nu} R_{\\mu\\nu} $$\n",
    "Skalar krzywizny jest skalarną miarą krzywizny czasoprzestrzeni i jest używany w równaniach Einsteina.\n",
    "\n",
    "Tensor krzywizny:\n",
    "$$ G_{\\mu\\nu} = R_{\\mu\\nu} - \\frac{1}{2} g_{\\mu\\nu} R $$\n",
    "Tensor krzywizny opisuje zakrzywienie czasoprzestrzeni i jest używany w równaniach Einsteina.\n",
    "\n",
    "\n",
    "\n",
    "5. **Równanie Blacka-Scholesa**:\n",
    "$$\\frac{{\\partial V}}{{\\partial t}} + \\frac{{1}}{{2}}\\sigma^2 S^2 \\frac{{\\partial^2 V}}{{\\partial S^2}} + rS \\frac{{\\partial V}}{{\\partial S}} - rV = 0$$\n",
    "To równanie opisuje cenę opcji finansowych w zależności od czasu (t) i ceny aktywa bazowego (S), uwzględniając zmienność ceny (σ), stopę procentową (r) oraz inne czynniki."
   ]
  },
  {
   "cell_type": "markdown",
   "id": "8171031dc8b4da3c",
   "metadata": {
    "collapsed": false,
    "jupyter": {
     "outputs_hidden": false
    }
   },
   "source": [
    "# Rozpatrzmy przykładowe proste równanie różniczkowe zwyczajne (ODE) pierwszego rzędu:\n",
    "\n",
    "$$\\frac{{dy(x)}}{{dx}} = 2x$$\n",
    "\n",
    "Słownie równanie to mówi, że pochodna funkcji y(x) względem x jest równa 2x. Rozwiązaniem tego równania jest funkcja y(x) = x^2 + C, gdzie C to stała całkowania. Możemy rozwiązać to równanie ręcznie, obliczając pochodną funkcji y(x) i równując ją do 2x, a następnie całkując obie strony równania. Możemy również użyć biblioteki SymPy do symbolicznego rozwiązania tego równania różniczkowego."
   ]
  },
  {
   "cell_type": "code",
   "execution_count": 1,
   "id": "a87aedb5b9ced089",
   "metadata": {
    "ExecuteTime": {
     "end_time": "2024-03-23T07:08:36.855012Z",
     "start_time": "2024-03-23T07:08:36.676671Z"
    },
    "collapsed": false,
    "jupyter": {
     "outputs_hidden": false
    }
   },
   "outputs": [
    {
     "data": {
      "text/latex": [
       "$\\displaystyle \\frac{d}{d x} y{\\left(x \\right)} = 2 x$"
      ],
      "text/plain": [
       "Eq(Derivative(y(x), x), 2*x)"
      ]
     },
     "execution_count": 1,
     "metadata": {},
     "output_type": "execute_result"
    }
   ],
   "source": [
    "# użyjmy biblioteki SymPy do rozwiązania równania różniczkowego\n",
    "import sympy as sp\n",
    "\n",
    "# zdefiniujmy zmienną x jako symbol\n",
    "x = sp.symbols('x')\n",
    "\n",
    "# zdefiniujmy funkcję y(x) jako symbol\n",
    "y = sp.Function('y')(x)\n",
    "\n",
    "# zdefiniujmy równanie różniczkowe\n",
    "ode = sp.Eq(y.diff(x), 2*x)\n",
    "ode"
   ]
  },
  {
   "cell_type": "code",
   "execution_count": 2,
   "id": "cbd062e6da9a8218",
   "metadata": {
    "ExecuteTime": {
     "end_time": "2024-03-23T07:08:42.923247Z",
     "start_time": "2024-03-23T07:08:42.809762Z"
    },
    "collapsed": false,
    "jupyter": {
     "outputs_hidden": false
    }
   },
   "outputs": [
    {
     "data": {
      "text/latex": [
       "$\\displaystyle y{\\left(x \\right)} = C_{1} + x^{2}$"
      ],
      "text/plain": [
       "Eq(y(x), C1 + x**2)"
      ]
     },
     "execution_count": 2,
     "metadata": {},
     "output_type": "execute_result"
    }
   ],
   "source": [
    "# rozwiążmy równanie różniczkowe\n",
    "solution = sp.dsolve(ode)\n",
    "solution"
   ]
  },
  {
   "cell_type": "markdown",
   "id": "9e998ffa105d40fd",
   "metadata": {
    "collapsed": false,
    "jupyter": {
     "outputs_hidden": false
    }
   },
   "source": [
    "To samo możemy uzyskać pytając GPT albo Wolfram Alpha (https://www.wolframalpha.com/input?i=solve+y%27%28x%29%3D2x). Warto jednak zauważyć, że nie wszystkie równania różniczkowe mają analityczne rozwiązania, a wtedy konieczne jest zastosowanie metod numerycznych do ich rozwiązania. Istnieje wiele algorytmów numerycznych, takich jak metoda Eulera, metoda Rungego-Kutty, czy metoda różnic skończonych, które pozwalają na przybliżone rozwiązanie równań różniczkowych. Te metody są szeroko stosowane w praktyce, szczególnie w dziedzinach takich jak dynamika płynów, mechanika kwantowa, analiza finansowa, czy modelowanie ekosystemów.\n",
    "\n"
   ]
  },
  {
   "cell_type": "code",
   "execution_count": null,
   "id": "84ebd285c92eaf4b",
   "metadata": {
    "collapsed": false,
    "jupyter": {
     "outputs_hidden": false
    }
   },
   "outputs": [],
   "source": []
  }
 ],
 "metadata": {
  "kernelspec": {
   "display_name": "Python 3 (ipykernel)",
   "language": "python",
   "name": "python3"
  },
  "language_info": {
   "codemirror_mode": {
    "name": "ipython",
    "version": 3
   },
   "file_extension": ".py",
   "mimetype": "text/x-python",
   "name": "python",
   "nbconvert_exporter": "python",
   "pygments_lexer": "ipython3",
   "version": "3.11.5"
  }
 },
 "nbformat": 4,
 "nbformat_minor": 5
}
