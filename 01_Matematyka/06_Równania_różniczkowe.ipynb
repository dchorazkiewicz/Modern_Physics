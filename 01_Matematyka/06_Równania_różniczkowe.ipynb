{
 "cells": [
  {
   "cell_type": "markdown",
   "id": "d7bb603f115135c9",
   "metadata": {
    "collapsed": false,
    "jupyter": {
     "outputs_hidden": false
    }
   },
   "source": [
    "# Równanania różniczkowe\n",
    "\n",
    "Równania różniczkowe to matematyczne relacje opisujące zależności między funkcjami a ich pochodnymi. Są one kluczowymi narzędziami w matematyce i fizyce, pozwalającymi modelować zmiany i dynamikę różnych zjawisk. Istnieją dwa główne typy równań różniczkowych: zwyczajne (ODE - Ordinary Differential Equations), które dotyczą pojedynczej zmiennej niezależnej, oraz cząstkowe (PDE - Partial Differential Equations), które odnoszą się do wielu zmiennych niezależnych. Równania różniczkowe mają zastosowanie w wielu dziedzinach, takich jak mechanika, elektrotechnika, ekonomia, biologia, i innych, umożliwiając modelowanie zjawisk takich jak ruch, rozprzestrzenianie się ciepła, dynamika populacji, rozkład stężenia substancji i wiele innych. Rozwiązanie równania różniczkowego pozwala na przewidywanie zachowania układów w czasie i przestrzeni.\n",
    "\n",
    "\n",
    "1. **Równanie Newtona ruchu (równanie różniczkowe)**:\n",
    "$$m\\frac{{d^2x}}{{dt^2}} = F$$\n",
    "To równanie różniczkowe opisuje zależność między masą (m), położeniem (x) i siłą działającą na ciało (F). Z drugiej zasady dynamiki Newtona wynika, że przyspieszenie (drugą pochodną położenia ze względu na czas) jest proporcjonalne do siły przy stałej masie.\n",
    "\n",
    "2. **Równanie falowe**:\n",
    "$$\\frac{{\\partial^2 u}}{{\\partial t^2}} = c^2 \\frac{{\\partial^2 u}}{{\\partial x^2}}$$\n",
    "To równanie opisuje rozchodzenie się fali przez przestrzeń. Lewa strona równania opisuje przyspieszenie zmian amplitudy fali w czasie, podczas gdy prawa strona opisuje drugą pochodną przestrzenną amplitudy fali, przemnożoną przez kwadrat prędkości fali (c).\n",
    "\n",
    "WWW: https://visualpde.com/\n",
    "\n",
    "3. **Równanie epidemii (model SIR)**:\n",
    "$$\\frac{{dS}}{{dt}} = -\\beta SI$$\n",
    "$$\\frac{{dI}}{{dt}} = \\beta SI - \\gamma I$$\n",
    "$$\\frac{{dR}}{{dt}} = \\gamma I$$\n",
    "Te równania opisują dynamikę rozprzestrzeniania się chorób zakaźnych w populacji, gdzie S to liczba podatnych osób, I to liczba zainfekowanych, R to liczba ozdrowieńców, a β i γ to współczynniki związane z prędkością zakażania i wyzdrowienia.\n",
    "\n",
    "WWW: https://en.wikipedia.org/wiki/Compartmental_models_in_epidemiology#The_SIR_model\n",
    "\n",
    "4. **Równanie Einsteina (równania pola Einsteina)**:\n",
    "$$G_{\\mu\\nu} + \\Lambda g_{\\mu\\nu} = \\frac{{8\\pi G}}{{c^4}} T_{\\mu\\nu}$$\n",
    "To równanie opisuje zależność między krzywizną czasoprzestrzeni (Lewa strona), grawitacją (G), stałą kosmologiczną (Λ), prędkością światła w próżni (c), oraz energią i pędem materii i promieniowania (Prawa strona).\n",
    "\n",
    "Tensor krzywizny Ricciego:\n",
    "$$ R_{\\mu\\nu} = \\partial_{\\alpha}\\Gamma^{\\alpha}_{\\nu,\\mu} - \\partial_{\\nu}\\Gamma^{\\alpha}_{\\alpha,\\mu} + \\Gamma^{\\alpha}_{\\alpha,\\lambda}\\Gamma^{\\lambda}_{\\nu,\\mu} - \\Gamma^{\\alpha}_{\\nu,\\lambda}\\Gamma^{\\lambda}_{\\alpha,\\mu} $$\n",
    "Tensor krzywizny Ricciego opisuje zakrzywienie czasoprzestrzeni i jest używany w równaniach Einsteina.\n",
    "\n",
    "Symbol Christoffela:\n",
    "$$ \\Gamma^{\\alpha}_{\\beta,\\gamma} = \\frac{1}{2} g^{\\alpha\\lambda} (\\partial_{\\beta} g_{\\gamma\\lambda} + \\partial_{\\gamma} g_{\\lambda\\beta} - \\partial_{\\lambda} g_{\\beta\\gamma}) $$\n",
    "Symbol Christoffela określa połączenia geometryczne czasoprzestrzeni i jest używany do obliczeń tensora krzywizny Ricciego.\n",
    "\n",
    "Skalar krzywizny:\n",
    "$$ R = g^{\\mu\\nu} R_{\\mu\\nu} $$\n",
    "Skalar krzywizny jest skalarną miarą krzywizny czasoprzestrzeni i jest używany w równaniach Einsteina.\n",
    "\n",
    "Tensor krzywizny:\n",
    "$$ G_{\\mu\\nu} = R_{\\mu\\nu} - \\frac{1}{2} g_{\\mu\\nu} R $$\n",
    "Tensor krzywizny opisuje zakrzywienie czasoprzestrzeni i jest używany w równaniach Einsteina.\n",
    "\n",
    "WWW: https://en.wikipedia.org/wiki/Einstein_field_equations\n",
    "\n",
    "\n",
    "5. **Równanie Blacka-Scholesa**:\n",
    "$$\\frac{{\\partial V}}{{\\partial t}} + \\frac{{1}}{{2}}\\sigma^2 S^2 \\frac{{\\partial^2 V}}{{\\partial S^2}} + rS \\frac{{\\partial V}}{{\\partial S}} - rV = 0$$\n",
    "To równanie opisuje cenę opcji finansowych w zależności od czasu (t) i ceny aktywa bazowego (S), uwzględniając zmienność ceny (σ), stopę procentową (r) oraz inne czynniki.\n",
    "\n",
    "WWW: https://en.wikipedia.org/wiki/Jim_Simons_(mathematician)"
   ]
  },
  {
   "cell_type": "markdown",
   "id": "8171031dc8b4da3c",
   "metadata": {
    "collapsed": false,
    "jupyter": {
     "outputs_hidden": false
    }
   },
   "source": [
    "# Rozpatrzmy przykładowe proste równanie różniczkowe zwyczajne (ODE) pierwszego rzędu:\n",
    "\n",
    "$$\\frac{{dy(x)}}{{dx}} = 2x$$\n",
    "\n",
    "Słownie równanie to mówi, że pochodna funkcji y(x) względem x jest równa 2x. Rozwiązaniem tego równania jest funkcja y(x) = x^2 + C, gdzie C to stała całkowania. Możemy rozwiązać to równanie ręcznie, obliczając pochodną funkcji y(x) i równując ją do 2x, a następnie całkując obie strony równania. Możemy również użyć biblioteki SymPy do symbolicznego rozwiązania tego równania różniczkowego."
   ]
  },
  {
   "cell_type": "code",
   "execution_count": 1,
   "id": "a87aedb5b9ced089",
   "metadata": {
    "ExecuteTime": {
     "end_time": "2024-03-23T08:37:28.686776Z",
     "start_time": "2024-03-23T08:37:28.679013Z"
    },
    "collapsed": false,
    "jupyter": {
     "outputs_hidden": false
    }
   },
   "outputs": [
    {
     "data": {
      "text/latex": [
       "$\\displaystyle \\frac{d}{d x} y{\\left(x \\right)} = 2 x$"
      ],
      "text/plain": [
       "Eq(Derivative(y(x), x), 2*x)"
      ]
     },
     "execution_count": 1,
     "metadata": {},
     "output_type": "execute_result"
    }
   ],
   "source": [
    "# użyjmy biblioteki SymPy do rozwiązania równania różniczkowego\n",
    "import sympy as sp\n",
    "\n",
    "# zdefiniujmy zmienną x jako symbol\n",
    "x = sp.symbols('x')\n",
    "\n",
    "# zdefiniujmy funkcję y(x) jako symbol\n",
    "y = sp.Function('y')(x)\n",
    "\n",
    "# zdefiniujmy równanie różniczkowe\n",
    "ode = sp.Eq(y.diff(x), 2*x)\n",
    "ode"
   ]
  },
  {
   "cell_type": "code",
   "execution_count": 2,
   "id": "cbd062e6da9a8218",
   "metadata": {
    "ExecuteTime": {
     "end_time": "2024-03-23T07:28:15.266344Z",
     "start_time": "2024-03-23T07:28:15.243259Z"
    },
    "collapsed": false,
    "jupyter": {
     "outputs_hidden": false
    }
   },
   "outputs": [
    {
     "data": {
      "text/latex": [
       "$\\displaystyle y{\\left(x \\right)} = C_{1} + x^{2}$"
      ],
      "text/plain": [
       "Eq(y(x), C1 + x**2)"
      ]
     },
     "execution_count": 2,
     "metadata": {},
     "output_type": "execute_result"
    }
   ],
   "source": [
    "# rozwiążmy równanie różniczkowe\n",
    "solution = sp.dsolve(ode)\n",
    "solution"
   ]
  },
  {
   "cell_type": "markdown",
   "id": "9e998ffa105d40fd",
   "metadata": {
    "collapsed": false,
    "jupyter": {
     "outputs_hidden": false
    }
   },
   "source": [
    "To samo możemy uzyskać pytając GPT albo Wolfram Alpha (https://www.wolframalpha.com/input?i=solve+y%27%28x%29%3D2x). Warto jednak zauważyć, że nie wszystkie równania różniczkowe mają analityczne rozwiązania, a wtedy konieczne jest zastosowanie metod numerycznych do ich rozwiązania. Istnieje wiele algorytmów numerycznych, takich jak metoda Eulera, metoda Rungego-Kutty, czy metoda różnic skończonych, które pozwalają na przybliżone rozwiązanie równań różniczkowych. Te metody są szeroko stosowane w praktyce, szczególnie w dziedzinach takich jak dynamika płynów, mechanika kwantowa, analiza finansowa, czy modelowanie ekosystemów.\n",
    "\n"
   ]
  },
  {
   "cell_type": "markdown",
   "id": "37d508b32c7c670c",
   "metadata": {
    "collapsed": false,
    "jupyter": {
     "outputs_hidden": false
    }
   },
   "source": [
    "# Rzut ukośny (klasyczny przykład równania różniczkowego z fizyki)\n",
    "\n",
    "Rzut ukośny to klasyczny przykład z fizyki, który można opisać równaniami różniczkowymi. Równanie ruchu rzutu ukośnego można zapisać jako układ dwóch równań różniczkowych zwyczajnych (ODE) pierwszego rzędu:\n",
    "\n",
    "$$m\\frac{d^2x}{dt^2} = 0$$\n",
    "$$m\\frac{d^2y}{dt^2} = -mg$$\n",
    "\n",
    "gdzie x(t) i y(t) to położenie ciała w czasie t, a g to przyspieszenie ziemskie. Rozwiązując te równania różniczkowe, można uzyskać równania toru ruchu ciała w rzucie ukośnym. Możemy również użyć biblioteki SymPy do symbolicznego rozwiązania tych równań różniczkowych.\n"
   ]
  },
  {
   "cell_type": "code",
   "execution_count": 3,
   "id": "53929017f8cd475e",
   "metadata": {
    "ExecuteTime": {
     "end_time": "2024-03-23T07:41:25.549597Z",
     "start_time": "2024-03-23T07:41:25.544256Z"
    },
    "collapsed": false,
    "jupyter": {
     "outputs_hidden": false
    }
   },
   "outputs": [
    {
     "data": {
      "text/latex": [
       "$\\displaystyle m \\frac{d^{2}}{d t^{2}} y{\\left(t \\right)} = - g m$"
      ],
      "text/plain": [
       "Eq(m*Derivative(y(t), (t, 2)), -g*m)"
      ]
     },
     "execution_count": 3,
     "metadata": {},
     "output_type": "execute_result"
    }
   ],
   "source": [
    "# zdefiniujmy zmienne x, y, t, m, g jako symbole\n",
    "\n",
    "x, y, t, m, g = sp.symbols('x y t m g')\n",
    "\n",
    "# zdefiniujmy funkcje x(t) i y(t) jako symbole\n",
    "x = sp.Function('x')(t)\n",
    "y = sp.Function('y')(t)\n",
    "\n",
    "# zdefiniujmy równania różniczkowe dla rzutu ukośnego\n",
    "ode1 = sp.Eq(m*x.diff(t, t), 0)\n",
    "ode2 = sp.Eq(m*y.diff(t, t), -m*g)\n",
    "ode2"
   ]
  },
  {
   "cell_type": "code",
   "execution_count": 4,
   "id": "bcda7a63a8374fdc",
   "metadata": {
    "ExecuteTime": {
     "end_time": "2024-03-23T07:41:26.254232Z",
     "start_time": "2024-03-23T07:41:26.196685Z"
    },
    "collapsed": false,
    "jupyter": {
     "outputs_hidden": false
    }
   },
   "outputs": [
    {
     "data": {
      "text/latex": [
       "$\\displaystyle x{\\left(t \\right)} = C_{1} + C_{2} t$"
      ],
      "text/plain": [
       "Eq(x(t), C1 + C2*t)"
      ]
     },
     "execution_count": 4,
     "metadata": {},
     "output_type": "execute_result"
    }
   ],
   "source": [
    "# rozwiążmy równania różniczkowe dla rzutu ukośnego\n",
    "solution1 = sp.dsolve(ode1)\n",
    "solution2 = sp.dsolve(ode2)\n",
    "solution1"
   ]
  },
  {
   "cell_type": "code",
   "execution_count": 5,
   "id": "7d3cf3c586f2d61d",
   "metadata": {
    "ExecuteTime": {
     "end_time": "2024-03-23T07:41:27.305223Z",
     "start_time": "2024-03-23T07:41:27.300793Z"
    },
    "collapsed": false,
    "jupyter": {
     "outputs_hidden": false
    }
   },
   "outputs": [
    {
     "data": {
      "text/latex": [
       "$\\displaystyle y{\\left(t \\right)} = C_{1} + C_{2} t - \\frac{g t^{2}}{2}$"
      ],
      "text/plain": [
       "Eq(y(t), C1 + C2*t - g*t**2/2)"
      ]
     },
     "execution_count": 5,
     "metadata": {},
     "output_type": "execute_result"
    }
   ],
   "source": [
    "solution2"
   ]
  },
  {
   "cell_type": "code",
   "execution_count": 6,
   "id": "1fb912896c821f48",
   "metadata": {
    "ExecuteTime": {
     "end_time": "2024-03-23T07:42:21.588787Z",
     "start_time": "2024-03-23T07:42:21.579655Z"
    },
    "collapsed": false,
    "jupyter": {
     "outputs_hidden": false
    }
   },
   "outputs": [
    {
     "name": "stdout",
     "output_type": "stream",
     "text": [
      "Prędkość x'(t) = C2\n"
     ]
    }
   ],
   "source": [
    "# policzmy pochodne drugiego rzędu x(t) i y(t) względem t (prędkości)\n",
    "v_x = solution1.rhs.diff(t)\n",
    "v_y = solution2.rhs.diff(t)\n",
    "print(f\"Prędkość x'(t) = {v_x}\")"
   ]
  },
  {
   "cell_type": "code",
   "execution_count": 7,
   "id": "1a0be0fae781742b",
   "metadata": {
    "ExecuteTime": {
     "end_time": "2024-03-23T07:43:21.985520Z",
     "start_time": "2024-03-23T07:43:21.982995Z"
    },
    "collapsed": false,
    "jupyter": {
     "outputs_hidden": false
    }
   },
   "outputs": [
    {
     "name": "stdout",
     "output_type": "stream",
     "text": [
      "Prędkość y'(t) = C2 - g*t\n"
     ]
    }
   ],
   "source": [
    "# prędkość w kierunku y:\n",
    "print(f\"Prędkość y'(t) = {v_y}\")"
   ]
  },
  {
   "cell_type": "code",
   "execution_count": 8,
   "id": "15931b6c2c31e690",
   "metadata": {
    "ExecuteTime": {
     "end_time": "2024-03-23T07:44:46.567878Z",
     "start_time": "2024-03-23T07:44:46.565154Z"
    },
    "collapsed": false,
    "jupyter": {
     "outputs_hidden": false
    }
   },
   "outputs": [
    {
     "name": "stdout",
     "output_type": "stream",
     "text": [
      "Przyspieszenie x''(t) = 0\n"
     ]
    }
   ],
   "source": [
    "# policzmy drugie pochodne x(t) i y(t) względem t (przyspieszenia)\n",
    "a_x = v_x.diff(t)\n",
    "print(f\"Przyspieszenie x''(t) = {a_x}\")"
   ]
  },
  {
   "cell_type": "code",
   "execution_count": 9,
   "id": "a948e028ae9b566b",
   "metadata": {
    "ExecuteTime": {
     "end_time": "2024-03-23T07:44:51.502905Z",
     "start_time": "2024-03-23T07:44:51.499724Z"
    },
    "collapsed": false,
    "jupyter": {
     "outputs_hidden": false
    }
   },
   "outputs": [
    {
     "name": "stdout",
     "output_type": "stream",
     "text": [
      "Przyspieszenie y''(t) = -g\n"
     ]
    }
   ],
   "source": [
    "a_y = v_y.diff(t)\n",
    "print(f\"Przyspieszenie y''(t) = {a_y}\")"
   ]
  },
  {
   "cell_type": "markdown",
   "id": "797a5e180c653bf8",
   "metadata": {
    "collapsed": false,
    "jupyter": {
     "outputs_hidden": false
    }
   },
   "source": [
    "# Oscylator harmoniczny (klasyczny przykład równania różniczkowego z fizyki)\n",
    "\n",
    "Oscylator harmoniczny to kolejny klasyczny przykład z fizyki, który można opisać równaniami różniczkowymi. Równanie ruchu oscylatora harmonicznego można zapisać jako równanie różniczkowe zwyczajne (ODE) drugiego rzędu:\n",
    "\n",
    "$$m\\frac{d^2x}{dt^2} = -kx$$\n",
    "\n"
   ]
  },
  {
   "cell_type": "code",
   "execution_count": 10,
   "id": "4ee870e2840a83c8",
   "metadata": {
    "ExecuteTime": {
     "end_time": "2024-03-23T07:51:47.079388Z",
     "start_time": "2024-03-23T07:51:47.072542Z"
    },
    "collapsed": false,
    "jupyter": {
     "outputs_hidden": false
    }
   },
   "outputs": [
    {
     "data": {
      "text/latex": [
       "$\\displaystyle m \\frac{d^{2}}{d t^{2}} x{\\left(t \\right)} = - k x{\\left(t \\right)}$"
      ],
      "text/plain": [
       "Eq(m*Derivative(x(t), (t, 2)), -k*x(t))"
      ]
     },
     "execution_count": 10,
     "metadata": {},
     "output_type": "execute_result"
    }
   ],
   "source": [
    "# zdefiniujmy zmienne x, t, m, k jako symbole\n",
    "x, t, m, k = sp.symbols('x t m k')\n",
    "\n",
    "# zdefiniujmy funkcję x(t) jako symbol\n",
    "x = sp.Function('x')(t)\n",
    "\n",
    "# zdefiniujmy równanie różniczkowe dla oscylatora harmonicznego\n",
    "\n",
    "ode = sp.Eq(m*x.diff(t, t), -k*x)\n",
    "ode"
   ]
  },
  {
   "cell_type": "code",
   "execution_count": 11,
   "id": "dd844acc4e8030aa",
   "metadata": {
    "ExecuteTime": {
     "end_time": "2024-03-23T08:01:32.182309Z",
     "start_time": "2024-03-23T08:01:32.136951Z"
    },
    "collapsed": false,
    "jupyter": {
     "outputs_hidden": false
    }
   },
   "outputs": [
    {
     "name": "stdout",
     "output_type": "stream",
     "text": [
      "Eq(x(t), C1*exp(-t*sqrt(-k/m)) + C2*exp(t*sqrt(-k/m)))\n"
     ]
    }
   ],
   "source": [
    "# rozwiążmy równanie różniczkowe dla oscylatora harmonicznego\n",
    "solution = sp.dsolve(ode)\n",
    "print(solution)"
   ]
  },
  {
   "cell_type": "code",
   "execution_count": 12,
   "id": "b228c2a31f1d4a4e",
   "metadata": {
    "ExecuteTime": {
     "end_time": "2024-03-23T08:01:32.630798Z",
     "start_time": "2024-03-23T08:01:32.628007Z"
    },
    "collapsed": false,
    "jupyter": {
     "outputs_hidden": false
    }
   },
   "outputs": [],
   "source": [
    "# uprośćmy rozwiązanie\n",
    "solution = sp.trigsimp(solution)"
   ]
  },
  {
   "cell_type": "code",
   "execution_count": 13,
   "id": "a58609fff400cece",
   "metadata": {
    "ExecuteTime": {
     "end_time": "2024-03-23T08:01:33.156416Z",
     "start_time": "2024-03-23T08:01:33.152151Z"
    },
    "collapsed": false,
    "jupyter": {
     "outputs_hidden": false
    }
   },
   "outputs": [
    {
     "data": {
      "text/latex": [
       "$\\displaystyle x{\\left(t \\right)} = C_{1} e^{- t \\sqrt{- \\frac{k}{m}}} + C_{2} e^{t \\sqrt{- \\frac{k}{m}}}$"
      ],
      "text/plain": [
       "Eq(x(t), C1*exp(-t*sqrt(-k/m)) + C2*exp(t*sqrt(-k/m)))"
      ]
     },
     "execution_count": 13,
     "metadata": {},
     "output_type": "execute_result"
    }
   ],
   "source": [
    "solution"
   ]
  },
  {
   "cell_type": "code",
   "execution_count": 14,
   "id": "37db89938fdaca",
   "metadata": {
    "ExecuteTime": {
     "end_time": "2024-03-23T08:02:15.581649Z",
     "start_time": "2024-03-23T08:02:15.109915Z"
    },
    "collapsed": false,
    "jupyter": {
     "outputs_hidden": false
    }
   },
   "outputs": [
    {
     "data": {
      "image/png": "[encoded data removed]",
      "text/plain": [
       "<Figure size 640x480 with 1 Axes>"
      ]
     },
     "metadata": {},
     "output_type": "display_data"
    },
    {
     "data": {
      "text/plain": [
       "<sympy.plotting.plot.Plot at 0x7581d0ea2d50>"
      ]
     },
     "execution_count": 14,
     "metadata": {},
     "output_type": "execute_result"
    }
   ],
   "source": [
    "# podstawmy wartości stałych C1 i C2 do rozwiązania\n",
    "C1, C2 = sp.symbols('C1 C2')\n",
    "solution = solution.subs({C1: 1, C2: 1})#\n",
    "# podstawmy wartości stałych m, k do rozwiązania\n",
    "solution = solution.subs({m: 1, k: 1})\n",
    "# narysujmy rozwiązanie\n",
    "sp.plot(solution.rhs, (t, 0, 10), ylabel='x(t)', xlabel='t')"
   ]
  },
  {
   "cell_type": "markdown",
   "id": "721cb9959dfc207e",
   "metadata": {
    "collapsed": false,
    "jupyter": {
     "outputs_hidden": false
    }
   },
   "source": [
    "Rozwiązanie z wolfram alpha: https://www.wolframalpha.com/input?i=solve+mx%27%27%28t%29%3D-kx%28t%29"
   ]
  },
  {
   "cell_type": "markdown",
   "id": "1094b715d179ba5c",
   "metadata": {
    "collapsed": false,
    "jupyter": {
     "outputs_hidden": false
    }
   },
   "source": [
    "# RCL - klasyczny przykład równania różniczkowego z elektrotechniki\n",
    "\n",
    "Równanie różniczkowe opisujące zachowanie obwodu RCL (rezystor, kondensator, cewka) można zapisać jako równanie różniczkowe zwyczajne (ODE) pierwszego rzędu:\n",
    "\n",
    "$$L\\frac{di}{dt} + Ri + \\frac{1}{C}\\int i(t) dt = V(t)$$\n",
    "\n",
    "gdzie i(t) to prąd w obwodzie, V(t) to napięcie zewnętrzne, R to rezystancja, L to indukcyjność, a C to pojemność. Rozwiązując to równanie różniczkowe, można uzyskać prąd w obwodzie w czasie t. Możemy również użyć biblioteki SymPy do symbolicznego rozwiązania tego równania różniczkowego.\n",
    "\n",
    "Możemy to zapisać w zależności od ładunku Q(t) na kondensatorze:\n",
    "\n",
    "$$L\\frac{d^2Q}{dt^2} + R\\frac{dQ}{dt} + \\frac{1}{C}Q = V(t)$$\n"
   ]
  },
  {
   "cell_type": "code",
   "execution_count": 15,
   "id": "51ab02fc04a1326a",
   "metadata": {
    "ExecuteTime": {
     "end_time": "2024-03-23T08:38:57.100250Z",
     "start_time": "2024-03-23T08:38:57.092591Z"
    },
    "collapsed": false,
    "jupyter": {
     "outputs_hidden": false
    }
   },
   "outputs": [
    {
     "data": {
      "text/latex": [
       "$\\displaystyle L \\frac{d^{2}}{d t^{2}} Q{\\left(t \\right)} + R \\frac{d}{d t} Q{\\left(t \\right)} + \\frac{Q{\\left(t \\right)}}{C} = V{\\left(t \\right)}$"
      ],
      "text/plain": [
       "Eq(L*Derivative(Q(t), (t, 2)) + R*Derivative(Q(t), t) + Q(t)/C, V(t))"
      ]
     },
     "execution_count": 15,
     "metadata": {},
     "output_type": "execute_result"
    }
   ],
   "source": [
    "# zdefiniujmy zmienne Q, t, L, R, C jako symbole\n",
    "\n",
    "Q, t, L, R, C = sp.symbols('Q t L R C')\n",
    "\n",
    "# zdefiniujmy funkcję Q(t) jako symbol\n",
    "Q = sp.Function('Q')(t)\n",
    "\n",
    "# zdefiniujmy równanie różniczkowe dla obwodu RCL\n",
    "ode = sp.Eq(L*Q.diff(t, t) + R*Q.diff(t) + 1/C*Q, sp.Function('V')(t))\n",
    "ode"
   ]
  },
  {
   "cell_type": "code",
   "execution_count": 16,
   "id": "c647f27a81f3479",
   "metadata": {
    "ExecuteTime": {
     "end_time": "2024-03-23T08:39:02.270932Z",
     "start_time": "2024-03-23T08:38:57.525469Z"
    },
    "collapsed": false,
    "jupyter": {
     "outputs_hidden": false
    }
   },
   "outputs": [
    {
     "data": {
      "text/latex": [
       "$\\displaystyle Q{\\left(t \\right)} = \\frac{C e^{\\frac{t \\left(- R + \\frac{\\sqrt{C \\left(C R^{2} - 4 L\\right)}}{C}\\right)}{2 L}} \\int V{\\left(t \\right)} e^{\\frac{R t}{2 L}} e^{- \\frac{t \\sqrt{C \\left(C R^{2} - 4 L\\right)}}{2 C L}}\\, dt}{\\sqrt{C \\left(C R^{2} - 4 L\\right)}} - \\frac{C e^{- \\frac{t \\left(R + \\frac{\\sqrt{C \\left(C R^{2} - 4 L\\right)}}{C}\\right)}{2 L}} \\int V{\\left(t \\right)} e^{\\frac{R t}{2 L}} e^{\\frac{t \\sqrt{C \\left(C R^{2} - 4 L\\right)}}{2 C L}}\\, dt}{\\sqrt{C \\left(C R^{2} - 4 L\\right)}} + C_{1} e^{\\frac{t \\left(- R + \\frac{\\sqrt{C \\left(C R^{2} - 4 L\\right)}}{C}\\right)}{2 L}} + C_{2} e^{- \\frac{t \\left(R + \\frac{\\sqrt{C \\left(C R^{2} - 4 L\\right)}}{C}\\right)}{2 L}}$"
      ],
      "text/plain": [
       "Eq(Q(t), C*exp(t*(-R + sqrt(C*(C*R**2 - 4*L))/C)/(2*L))*Integral(V(t)*exp(R*t/(2*L))*exp(-t*sqrt(C*(C*R**2 - 4*L))/(2*C*L)), t)/sqrt(C*(C*R**2 - 4*L)) - C*exp(-t*(R + sqrt(C*(C*R**2 - 4*L))/C)/(2*L))*Integral(V(t)*exp(R*t/(2*L))*exp(t*sqrt(C*(C*R**2 - 4*L))/(2*C*L)), t)/sqrt(C*(C*R**2 - 4*L)) + C1*exp(t*(-R + sqrt(C*(C*R**2 - 4*L))/C)/(2*L)) + C2*exp(-t*(R + sqrt(C*(C*R**2 - 4*L))/C)/(2*L)))"
      ]
     },
     "execution_count": 16,
     "metadata": {},
     "output_type": "execute_result"
    }
   ],
   "source": [
    "# rozwiążmy równanie różniczkowe dla obwodu RCL\n",
    "solution = sp.dsolve(ode)\n",
    "solution\n"
   ]
  },
  {
   "cell_type": "code",
   "execution_count": 17,
   "id": "94d7a857ceecc951",
   "metadata": {
    "ExecuteTime": {
     "end_time": "2024-03-23T08:39:03.669676Z",
     "start_time": "2024-03-23T08:39:03.425145Z"
    },
    "collapsed": false,
    "jupyter": {
     "outputs_hidden": false
    }
   },
   "outputs": [
    {
     "data": {
      "text/latex": [
       "$\\displaystyle Q{\\left(t \\right)} = C_{1} e^{\\frac{t \\left(- R + \\frac{\\sqrt{C \\left(C R^{2} - 4 L\\right)}}{C}\\right)}{2 L}} + C_{2} e^{- \\frac{t \\left(R + \\frac{\\sqrt{C \\left(C R^{2} - 4 L\\right)}}{C}\\right)}{2 L}}$"
      ],
      "text/plain": [
       "Eq(Q(t), C1*exp(t*(-R + sqrt(C*(C*R**2 - 4*L))/C)/(2*L)) + C2*exp(-t*(R + sqrt(C*(C*R**2 - 4*L))/C)/(2*L)))"
      ]
     },
     "execution_count": 17,
     "metadata": {},
     "output_type": "execute_result"
    }
   ],
   "source": [
    "# Rozwiążmy równanie różniczkowe dla obwodu RCL w dla v(t) = 0\n",
    "solution = sp.dsolve(ode.subs(sp.Function('V')(t), 0))\n",
    "solution"
   ]
  },
  {
   "cell_type": "code",
   "execution_count": 18,
   "id": "eeb5a68815a0c849",
   "metadata": {
    "ExecuteTime": {
     "end_time": "2024-03-23T08:39:08.790615Z",
     "start_time": "2024-03-23T08:39:08.782930Z"
    },
    "collapsed": false,
    "jupyter": {
     "outputs_hidden": false
    }
   },
   "outputs": [
    {
     "data": {
      "text/latex": [
       "$\\displaystyle \\frac{C_{1} \\left(- R + \\frac{\\sqrt{C \\left(C R^{2} - 4 L\\right)}}{C}\\right) e^{\\frac{t \\left(- R + \\frac{\\sqrt{C \\left(C R^{2} - 4 L\\right)}}{C}\\right)}{2 L}}}{2 L} - \\frac{C_{2} \\left(R + \\frac{\\sqrt{C \\left(C R^{2} - 4 L\\right)}}{C}\\right) e^{- \\frac{t \\left(R + \\frac{\\sqrt{C \\left(C R^{2} - 4 L\\right)}}{C}\\right)}{2 L}}}{2 L}$"
      ],
      "text/plain": [
       "C1*(-R + sqrt(C*(C*R**2 - 4*L))/C)*exp(t*(-R + sqrt(C*(C*R**2 - 4*L))/C)/(2*L))/(2*L) - C2*(R + sqrt(C*(C*R**2 - 4*L))/C)*exp(-t*(R + sqrt(C*(C*R**2 - 4*L))/C)/(2*L))/(2*L)"
      ]
     },
     "execution_count": 18,
     "metadata": {},
     "output_type": "execute_result"
    }
   ],
   "source": [
    "# policzmy pochodną rozwiązania Q(t) względem t (prąd)\n",
    "i = solution.rhs.diff(t)\n",
    "i"
   ]
  },
  {
   "cell_type": "code",
   "execution_count": 19,
   "id": "83b9d3202f4c74a0",
   "metadata": {
    "ExecuteTime": {
     "end_time": "2024-03-23T08:39:32.083981Z",
     "start_time": "2024-03-23T08:39:32.008202Z"
    },
    "collapsed": false,
    "jupyter": {
     "outputs_hidden": false
    }
   },
   "outputs": [
    {
     "data": {
      "text/latex": [
       "$\\displaystyle Q{\\left(t \\right)} = C_{1} e^{- t \\sqrt{- \\frac{1}{C L}}} + C_{2} e^{t \\sqrt{- \\frac{1}{C L}}}$"
      ],
      "text/plain": [
       "Eq(Q(t), C1*exp(-t*sqrt(-1/(C*L))) + C2*exp(t*sqrt(-1/(C*L))))"
      ]
     },
     "execution_count": 19,
     "metadata": {},
     "output_type": "execute_result"
    }
   ],
   "source": [
    "# a co jeśli R = 0 oraz V(t) = 0\n",
    "solution = sp.dsolve(ode.subs({R: 0, sp.Function('V')(t): 0}))\n",
    "solution"
   ]
  },
  {
   "cell_type": "code",
   "execution_count": 20,
   "id": "7161edf7991db52f",
   "metadata": {
    "ExecuteTime": {
     "end_time": "2024-03-23T08:39:43.493627Z",
     "start_time": "2024-03-23T08:39:43.487072Z"
    },
    "collapsed": false,
    "jupyter": {
     "outputs_hidden": false
    }
   },
   "outputs": [
    {
     "data": {
      "text/latex": [
       "$\\displaystyle - C_{1} \\sqrt{- \\frac{1}{C L}} e^{- t \\sqrt{- \\frac{1}{C L}}} + C_{2} \\sqrt{- \\frac{1}{C L}} e^{t \\sqrt{- \\frac{1}{C L}}}$"
      ],
      "text/plain": [
       "-C1*sqrt(-1/(C*L))*exp(-t*sqrt(-1/(C*L))) + C2*sqrt(-1/(C*L))*exp(t*sqrt(-1/(C*L)))"
      ]
     },
     "execution_count": 20,
     "metadata": {},
     "output_type": "execute_result"
    }
   ],
   "source": [
    "# policzmy pochodną rozwiązania Q(t) względem t (prąd)\n",
    "i = solution.rhs.diff(t)\n",
    "i"
   ]
  },
  {
   "cell_type": "code",
   "execution_count": null,
   "id": "9fe0872aa3221b77",
   "metadata": {
    "collapsed": false,
    "jupyter": {
     "outputs_hidden": false
    }
   },
   "outputs": [],
   "source": []
  }
 ],
 "metadata": {
  "kernelspec": {
   "display_name": "Python 3 (ipykernel)",
   "language": "python",
   "name": "python3"
  },
  "language_info": {
   "codemirror_mode": {
    "name": "ipython",
    "version": 3
   },
   "file_extension": ".py",
   "mimetype": "text/x-python",
   "name": "python",
   "nbconvert_exporter": "python",
   "pygments_lexer": "ipython3",
   "version": "3.11.5"
  }
 },
 "nbformat": 4,
 "nbformat_minor": 5
}
