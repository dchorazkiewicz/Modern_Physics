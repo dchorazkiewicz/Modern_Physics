{
 "cells": [
  {
   "cell_type": "code",
   "execution_count": 1,
   "id": "initial_id",
   "metadata": {
    "collapsed": true,
    "ExecuteTime": {
     "end_time": "2024-03-21T12:01:25.343502Z",
     "start_time": "2024-03-21T12:01:25.098010Z"
    }
   },
   "outputs": [],
   "source": [
    "import numpy as np # biblioteca numeryczna\n",
    "import sympy as sp # biblioteka do obliczeń symbolicznych"
   ]
  },
  {
   "cell_type": "markdown",
   "source": [
    "# 1.1 Podstawowe numeryczne operacje na macierzach"
   ],
   "metadata": {
    "collapsed": false
   },
   "id": "39bd98a269a80a2b"
  },
  {
   "cell_type": "code",
   "outputs": [
    {
     "data": {
      "text/plain": "array([[1, 2],\n       [3, 4]])"
     },
     "execution_count": 23,
     "metadata": {},
     "output_type": "execute_result"
    }
   ],
   "source": [
    "# Zdefiniujmy macierz A\n",
    "A = np.array([[1, 2], [3, 4]])\n",
    "A"
   ],
   "metadata": {
    "collapsed": false,
    "ExecuteTime": {
     "end_time": "2024-03-21T12:15:23.598472Z",
     "start_time": "2024-03-21T12:15:23.594720Z"
    }
   },
   "id": "ab3dcda1c1bc7631",
   "execution_count": 23
  },
  {
   "cell_type": "code",
   "outputs": [
    {
     "data": {
      "text/plain": "array([[5, 6],\n       [7, 8]])"
     },
     "execution_count": 35,
     "metadata": {},
     "output_type": "execute_result"
    }
   ],
   "source": [
    "# Zdefiniujmy macierz B\n",
    "B = np.array([[5, 6], [7, 8]])\n",
    "B"
   ],
   "metadata": {
    "collapsed": false,
    "ExecuteTime": {
     "end_time": "2024-03-21T12:20:16.664258Z",
     "start_time": "2024-03-21T12:20:16.660313Z"
    }
   },
   "id": "4ebb0c0ae8206df7",
   "execution_count": 35
  },
  {
   "cell_type": "code",
   "outputs": [
    {
     "name": "stdout",
     "output_type": "stream",
     "text": [
      "Rozmiar macierzy A:  (2, 2)\n"
     ]
    }
   ],
   "source": [
    "# Informacje o macierzy\n",
    "print(\"Rozmiar macierzy A: \", A.shape)"
   ],
   "metadata": {
    "collapsed": false,
    "ExecuteTime": {
     "end_time": "2024-03-21T12:20:16.832403Z",
     "start_time": "2024-03-21T12:20:16.828779Z"
    }
   },
   "id": "45b97ecea2078d09",
   "execution_count": 36
  },
  {
   "cell_type": "code",
   "outputs": [
    {
     "name": "stdout",
     "output_type": "stream",
     "text": [
      "Pierwszy wiersz macierzy A:  [1 2]\n"
     ]
    }
   ],
   "source": [
    "# pierwszy wiersz\n",
    "print(\"Pierwszy wiersz macierzy A: \", A[0,:])"
   ],
   "metadata": {
    "collapsed": false,
    "ExecuteTime": {
     "end_time": "2024-03-21T12:20:17.044608Z",
     "start_time": "2024-03-21T12:20:17.041770Z"
    }
   },
   "id": "6bbabea777ee7f03",
   "execution_count": 37
  },
  {
   "cell_type": "code",
   "outputs": [
    {
     "name": "stdout",
     "output_type": "stream",
     "text": [
      "Pierwsza kolumna macierzy A: [1 3]\n"
     ]
    }
   ],
   "source": [
    "# pierwsza kolumna\n",
    "print(\"Pierwsza kolumna macierzy A:\", A[:,0])"
   ],
   "metadata": {
    "collapsed": false,
    "ExecuteTime": {
     "end_time": "2024-03-21T12:20:17.268734Z",
     "start_time": "2024-03-21T12:20:17.265692Z"
    }
   },
   "id": "f91f7e0ce7db09d",
   "execution_count": 38
  },
  {
   "cell_type": "code",
   "outputs": [
    {
     "data": {
      "text/plain": "array([[ 6,  8],\n       [10, 12]])"
     },
     "execution_count": 39,
     "metadata": {},
     "output_type": "execute_result"
    }
   ],
   "source": [
    "# Dodawanie macierzy\n",
    "C = A + B\n",
    "C"
   ],
   "metadata": {
    "collapsed": false,
    "ExecuteTime": {
     "end_time": "2024-03-21T12:20:17.485513Z",
     "start_time": "2024-03-21T12:20:17.481855Z"
    }
   },
   "id": "312f46caeb72cfd6",
   "execution_count": 39
  },
  {
   "cell_type": "code",
   "outputs": [
    {
     "data": {
      "text/plain": "array([[19, 22],\n       [43, 50]])"
     },
     "execution_count": 40,
     "metadata": {},
     "output_type": "execute_result"
    }
   ],
   "source": [
    "# Mnożenie macierzy\n",
    "D = A @ B\n",
    "D"
   ],
   "metadata": {
    "collapsed": false,
    "ExecuteTime": {
     "end_time": "2024-03-21T12:20:17.670730Z",
     "start_time": "2024-03-21T12:20:17.667931Z"
    }
   },
   "id": "b5a358fe755a88f5",
   "execution_count": 40
  },
  {
   "cell_type": "code",
   "outputs": [
    {
     "data": {
      "text/plain": "array([[-2. ,  1. ],\n       [ 1.5, -0.5]])"
     },
     "execution_count": 41,
     "metadata": {},
     "output_type": "execute_result"
    }
   ],
   "source": [
    "# Odwrotność macierzy\n",
    "E = np.linalg.inv(A)\n",
    "E"
   ],
   "metadata": {
    "collapsed": false,
    "ExecuteTime": {
     "end_time": "2024-03-21T12:20:17.888436Z",
     "start_time": "2024-03-21T12:20:17.884785Z"
    }
   },
   "id": "4ed8d83a7003b35c",
   "execution_count": 41
  },
  {
   "cell_type": "markdown",
   "source": [
    "# 1.2 Operacje na macierzach w bibliotece SymPy"
   ],
   "metadata": {
    "collapsed": false
   },
   "id": "1cfcc84f36cf4cf0"
  },
  {
   "cell_type": "code",
   "outputs": [
    {
     "data": {
      "text/plain": "Matrix([\n[1, 2],\n[3, 4]])",
      "text/latex": "$\\displaystyle \\left[\\begin{matrix}1 & 2\\\\3 & 4\\end{matrix}\\right]$"
     },
     "execution_count": 42,
     "metadata": {},
     "output_type": "execute_result"
    }
   ],
   "source": [
    "# Zdefiniujmy macierz A\n",
    "A = sp.Matrix([[1, 2], [3, 4]])\n",
    "A"
   ],
   "metadata": {
    "collapsed": false,
    "ExecuteTime": {
     "end_time": "2024-03-21T12:20:18.340025Z",
     "start_time": "2024-03-21T12:20:18.331397Z"
    }
   },
   "id": "9d4b2b84d4a9254",
   "execution_count": 42
  },
  {
   "cell_type": "code",
   "outputs": [
    {
     "data": {
      "text/plain": "Matrix([\n[5, 6],\n[7, 8]])",
      "text/latex": "$\\displaystyle \\left[\\begin{matrix}5 & 6\\\\7 & 8\\end{matrix}\\right]$"
     },
     "execution_count": 43,
     "metadata": {},
     "output_type": "execute_result"
    }
   ],
   "source": [
    "# Zdefiniujmy macierz B\n",
    "B = sp.Matrix([[5, 6], [7, 8]])\n",
    "B"
   ],
   "metadata": {
    "collapsed": false,
    "ExecuteTime": {
     "end_time": "2024-03-21T12:20:18.625832Z",
     "start_time": "2024-03-21T12:20:18.622363Z"
    }
   },
   "id": "858d69a0c34d38f8",
   "execution_count": 43
  },
  {
   "cell_type": "code",
   "outputs": [
    {
     "data": {
      "text/plain": "Matrix([\n[19, 22],\n[43, 50]])",
      "text/latex": "$\\displaystyle \\left[\\begin{matrix}19 & 22\\\\43 & 50\\end{matrix}\\right]$"
     },
     "execution_count": 44,
     "metadata": {},
     "output_type": "execute_result"
    }
   ],
   "source": [
    "# Mnożenie macierzy\n",
    "C = A * B\n",
    "C"
   ],
   "metadata": {
    "collapsed": false,
    "ExecuteTime": {
     "end_time": "2024-03-21T12:20:18.952811Z",
     "start_time": "2024-03-21T12:20:18.949467Z"
    }
   },
   "id": "a9034ae777977bb1",
   "execution_count": 44
  },
  {
   "cell_type": "code",
   "outputs": [
    {
     "data": {
      "text/plain": "Matrix([\n[ -2,    1],\n[3/2, -1/2]])",
      "text/latex": "$\\displaystyle \\left[\\begin{matrix}-2 & 1\\\\\\frac{3}{2} & - \\frac{1}{2}\\end{matrix}\\right]$"
     },
     "execution_count": 45,
     "metadata": {},
     "output_type": "execute_result"
    }
   ],
   "source": [
    "# Odwrotność macierzy\n",
    "D = A.inv()\n",
    "D"
   ],
   "metadata": {
    "collapsed": false,
    "ExecuteTime": {
     "end_time": "2024-03-21T12:20:19.770198Z",
     "start_time": "2024-03-21T12:20:19.762409Z"
    }
   },
   "id": "ec3d8232f1190c2b",
   "execution_count": 45
  },
  {
   "cell_type": "code",
   "outputs": [],
   "source": [],
   "metadata": {
    "collapsed": false
   },
   "id": "6d08a45df2e459ff"
  }
 ],
 "metadata": {
  "kernelspec": {
   "display_name": "Python 3",
   "language": "python",
   "name": "python3"
  },
  "language_info": {
   "codemirror_mode": {
    "name": "ipython",
    "version": 2
   },
   "file_extension": ".py",
   "mimetype": "text/x-python",
   "name": "python",
   "nbconvert_exporter": "python",
   "pygments_lexer": "ipython2",
   "version": "2.7.6"
  }
 },
 "nbformat": 4,
 "nbformat_minor": 5
}
