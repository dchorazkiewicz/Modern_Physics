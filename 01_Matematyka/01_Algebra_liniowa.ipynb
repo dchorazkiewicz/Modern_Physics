{
 "cells": [
  {
   "cell_type": "code",
   "execution_count": 41,
   "id": "initial_id",
   "metadata": {
    "ExecuteTime": {
     "end_time": "2024-03-23T05:05:26.288192Z",
     "start_time": "2024-03-23T05:05:26.285786Z"
    }
   },
   "outputs": [],
   "source": [
    "import numpy as np # biblioteca numeryczna\n",
    "import sympy as sp # biblioteka do obliczeń symbolicznych"
   ]
  },
  {
   "cell_type": "markdown",
   "id": "13184892c69065bb",
   "metadata": {
    "collapsed": false
   },
   "source": [
    "# Wprowadzenie\n",
    "\n",
    "W niniejszym notebooku zaprezentowane zostaną podstawowe operacje na macierzach w języku Python. W tym celu wykorzystane zostaną dwie biblioteki: NumPy oraz SymPy. NumPy jest biblioteką numeryczną, która pozwala na wykonywanie operacji na macierzach, wektorach oraz tensorach. SymPy jest biblioteką do obliczeń symbolicznych, która pozwala na wykonywanie operacji na zmiennych symbolicznych. W poniższych przykładach zostaną przedstawione podstawowe operacje na macierzach, takie jak dodawanie, mnożenie, odwrotność macierzy."
   ]
  },
  {
   "cell_type": "markdown",
   "id": "39bd98a269a80a2b",
   "metadata": {
    "collapsed": false
   },
   "source": [
    "# 1.1 Podstawowe numeryczne operacje na macierzach"
   ]
  },
  {
   "cell_type": "code",
   "execution_count": 42,
   "id": "ab3dcda1c1bc7631",
   "metadata": {
    "collapsed": false,
    "ExecuteTime": {
     "end_time": "2024-03-23T05:05:30.946616Z",
     "start_time": "2024-03-23T05:05:30.943125Z"
    }
   },
   "outputs": [
    {
     "data": {
      "text/plain": "array([[1, 2],\n       [3, 4]])"
     },
     "execution_count": 42,
     "metadata": {},
     "output_type": "execute_result"
    }
   ],
   "source": [
    "# Zdefiniujmy macierz A\n",
    "A = np.array([[1, 2], [3, 4]])\n",
    "A"
   ]
  },
  {
   "cell_type": "code",
   "execution_count": 43,
   "id": "4ebb0c0ae8206df7",
   "metadata": {
    "collapsed": false,
    "ExecuteTime": {
     "end_time": "2024-03-23T05:05:31.555306Z",
     "start_time": "2024-03-23T05:05:31.551818Z"
    }
   },
   "outputs": [
    {
     "data": {
      "text/plain": "array([[5, 6],\n       [7, 8]])"
     },
     "execution_count": 43,
     "metadata": {},
     "output_type": "execute_result"
    }
   ],
   "source": [
    "# Zdefiniujmy macierz B\n",
    "B = np.array([[5, 6], [7, 8]])\n",
    "B"
   ]
  },
  {
   "cell_type": "code",
   "execution_count": 44,
   "id": "45b97ecea2078d09",
   "metadata": {
    "collapsed": false,
    "ExecuteTime": {
     "end_time": "2024-03-23T05:05:32.146967Z",
     "start_time": "2024-03-23T05:05:32.144181Z"
    }
   },
   "outputs": [
    {
     "name": "stdout",
     "output_type": "stream",
     "text": [
      "Rozmiar macierzy A:  (2, 2)\n"
     ]
    }
   ],
   "source": [
    "# Informacje o macierzy\n",
    "print(\"Rozmiar macierzy A: \", A.shape)"
   ]
  },
  {
   "cell_type": "code",
   "execution_count": 45,
   "id": "6bbabea777ee7f03",
   "metadata": {
    "collapsed": false,
    "ExecuteTime": {
     "end_time": "2024-03-23T05:05:32.887275Z",
     "start_time": "2024-03-23T05:05:32.884165Z"
    }
   },
   "outputs": [
    {
     "name": "stdout",
     "output_type": "stream",
     "text": [
      "Pierwszy wiersz macierzy A:  [1 2]\n"
     ]
    }
   ],
   "source": [
    "# pierwszy wiersz\n",
    "print(\"Pierwszy wiersz macierzy A: \", A[0,:])"
   ]
  },
  {
   "cell_type": "code",
   "execution_count": 46,
   "id": "f91f7e0ce7db09d",
   "metadata": {
    "collapsed": false,
    "ExecuteTime": {
     "end_time": "2024-03-23T05:05:33.345829Z",
     "start_time": "2024-03-23T05:05:33.343081Z"
    }
   },
   "outputs": [
    {
     "name": "stdout",
     "output_type": "stream",
     "text": [
      "Pierwsza kolumna macierzy A: [1 3]\n"
     ]
    }
   ],
   "source": [
    "# pierwsza kolumna\n",
    "print(\"Pierwsza kolumna macierzy A:\", A[:,0])"
   ]
  },
  {
   "cell_type": "code",
   "execution_count": 47,
   "id": "312f46caeb72cfd6",
   "metadata": {
    "collapsed": false,
    "ExecuteTime": {
     "end_time": "2024-03-23T05:05:33.775730Z",
     "start_time": "2024-03-23T05:05:33.772208Z"
    }
   },
   "outputs": [
    {
     "data": {
      "text/plain": "array([[ 6,  8],\n       [10, 12]])"
     },
     "execution_count": 47,
     "metadata": {},
     "output_type": "execute_result"
    }
   ],
   "source": [
    "# Dodawanie macierzy\n",
    "C = A + B\n",
    "C"
   ]
  },
  {
   "cell_type": "code",
   "execution_count": 48,
   "id": "b5a358fe755a88f5",
   "metadata": {
    "collapsed": false,
    "ExecuteTime": {
     "end_time": "2024-03-23T05:05:34.353833Z",
     "start_time": "2024-03-23T05:05:34.349206Z"
    }
   },
   "outputs": [
    {
     "data": {
      "text/plain": "array([[19, 22],\n       [43, 50]])"
     },
     "execution_count": 48,
     "metadata": {},
     "output_type": "execute_result"
    }
   ],
   "source": [
    "# Mnożenie macierzy\n",
    "D = A @ B\n",
    "D"
   ]
  },
  {
   "cell_type": "code",
   "execution_count": 49,
   "id": "4ed8d83a7003b35c",
   "metadata": {
    "collapsed": false,
    "ExecuteTime": {
     "end_time": "2024-03-23T05:05:34.813433Z",
     "start_time": "2024-03-23T05:05:34.809947Z"
    }
   },
   "outputs": [
    {
     "data": {
      "text/plain": "array([[-2. ,  1. ],\n       [ 1.5, -0.5]])"
     },
     "execution_count": 49,
     "metadata": {},
     "output_type": "execute_result"
    }
   ],
   "source": [
    "# Odwrotność macierzy\n",
    "E = np.linalg.inv(A)\n",
    "E"
   ]
  },
  {
   "cell_type": "code",
   "execution_count": 50,
   "id": "42aece5d18e97d70",
   "metadata": {
    "collapsed": false,
    "ExecuteTime": {
     "end_time": "2024-03-23T05:05:35.481735Z",
     "start_time": "2024-03-23T05:05:35.478478Z"
    }
   },
   "outputs": [
    {
     "data": {
      "text/plain": "array([[1.0000000e+00, 0.0000000e+00],\n       [8.8817842e-16, 1.0000000e+00]])"
     },
     "execution_count": 50,
     "metadata": {},
     "output_type": "execute_result"
    }
   ],
   "source": [
    "# własności macierzy odwrotnej A * A_inv = A_inv * A = I\n",
    "np.dot(A, E)"
   ]
  },
  {
   "cell_type": "markdown",
   "id": "e324f1c45e3d151f",
   "metadata": {
    "collapsed": false
   },
   "source": [
    "# Przykład rozwiązania układu równań"
   ]
  },
  {
   "cell_type": "markdown",
   "id": "9fc97ffff5bca6af",
   "metadata": {
    "collapsed": false
   },
   "source": [
    "Teraz możemy wykorzystać bibliotekę w.w. rozwiązania układu równań\n",
    "Załóżmy, że mamy układ równań:\n",
    "\n",
    "\\begin{equation}\n",
    "\\begin{cases}\n",
    "x + 2y = 5 \\\\\n",
    "3x + 4y = 7\n",
    "\\end{cases}\n",
    "\\end{equation}\n",
    "\n",
    "Rozwiązanie tego układu równań można zapisać w postaci macierzowej. W naszym przypadku układ równań można zapisać jako:\n",
    "\n",
    "\\begin{equation}\n",
    "\\begin{bmatrix}\n",
    "1 & 2 \\\\\n",
    "3 & 4\n",
    "\\end{bmatrix}\n",
    "\\begin{bmatrix}\n",
    "x \\\\\n",
    "y\n",
    "\\end{bmatrix}   \n",
    "=\n",
    "\\begin{bmatrix}\n",
    "5 \\\\\n",
    "7\n",
    "\\end{bmatrix}\n",
    "\\end{equation}\n",
    "\n",
    "Zakodujmy to w Pythonie za pomocą biblioteki NumPy:"
   ]
  },
  {
   "cell_type": "code",
   "execution_count": 51,
   "id": "bdae8c3f4a1d3832",
   "metadata": {
    "collapsed": false,
    "ExecuteTime": {
     "end_time": "2024-03-23T05:05:47.458884Z",
     "start_time": "2024-03-23T05:05:47.455272Z"
    }
   },
   "outputs": [
    {
     "data": {
      "text/plain": "array([-3.,  4.])"
     },
     "execution_count": 51,
     "metadata": {},
     "output_type": "execute_result"
    }
   ],
   "source": [
    "# Zdefiniujmy macierz A\n",
    "A = np.array([[1, 2], [3, 4]])\n",
    "# Zdefiniujmy wektor wynikowy\n",
    "b = np.array([5, 7])\n",
    "# Rozwiązanie układu równań\n",
    "x = np.linalg.solve(A, b)\n",
    "x"
   ]
  },
  {
   "cell_type": "code",
   "execution_count": 52,
   "id": "ec07ed878a7c3c7c",
   "metadata": {
    "collapsed": false,
    "ExecuteTime": {
     "end_time": "2024-03-23T05:05:47.980266Z",
     "start_time": "2024-03-23T05:05:47.975716Z"
    }
   },
   "outputs": [
    {
     "data": {
      "text/plain": "array([5., 7.])"
     },
     "execution_count": 52,
     "metadata": {},
     "output_type": "execute_result"
    }
   ],
   "source": [
    "# Sprawdzenie rozwiązania\n",
    "np.dot(A, x)"
   ]
  },
  {
   "cell_type": "markdown",
   "id": "20b3a64dcd4643ce",
   "metadata": {
    "collapsed": false
   },
   "source": [
    "Rozwiązanie przez obliczenie odwrotności macierzy:\n",
    "\n",
    "\\begin{equation}\n",
    "\\begin{bmatrix}\n",
    "x \\\\\n",
    "y\n",
    "\\end{bmatrix}\n",
    "=\n",
    "\\begin{bmatrix}\n",
    "1 & 2 \\\\\n",
    "3 & 4\n",
    "\\end{bmatrix}^{-1}\n",
    "\\begin{bmatrix}\n",
    "5 \\\\\n",
    "7\n",
    "\\end{bmatrix}\n",
    "\\end{equation}\n"
   ]
  },
  {
   "cell_type": "code",
   "execution_count": 53,
   "id": "3cd919ac7b29b910",
   "metadata": {
    "collapsed": false,
    "ExecuteTime": {
     "end_time": "2024-03-23T05:05:50.099799Z",
     "start_time": "2024-03-23T05:05:50.096560Z"
    }
   },
   "outputs": [
    {
     "data": {
      "text/plain": "array([-3.,  4.])"
     },
     "execution_count": 53,
     "metadata": {},
     "output_type": "execute_result"
    }
   ],
   "source": [
    "# Obliczenie odwrotności macierzy\n",
    "A_inv = np.linalg.inv(A)\n",
    "# Rozwiązanie układu równań\n",
    "x = A_inv @ b\n",
    "x"
   ]
  },
  {
   "cell_type": "markdown",
   "id": "ebcf2b4e69936371",
   "metadata": {
    "collapsed": false
   },
   "source": [
    "# Przykład optymalizacji linowej\n",
    "\n",
    "Minimalizacja funkcji celu:\n",
    "$$\n",
    "\\text{Minimalizacja} \\quad -x_1 + 4x_2\n",
    "$$\n",
    "\n",
    "Przy ograniczeniach:\n",
    "\\begin{align*}\n",
    "& x_1 + x_2 \\leq 6 \\\\\n",
    "& -3x_1 + x_2 \\leq 2\\\\\n",
    "& x_1 \\geq 0, x_2 \\geq 0\n",
    "\\end{align*}\n",
    "\n",
    "WWW: https://pl.wikipedia.org/wiki/Programowanie_liniowe"
   ]
  },
  {
   "cell_type": "code",
   "execution_count": 54,
   "id": "3579f176fc2e86e1",
   "metadata": {
    "collapsed": false,
    "ExecuteTime": {
     "end_time": "2024-03-23T05:05:52.255449Z",
     "start_time": "2024-03-23T05:05:52.249160Z"
    }
   },
   "outputs": [
    {
     "name": "stdout",
     "output_type": "stream",
     "text": [
      "Wartości zmiennych decyzyjnych:\n",
      "[6. 0.]\n",
      "Wartość funkcji celu (minimalna wartość): -6.0\n"
     ]
    }
   ],
   "source": [
    "import numpy as np\n",
    "import matplotlib.pyplot as plt\n",
    "from scipy.optimize import linprog\n",
    "\n",
    "# Definicja funkcji celu i ograniczeń\n",
    "c = np.array([-1, 4])  # współczynniki funkcji celu do minimalizacji: -x1 + 4x2\n",
    "A = np.array([[1, 1], [-3, 1]])  # macierz współczynników ograniczeń lewostronnych\n",
    "b = np.array([6, 2])  # wektor ograniczeń lewostronnych\n",
    "\n",
    "# Dodanie ograniczeń non-negativity dla x1 i x2\n",
    "x1_bounds = (0, None)\n",
    "x2_bounds = (0, None)\n",
    "\n",
    "# Rozwiązanie problemu optymalizacji liniowej z uwzględnieniem ograniczeń non-negativity\n",
    "res = linprog(c, A_ub=A, b_ub=b, bounds=[x1_bounds, x2_bounds])\n",
    "\n",
    "# Wydrukowanie wyników\n",
    "print(\"Wartości zmiennych decyzyjnych:\")\n",
    "print(res.x)\n",
    "print(\"Wartość funkcji celu (minimalna wartość):\", res.fun)"
   ]
  },
  {
   "cell_type": "code",
   "execution_count": 55,
   "id": "cd23d923db71c196",
   "metadata": {
    "collapsed": false,
    "ExecuteTime": {
     "end_time": "2024-03-23T05:05:52.757309Z",
     "start_time": "2024-03-23T05:05:52.638669Z"
    }
   },
   "outputs": [
    {
     "data": {
      "text/plain": "<Figure size 1000x700 with 2 Axes>",
      "image/png": "[encoded data removed]"
     },
     "metadata": {},
     "output_type": "display_data"
    }
   ],
   "source": [
    "# Wizualizacja\n",
    "fig, ax = plt.subplots()\n",
    "fig.set_size_inches(10, 7)\n",
    "\n",
    "x1 = np.linspace(0, 8, 100)\n",
    "x2 = np.linspace(0, 8, 100)\n",
    "X1, X2 = np.meshgrid(x1, x2)\n",
    "Z = -X1 + 4*X2\n",
    "\n",
    "plt.contourf(X1, X2, Z, levels=50)\n",
    "plt.plot([0, 6], [6, 0], 'r', label='x1 + x2 = 6')\n",
    "plt.plot([0, 2], [2, 8], 'g', label='-3x1 + x2 = 2')\n",
    "plt.scatter(res.x[0], res.x[1], color='red', label='Rozwiązanie', s=400)\n",
    "plt.xlabel('x1')\n",
    "plt.ylabel('x2')\n",
    "plt.legend()\n",
    "plt.colorbar()\n",
    "\n",
    "plt.xlim(0, 8)\n",
    "plt.ylim(0, 8)\n",
    "\n",
    "plt.show()"
   ]
  },
  {
   "cell_type": "markdown",
   "id": "1cfcc84f36cf4cf0",
   "metadata": {
    "collapsed": false
   },
   "source": [
    "# 1.2 Operacje na macierzach w bibliotece SymPy"
   ]
  },
  {
   "cell_type": "code",
   "execution_count": 56,
   "id": "9d4b2b84d4a9254",
   "metadata": {
    "collapsed": false,
    "ExecuteTime": {
     "end_time": "2024-03-23T05:05:53.899392Z",
     "start_time": "2024-03-23T05:05:53.894341Z"
    }
   },
   "outputs": [
    {
     "data": {
      "text/plain": "Matrix([\n[1, 2],\n[3, 4]])",
      "text/latex": "$\\displaystyle \\left[\\begin{matrix}1 & 2\\\\3 & 4\\end{matrix}\\right]$"
     },
     "execution_count": 56,
     "metadata": {},
     "output_type": "execute_result"
    }
   ],
   "source": [
    "# Zdefiniujmy macierz A\n",
    "A = sp.Matrix([[1, 2], [3, 4]])\n",
    "A"
   ]
  },
  {
   "cell_type": "code",
   "execution_count": 57,
   "id": "858d69a0c34d38f8",
   "metadata": {
    "collapsed": false,
    "ExecuteTime": {
     "end_time": "2024-03-23T05:05:54.632239Z",
     "start_time": "2024-03-23T05:05:54.628562Z"
    }
   },
   "outputs": [
    {
     "data": {
      "text/plain": "Matrix([\n[5, 6],\n[7, 8]])",
      "text/latex": "$\\displaystyle \\left[\\begin{matrix}5 & 6\\\\7 & 8\\end{matrix}\\right]$"
     },
     "execution_count": 57,
     "metadata": {},
     "output_type": "execute_result"
    }
   ],
   "source": [
    "# Zdefiniujmy macierz B\n",
    "B = sp.Matrix([[5, 6], [7, 8]])\n",
    "B"
   ]
  },
  {
   "cell_type": "code",
   "execution_count": 58,
   "id": "a9034ae777977bb1",
   "metadata": {
    "collapsed": false,
    "ExecuteTime": {
     "end_time": "2024-03-23T05:05:54.978460Z",
     "start_time": "2024-03-23T05:05:54.974087Z"
    }
   },
   "outputs": [
    {
     "data": {
      "text/plain": "Matrix([\n[19, 22],\n[43, 50]])",
      "text/latex": "$\\displaystyle \\left[\\begin{matrix}19 & 22\\\\43 & 50\\end{matrix}\\right]$"
     },
     "execution_count": 58,
     "metadata": {},
     "output_type": "execute_result"
    }
   ],
   "source": [
    "# Mnożenie macierzy\n",
    "C = A * B\n",
    "C"
   ]
  },
  {
   "cell_type": "code",
   "execution_count": 59,
   "id": "ec3d8232f1190c2b",
   "metadata": {
    "collapsed": false,
    "ExecuteTime": {
     "end_time": "2024-03-23T05:05:55.260126Z",
     "start_time": "2024-03-23T05:05:55.256673Z"
    }
   },
   "outputs": [
    {
     "data": {
      "text/plain": "Matrix([\n[ -2,    1],\n[3/2, -1/2]])",
      "text/latex": "$\\displaystyle \\left[\\begin{matrix}-2 & 1\\\\\\frac{3}{2} & - \\frac{1}{2}\\end{matrix}\\right]$"
     },
     "execution_count": 59,
     "metadata": {},
     "output_type": "execute_result"
    }
   ],
   "source": [
    "# Odwrotność macierzy\n",
    "D = A.inv()\n",
    "D"
   ]
  },
  {
   "cell_type": "markdown",
   "source": [
    "# Macierzowy opis obrotów\n",
    "\n",
    "Załóżmy, że mamy punkt $(x,y)$ w przedstawiony w układzie współrzędnych kartezjańskich. Chcemy wykonać obroty tego punktu o kąty $\\alpha$ wokół centrum układu współrzędnych. Współrzędne punktu po obrocie o kąt $\\alpha$ to $(x', y')$. Możemy to zapisać w postaci macierzowej:\n",
    "\n",
    "\\begin{equation}\n",
    "\\begin{bmatrix}\n",
    "x' \\\\\n",
    "y'\n",
    "\\end{bmatrix}\n",
    "=\n",
    "\\begin{bmatrix}\n",
    "\\cos(\\alpha) & -\\sin(\\alpha) \\\\\n",
    "\\sin(\\alpha) & \\cos(\\alpha)\n",
    "\\end{bmatrix}\n",
    "\\begin{bmatrix}\n",
    "x \\\\\n",
    "y\n",
    "\\end{bmatrix}\n",
    "\\end{equation}\n",
    "\n",
    "WWW: https://pl.wikipedia.org/wiki/Obr%C3%B3t\n"
   ],
   "metadata": {
    "collapsed": false
   },
   "id": "b8ebae1d8b10f599"
  },
  {
   "cell_type": "code",
   "execution_count": 60,
   "id": "6d08a45df2e459ff",
   "metadata": {
    "collapsed": false,
    "ExecuteTime": {
     "end_time": "2024-03-23T05:06:09.109484Z",
     "start_time": "2024-03-23T05:06:09.105108Z"
    }
   },
   "outputs": [
    {
     "data": {
      "text/plain": "Matrix([\n[cos(alpha), -sin(alpha)],\n[sin(alpha),  cos(alpha)]])",
      "text/latex": "$\\displaystyle \\left[\\begin{matrix}\\cos{\\left(\\alpha \\right)} & - \\sin{\\left(\\alpha \\right)}\\\\\\sin{\\left(\\alpha \\right)} & \\cos{\\left(\\alpha \\right)}\\end{matrix}\\right]$"
     },
     "execution_count": 60,
     "metadata": {},
     "output_type": "execute_result"
    }
   ],
   "source": [
    "# Składanie obrotów\n",
    "alpha, beta = sp.symbols('alpha beta')\n",
    "R_alpha = sp.Matrix([[sp.cos(alpha), -sp.sin(alpha)], [sp.sin(alpha), sp.cos(alpha)]])\n",
    "R_beta = sp.Matrix([[sp.cos(beta), -sp.sin(beta)], [sp.sin(beta), sp.cos(beta)]])\n",
    "R_alpha"
   ]
  },
  {
   "cell_type": "code",
   "execution_count": 61,
   "id": "ca7ae46640a5b07d",
   "metadata": {
    "collapsed": false,
    "ExecuteTime": {
     "end_time": "2024-03-23T05:06:10.214621Z",
     "start_time": "2024-03-23T05:06:10.209489Z"
    }
   },
   "outputs": [
    {
     "data": {
      "text/plain": "Matrix([\n[-sin(alpha)*sin(beta) + cos(alpha)*cos(beta), -sin(alpha)*cos(beta) - sin(beta)*cos(alpha)],\n[ sin(alpha)*cos(beta) + sin(beta)*cos(alpha), -sin(alpha)*sin(beta) + cos(alpha)*cos(beta)]])",
      "text/latex": "$\\displaystyle \\left[\\begin{matrix}- \\sin{\\left(\\alpha \\right)} \\sin{\\left(\\beta \\right)} + \\cos{\\left(\\alpha \\right)} \\cos{\\left(\\beta \\right)} & - \\sin{\\left(\\alpha \\right)} \\cos{\\left(\\beta \\right)} - \\sin{\\left(\\beta \\right)} \\cos{\\left(\\alpha \\right)}\\\\\\sin{\\left(\\alpha \\right)} \\cos{\\left(\\beta \\right)} + \\sin{\\left(\\beta \\right)} \\cos{\\left(\\alpha \\right)} & - \\sin{\\left(\\alpha \\right)} \\sin{\\left(\\beta \\right)} + \\cos{\\left(\\alpha \\right)} \\cos{\\left(\\beta \\right)}\\end{matrix}\\right]$"
     },
     "execution_count": 61,
     "metadata": {},
     "output_type": "execute_result"
    }
   ],
   "source": [
    "R_alpha * R_beta"
   ]
  },
  {
   "cell_type": "code",
   "execution_count": 62,
   "id": "f97c3725ff3c5f22",
   "metadata": {
    "collapsed": false,
    "ExecuteTime": {
     "end_time": "2024-03-23T05:06:12.595391Z",
     "start_time": "2024-03-23T05:06:12.531498Z"
    }
   },
   "outputs": [
    {
     "data": {
      "text/plain": "Matrix([\n[cos(alpha + beta), -sin(alpha + beta)],\n[sin(alpha + beta),  cos(alpha + beta)]])",
      "text/latex": "$\\displaystyle \\left[\\begin{matrix}\\cos{\\left(\\alpha + \\beta \\right)} & - \\sin{\\left(\\alpha + \\beta \\right)}\\\\\\sin{\\left(\\alpha + \\beta \\right)} & \\cos{\\left(\\alpha + \\beta \\right)}\\end{matrix}\\right]$"
     },
     "execution_count": 62,
     "metadata": {},
     "output_type": "execute_result"
    }
   ],
   "source": [
    "# uprośćmy wynik\n",
    "simplified_result = (R_alpha * R_beta).applyfunc(sp.trigsimp)\n",
    "simplified_result"
   ]
  },
  {
   "cell_type": "code",
   "execution_count": 63,
   "id": "35840d1fdc1db3fa",
   "metadata": {
    "collapsed": false,
    "ExecuteTime": {
     "end_time": "2024-03-23T05:06:13.236088Z",
     "start_time": "2024-03-23T05:06:13.227111Z"
    }
   },
   "outputs": [
    {
     "data": {
      "text/plain": "Matrix([\n[cos(alpha), -sin(alpha), 0],\n[sin(alpha),  cos(alpha), 0],\n[         0,           0, 1]])",
      "text/latex": "$\\displaystyle \\left[\\begin{matrix}\\cos{\\left(\\alpha \\right)} & - \\sin{\\left(\\alpha \\right)} & 0\\\\\\sin{\\left(\\alpha \\right)} & \\cos{\\left(\\alpha \\right)} & 0\\\\0 & 0 & 1\\end{matrix}\\right]$"
     },
     "execution_count": 63,
     "metadata": {},
     "output_type": "execute_result"
    }
   ],
   "source": [
    "# Obrót w przestrzeni 3D\n",
    "alpha, beta, gamma = sp.symbols('alpha beta gamma')\n",
    "R_alpha = sp.Matrix([[sp.cos(alpha), -sp.sin(alpha), 0], [sp.sin(alpha), sp.cos(alpha), 0], [0, 0, 1]])\n",
    "R_beta = sp.Matrix([[sp.cos(beta), 0, -sp.sin(beta)], [0, 1, 0], [sp.sin(beta), 0, sp.cos(beta)]])\n",
    "R_gamma = sp.Matrix([[1, 0, 0], [0, sp.cos(gamma), -sp.sin(gamma)], [0, sp.sin(gamma), sp.cos(gamma)]])\n",
    "R_alpha"
   ]
  },
  {
   "cell_type": "code",
   "execution_count": 64,
   "id": "604d7d0d99b9d5a",
   "metadata": {
    "collapsed": false,
    "ExecuteTime": {
     "end_time": "2024-03-23T05:06:14.185812Z",
     "start_time": "2024-03-23T05:06:14.181650Z"
    }
   },
   "outputs": [
    {
     "data": {
      "text/plain": "Matrix([\n[cos(beta), 0, -sin(beta)],\n[        0, 1,          0],\n[sin(beta), 0,  cos(beta)]])",
      "text/latex": "$\\displaystyle \\left[\\begin{matrix}\\cos{\\left(\\beta \\right)} & 0 & - \\sin{\\left(\\beta \\right)}\\\\0 & 1 & 0\\\\\\sin{\\left(\\beta \\right)} & 0 & \\cos{\\left(\\beta \\right)}\\end{matrix}\\right]$"
     },
     "execution_count": 64,
     "metadata": {},
     "output_type": "execute_result"
    }
   ],
   "source": [
    "R_beta"
   ]
  },
  {
   "cell_type": "code",
   "execution_count": 65,
   "id": "e030dd641780bf12",
   "metadata": {
    "collapsed": false,
    "ExecuteTime": {
     "end_time": "2024-03-23T05:06:14.461761Z",
     "start_time": "2024-03-23T05:06:14.457708Z"
    }
   },
   "outputs": [
    {
     "data": {
      "text/plain": "Matrix([\n[1,          0,           0],\n[0, cos(gamma), -sin(gamma)],\n[0, sin(gamma),  cos(gamma)]])",
      "text/latex": "$\\displaystyle \\left[\\begin{matrix}1 & 0 & 0\\\\0 & \\cos{\\left(\\gamma \\right)} & - \\sin{\\left(\\gamma \\right)}\\\\0 & \\sin{\\left(\\gamma \\right)} & \\cos{\\left(\\gamma \\right)}\\end{matrix}\\right]$"
     },
     "execution_count": 65,
     "metadata": {},
     "output_type": "execute_result"
    }
   ],
   "source": [
    "R_gamma"
   ]
  },
  {
   "cell_type": "code",
   "execution_count": 66,
   "id": "4f9fd1bfc0b1dab5",
   "metadata": {
    "collapsed": false,
    "ExecuteTime": {
     "end_time": "2024-03-23T05:06:15.035210Z",
     "start_time": "2024-03-23T05:06:15.029343Z"
    }
   },
   "outputs": [
    {
     "data": {
      "text/plain": "Matrix([\n[cos(alpha)*cos(beta), -sin(alpha)*cos(gamma) - sin(beta)*sin(gamma)*cos(alpha),  sin(alpha)*sin(gamma) - sin(beta)*cos(alpha)*cos(gamma)],\n[sin(alpha)*cos(beta), -sin(alpha)*sin(beta)*sin(gamma) + cos(alpha)*cos(gamma), -sin(alpha)*sin(beta)*cos(gamma) - sin(gamma)*cos(alpha)],\n[           sin(beta),                                     sin(gamma)*cos(beta),                                     cos(beta)*cos(gamma)]])",
      "text/latex": "$\\displaystyle \\left[\\begin{matrix}\\cos{\\left(\\alpha \\right)} \\cos{\\left(\\beta \\right)} & - \\sin{\\left(\\alpha \\right)} \\cos{\\left(\\gamma \\right)} - \\sin{\\left(\\beta \\right)} \\sin{\\left(\\gamma \\right)} \\cos{\\left(\\alpha \\right)} & \\sin{\\left(\\alpha \\right)} \\sin{\\left(\\gamma \\right)} - \\sin{\\left(\\beta \\right)} \\cos{\\left(\\alpha \\right)} \\cos{\\left(\\gamma \\right)}\\\\\\sin{\\left(\\alpha \\right)} \\cos{\\left(\\beta \\right)} & - \\sin{\\left(\\alpha \\right)} \\sin{\\left(\\beta \\right)} \\sin{\\left(\\gamma \\right)} + \\cos{\\left(\\alpha \\right)} \\cos{\\left(\\gamma \\right)} & - \\sin{\\left(\\alpha \\right)} \\sin{\\left(\\beta \\right)} \\cos{\\left(\\gamma \\right)} - \\sin{\\left(\\gamma \\right)} \\cos{\\left(\\alpha \\right)}\\\\\\sin{\\left(\\beta \\right)} & \\sin{\\left(\\gamma \\right)} \\cos{\\left(\\beta \\right)} & \\cos{\\left(\\beta \\right)} \\cos{\\left(\\gamma \\right)}\\end{matrix}\\right]$"
     },
     "execution_count": 66,
     "metadata": {},
     "output_type": "execute_result"
    }
   ],
   "source": [
    "R = R_alpha * R_beta * R_gamma\n",
    "R"
   ]
  },
  {
   "cell_type": "code",
   "outputs": [],
   "source": [],
   "metadata": {
    "collapsed": false
   },
   "id": "3f8ea06cf3c10cee"
  }
 ],
 "metadata": {
  "kernelspec": {
   "display_name": "Python 3 (ipykernel)",
   "language": "python",
   "name": "python3"
  },
  "language_info": {
   "codemirror_mode": {
    "name": "ipython",
    "version": 3
   },
   "file_extension": ".py",
   "mimetype": "text/x-python",
   "name": "python",
   "nbconvert_exporter": "python",
   "pygments_lexer": "ipython3",
   "version": "3.11.5"
  }
 },
 "nbformat": 4,
 "nbformat_minor": 5
}
