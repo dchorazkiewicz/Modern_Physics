{
 "cells": [
  {
   "cell_type": "code",
   "execution_count": 1,
   "id": "initial_id",
   "metadata": {
    "ExecuteTime": {
     "end_time": "2024-03-22T04:22:31.287725Z",
     "start_time": "2024-03-22T04:22:31.285747Z"
    }
   },
   "outputs": [],
   "source": [
    "import numpy as np # biblioteca numeryczna\n",
    "import sympy as sp # biblioteka do obliczeń symbolicznych"
   ]
  },
  {
   "cell_type": "markdown",
   "id": "13184892c69065bb",
   "metadata": {
    "collapsed": false
   },
   "source": [
    "# Wprowadzenie\n",
    "\n",
    "W niniejszym notebooku zaprezentowane zostaną podstawowe operacje na macierzach w języku Python. W tym celu wykorzystane zostaną dwie biblioteki: NumPy oraz SymPy. NumPy jest biblioteką numeryczną, która pozwala na wykonywanie operacji na macierzach, wektorach oraz tensorach. SymPy jest biblioteką do obliczeń symbolicznych, która pozwala na wykonywanie operacji na zmiennych symbolicznych. W poniższych przykładach zostaną przedstawione podstawowe operacje na macierzach, takie jak dodawanie, mnożenie, odwrotność macierzy."
   ]
  },
  {
   "cell_type": "markdown",
   "id": "39bd98a269a80a2b",
   "metadata": {
    "collapsed": false
   },
   "source": [
    "# 1.1 Podstawowe numeryczne operacje na macierzach"
   ]
  },
  {
   "cell_type": "code",
   "execution_count": 2,
   "id": "ab3dcda1c1bc7631",
   "metadata": {
    "ExecuteTime": {
     "end_time": "2024-03-22T04:22:32.424192Z",
     "start_time": "2024-03-22T04:22:32.419577Z"
    },
    "collapsed": false
   },
   "outputs": [
    {
     "data": {
      "text/plain": [
       "array([[1, 2],\n",
       "       [3, 4]])"
      ]
     },
     "execution_count": 2,
     "metadata": {},
     "output_type": "execute_result"
    }
   ],
   "source": [
    "# Zdefiniujmy macierz A\n",
    "A = np.array([[1, 2], [3, 4]])\n",
    "A"
   ]
  },
  {
   "cell_type": "code",
   "execution_count": 3,
   "id": "4ebb0c0ae8206df7",
   "metadata": {
    "ExecuteTime": {
     "end_time": "2024-03-22T04:22:33.304304Z",
     "start_time": "2024-03-22T04:22:33.297827Z"
    },
    "collapsed": false
   },
   "outputs": [
    {
     "data": {
      "text/plain": [
       "array([[5, 6],\n",
       "       [7, 8]])"
      ]
     },
     "execution_count": 3,
     "metadata": {},
     "output_type": "execute_result"
    }
   ],
   "source": [
    "# Zdefiniujmy macierz B\n",
    "B = np.array([[5, 6], [7, 8]])\n",
    "B"
   ]
  },
  {
   "cell_type": "code",
   "execution_count": 4,
   "id": "45b97ecea2078d09",
   "metadata": {
    "ExecuteTime": {
     "end_time": "2024-03-22T04:22:33.829478Z",
     "start_time": "2024-03-22T04:22:33.826781Z"
    },
    "collapsed": false
   },
   "outputs": [
    {
     "name": "stdout",
     "output_type": "stream",
     "text": [
      "Rozmiar macierzy A:  (2, 2)\n"
     ]
    }
   ],
   "source": [
    "# Informacje o macierzy\n",
    "print(\"Rozmiar macierzy A: \", A.shape)"
   ]
  },
  {
   "cell_type": "code",
   "execution_count": 5,
   "id": "6bbabea777ee7f03",
   "metadata": {
    "ExecuteTime": {
     "end_time": "2024-03-22T04:22:34.434027Z",
     "start_time": "2024-03-22T04:22:34.431129Z"
    },
    "collapsed": false
   },
   "outputs": [
    {
     "name": "stdout",
     "output_type": "stream",
     "text": [
      "Pierwszy wiersz macierzy A:  [1 2]\n"
     ]
    }
   ],
   "source": [
    "# pierwszy wiersz\n",
    "print(\"Pierwszy wiersz macierzy A: \", A[0,:])"
   ]
  },
  {
   "cell_type": "code",
   "execution_count": 6,
   "id": "f91f7e0ce7db09d",
   "metadata": {
    "ExecuteTime": {
     "end_time": "2024-03-22T04:22:34.966123Z",
     "start_time": "2024-03-22T04:22:34.963231Z"
    },
    "collapsed": false
   },
   "outputs": [
    {
     "name": "stdout",
     "output_type": "stream",
     "text": [
      "Pierwsza kolumna macierzy A: [1 3]\n"
     ]
    }
   ],
   "source": [
    "# pierwsza kolumna\n",
    "print(\"Pierwsza kolumna macierzy A:\", A[:,0])"
   ]
  },
  {
   "cell_type": "code",
   "execution_count": 7,
   "id": "312f46caeb72cfd6",
   "metadata": {
    "ExecuteTime": {
     "end_time": "2024-03-22T04:22:35.583439Z",
     "start_time": "2024-03-22T04:22:35.579203Z"
    },
    "collapsed": false
   },
   "outputs": [
    {
     "data": {
      "text/plain": [
       "array([[ 6,  8],\n",
       "       [10, 12]])"
      ]
     },
     "execution_count": 7,
     "metadata": {},
     "output_type": "execute_result"
    }
   ],
   "source": [
    "# Dodawanie macierzy\n",
    "C = A + B\n",
    "C"
   ]
  },
  {
   "cell_type": "code",
   "execution_count": 8,
   "id": "b5a358fe755a88f5",
   "metadata": {
    "ExecuteTime": {
     "end_time": "2024-03-22T04:22:36.709306Z",
     "start_time": "2024-03-22T04:22:36.705257Z"
    },
    "collapsed": false
   },
   "outputs": [
    {
     "data": {
      "text/plain": [
       "array([[19, 22],\n",
       "       [43, 50]])"
      ]
     },
     "execution_count": 8,
     "metadata": {},
     "output_type": "execute_result"
    }
   ],
   "source": [
    "# Mnożenie macierzy\n",
    "D = A @ B\n",
    "D"
   ]
  },
  {
   "cell_type": "code",
   "execution_count": 9,
   "id": "4ed8d83a7003b35c",
   "metadata": {
    "ExecuteTime": {
     "end_time": "2024-03-22T04:22:37.505831Z",
     "start_time": "2024-03-22T04:22:37.502099Z"
    },
    "collapsed": false
   },
   "outputs": [
    {
     "data": {
      "text/plain": [
       "array([[-2. ,  1. ],\n",
       "       [ 1.5, -0.5]])"
      ]
     },
     "execution_count": 9,
     "metadata": {},
     "output_type": "execute_result"
    }
   ],
   "source": [
    "# Odwrotność macierzy\n",
    "E = np.linalg.inv(A)\n",
    "E"
   ]
  },
  {
   "cell_type": "markdown",
   "id": "e324f1c45e3d151f",
   "metadata": {
    "collapsed": false
   },
   "source": [
    "# Przykład rozwiązania układu równań"
   ]
  },
  {
   "cell_type": "markdown",
   "id": "9fc97ffff5bca6af",
   "metadata": {
    "collapsed": false
   },
   "source": [
    "Teraz możemy wykorzystać bibliotekę w.w. rozwiązania układu równań\n",
    "Załóżmy, że mamy układ równań:\n",
    "\n",
    "\\begin{equation}\n",
    "\\begin{cases}\n",
    "x + 2y = 5 \\\\\n",
    "3x + 4y = 7\n",
    "\\end{cases}\n",
    "\\end{equation}\n",
    "\n",
    "Rozwiązanie tego układu równań można zapisać w postaci macierzowej:\n",
    "\n",
    "\\begin{equation}\n",
    "\\begin{bmatrix}\n",
    "1 & 2 \\\\\n",
    "3 & 4\n",
    "\\end{bmatrix}\n",
    "\\begin{bmatrix}\n",
    "x \\\\\n",
    "y\n",
    "\\end{bmatrix}   \n",
    "=\n",
    "\\begin{bmatrix}\n",
    "5 \\\\\n",
    "7\n",
    "\\end{bmatrix}\n",
    "\\end{equation}\n",
    "\n",
    "Zakodujmy to w Pythonie za pomocą biblioteki NumPy:"
   ]
  },
  {
   "cell_type": "code",
   "execution_count": 10,
   "id": "bdae8c3f4a1d3832",
   "metadata": {
    "ExecuteTime": {
     "end_time": "2024-03-22T04:29:00.451149Z",
     "start_time": "2024-03-22T04:29:00.447248Z"
    },
    "collapsed": false
   },
   "outputs": [
    {
     "data": {
      "text/plain": [
       "array([-3.,  4.])"
      ]
     },
     "execution_count": 10,
     "metadata": {},
     "output_type": "execute_result"
    }
   ],
   "source": [
    "# Zdefiniujmy macierz A\n",
    "A = np.array([[1, 2], [3, 4]])\n",
    "# Zdefiniujmy wektor wynikowy\n",
    "b = np.array([5, 7])\n",
    "# Rozwiązanie układu równań\n",
    "x = np.linalg.solve(A, b)\n",
    "x"
   ]
  },
  {
   "cell_type": "code",
   "execution_count": 11,
   "id": "ec07ed878a7c3c7c",
   "metadata": {
    "ExecuteTime": {
     "end_time": "2024-03-22T04:29:04.304643Z",
     "start_time": "2024-03-22T04:29:04.300863Z"
    },
    "collapsed": false
   },
   "outputs": [
    {
     "data": {
      "text/plain": [
       "array([5., 7.])"
      ]
     },
     "execution_count": 11,
     "metadata": {},
     "output_type": "execute_result"
    }
   ],
   "source": [
    "# Sprawdzenie rozwiązania\n",
    "np.dot(A, x)"
   ]
  },
  {
   "cell_type": "markdown",
   "id": "20b3a64dcd4643ce",
   "metadata": {
    "collapsed": false
   },
   "source": [
    "Rozwiązanie przez obliczenie odwrotności macierzy:\n",
    "\n",
    "\\begin{equation}\n",
    "\\begin{bmatrix}\n",
    "x \\\\\n",
    "y\n",
    "\\end{bmatrix}\n",
    "=\n",
    "\\begin{bmatrix}\n",
    "1 & 2 \\\\\n",
    "3 & 4\n",
    "\\end{bmatrix}^{-1}\n",
    "\\begin{bmatrix}\n",
    "5 \\\\\n",
    "7\n",
    "\\end{bmatrix}\n",
    "\\end{equation}\n"
   ]
  },
  {
   "cell_type": "code",
   "execution_count": 12,
   "id": "3cd919ac7b29b910",
   "metadata": {
    "ExecuteTime": {
     "end_time": "2024-03-22T04:29:07.743954Z",
     "start_time": "2024-03-22T04:29:07.740055Z"
    },
    "collapsed": false
   },
   "outputs": [
    {
     "data": {
      "text/plain": [
       "array([-3.,  4.])"
      ]
     },
     "execution_count": 12,
     "metadata": {},
     "output_type": "execute_result"
    }
   ],
   "source": [
    "# Obliczenie odwrotności macierzy\n",
    "A_inv = np.linalg.inv(A)\n",
    "# Rozwiązanie układu równań\n",
    "x = A_inv @ b\n",
    "x"
   ]
  },
  {
   "cell_type": "markdown",
   "id": "ebcf2b4e69936371",
   "metadata": {
    "collapsed": false
   },
   "source": [
    "# Przykład optymalizacji linowej\n",
    "\n",
    "Minimalizacja funkcji celu:\n",
    "$$\n",
    "\\text{Minimalizacja} \\quad -x_1 + 4x_2\n",
    "$$\n",
    "\n",
    "Przy ograniczeniach:\n",
    "\\begin{align*}\n",
    "& x_1 + x_2 \\leq 6 \\\\\n",
    "& -3x_1 + x_2 \\leq 2\n",
    "\\end{align*}"
   ]
  },
  {
   "cell_type": "code",
   "execution_count": 13,
   "id": "3579f176fc2e86e1",
   "metadata": {
    "ExecuteTime": {
     "end_time": "2024-03-22T04:25:06.282171Z",
     "start_time": "2024-03-22T04:25:06.061857Z"
    },
    "collapsed": false
   },
   "outputs": [
    {
     "name": "stdout",
     "output_type": "stream",
     "text": [
      "Wartości zmiennych decyzyjnych:\n",
      "[6. 0.]\n",
      "Wartość funkcji celu (minimalna wartość): -6.0\n"
     ]
    }
   ],
   "source": [
    "from scipy.optimize import linprog\n",
    "# Definicja funkcji celu i ograniczeń\n",
    "c = np.array([-1, 4])  # współczynniki funkcji celu do minimalizacji: -x1 + 4x2\n",
    "A = np.array([[1, 1], [-3, 1]])  # macierz współczynników ograniczeń lewostronnych\n",
    "b = np.array([6, 2])  # wektor ograniczeń lewostronnych\n",
    "\n",
    "# Rozwiązanie problemu optymalizacji liniowej\n",
    "res = linprog(c, A_ub=A, b_ub=b)\n",
    "\n",
    "# Wydrukowanie wyników\n",
    "print(\"Wartości zmiennych decyzyjnych:\")\n",
    "print(res.x)\n",
    "print(\"Wartość funkcji celu (minimalna wartość):\", res.fun)"
   ]
  },
  {
   "cell_type": "code",
   "outputs": [
    {
     "data": {
      "text/plain": "<Figure size 1000x700 with 2 Axes>",
      "image/png": "[encoded data removed]"
     },
     "metadata": {},
     "output_type": "display_data"
    }
   ],
   "source": [
    "# Zróbmy wykres funkcji celu jako ciepłokształtny wykres\n",
    "import matplotlib.pyplot as plt\n",
    "\n",
    "fig, ax = plt.subplots()\n",
    "# wielkość wykresu\n",
    "fig.set_size_inches(10,7)\n",
    "\n",
    "x1 = np.linspace(0, 8, 100)\n",
    "x2 = np.linspace(0, 8, 100)\n",
    "X1, X2 = np.meshgrid(x1, x2)\n",
    "Z = -X1 + 4*X2\n",
    "\n",
    "plt.contourf(X1, X2, Z, levels=50)\n",
    "plt.plot([0, 6], [6, 0], 'r', label='x1 + x2 = 6')\n",
    "plt.plot([0, 2], [2, 8], 'g', label='-3x1 + x2 = 2')\n",
    "plt.scatter(res.x[0], res.x[1], color='red', label='Rozwiązanie')\n",
    "plt.xlabel('x1')\n",
    "plt.ylabel('x2')\n",
    "plt.legend()\n",
    "plt.colorbar()\n",
    "plt.show()\n",
    "\n"
   ],
   "metadata": {
    "collapsed": false,
    "ExecuteTime": {
     "end_time": "2024-03-22T05:03:14.448780Z",
     "start_time": "2024-03-22T05:03:14.315176Z"
    }
   },
   "id": "cd23d923db71c196",
   "execution_count": 67
  },
  {
   "cell_type": "markdown",
   "id": "1cfcc84f36cf4cf0",
   "metadata": {
    "collapsed": false
   },
   "source": [
    "# 1.2 Operacje na macierzach w bibliotece SymPy"
   ]
  },
  {
   "cell_type": "code",
   "execution_count": 14,
   "id": "9d4b2b84d4a9254",
   "metadata": {
    "ExecuteTime": {
     "end_time": "2024-03-21T12:20:18.340025Z",
     "start_time": "2024-03-21T12:20:18.331397Z"
    },
    "collapsed": false
   },
   "outputs": [
    {
     "data": {
      "text/latex": [
       "$\\displaystyle \\left[\\begin{matrix}1 & 2\\\\3 & 4\\end{matrix}\\right]$"
      ],
      "text/plain": [
       "Matrix([\n",
       "[1, 2],\n",
       "[3, 4]])"
      ]
     },
     "execution_count": 14,
     "metadata": {},
     "output_type": "execute_result"
    }
   ],
   "source": [
    "# Zdefiniujmy macierz A\n",
    "A = sp.Matrix([[1, 2], [3, 4]])\n",
    "A"
   ]
  },
  {
   "cell_type": "code",
   "execution_count": 15,
   "id": "858d69a0c34d38f8",
   "metadata": {
    "ExecuteTime": {
     "end_time": "2024-03-21T12:20:18.625832Z",
     "start_time": "2024-03-21T12:20:18.622363Z"
    },
    "collapsed": false
   },
   "outputs": [
    {
     "data": {
      "text/latex": [
       "$\\displaystyle \\left[\\begin{matrix}5 & 6\\\\7 & 8\\end{matrix}\\right]$"
      ],
      "text/plain": [
       "Matrix([\n",
       "[5, 6],\n",
       "[7, 8]])"
      ]
     },
     "execution_count": 15,
     "metadata": {},
     "output_type": "execute_result"
    }
   ],
   "source": [
    "# Zdefiniujmy macierz B\n",
    "B = sp.Matrix([[5, 6], [7, 8]])\n",
    "B"
   ]
  },
  {
   "cell_type": "code",
   "execution_count": 16,
   "id": "a9034ae777977bb1",
   "metadata": {
    "ExecuteTime": {
     "end_time": "2024-03-21T12:20:18.952811Z",
     "start_time": "2024-03-21T12:20:18.949467Z"
    },
    "collapsed": false
   },
   "outputs": [
    {
     "data": {
      "text/latex": [
       "$\\displaystyle \\left[\\begin{matrix}19 & 22\\\\43 & 50\\end{matrix}\\right]$"
      ],
      "text/plain": [
       "Matrix([\n",
       "[19, 22],\n",
       "[43, 50]])"
      ]
     },
     "execution_count": 16,
     "metadata": {},
     "output_type": "execute_result"
    }
   ],
   "source": [
    "# Mnożenie macierzy\n",
    "C = A * B\n",
    "C"
   ]
  },
  {
   "cell_type": "code",
   "execution_count": 17,
   "id": "ec3d8232f1190c2b",
   "metadata": {
    "ExecuteTime": {
     "end_time": "2024-03-21T12:20:19.770198Z",
     "start_time": "2024-03-21T12:20:19.762409Z"
    },
    "collapsed": false
   },
   "outputs": [
    {
     "data": {
      "text/latex": [
       "$\\displaystyle \\left[\\begin{matrix}-2 & 1\\\\\\frac{3}{2} & - \\frac{1}{2}\\end{matrix}\\right]$"
      ],
      "text/plain": [
       "Matrix([\n",
       "[ -2,    1],\n",
       "[3/2, -1/2]])"
      ]
     },
     "execution_count": 17,
     "metadata": {},
     "output_type": "execute_result"
    }
   ],
   "source": [
    "# Odwrotność macierzy\n",
    "D = A.inv()\n",
    "D"
   ]
  },
  {
   "cell_type": "code",
   "execution_count": null,
   "id": "6d08a45df2e459ff",
   "metadata": {
    "collapsed": false
   },
   "outputs": [],
   "source": []
  }
 ],
 "metadata": {
  "kernelspec": {
   "display_name": "Python 3 (ipykernel)",
   "language": "python",
   "name": "python3"
  },
  "language_info": {
   "codemirror_mode": {
    "name": "ipython",
    "version": 3
   },
   "file_extension": ".py",
   "mimetype": "text/x-python",
   "name": "python",
   "nbconvert_exporter": "python",
   "pygments_lexer": "ipython3",
   "version": "3.11.5"
  }
 },
 "nbformat": 4,
 "nbformat_minor": 5
}
