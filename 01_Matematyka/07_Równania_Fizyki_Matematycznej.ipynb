{
 "cells": [
  {
   "cell_type": "code",
   "execution_count": 1,
   "id": "initial_id",
   "metadata": {
    "collapsed": true,
    "ExecuteTime": {
     "end_time": "2024-03-21T18:12:17.592725Z",
     "start_time": "2024-03-21T18:12:17.419090Z"
    }
   },
   "outputs": [],
   "source": [
    "import sympy as sp"
   ]
  },
  {
   "cell_type": "code",
   "outputs": [
    {
     "data": {
      "text/plain": "A*sin(k*x - omega*t + phi)",
      "text/latex": "$\\displaystyle A \\sin{\\left(k x - \\omega t + \\phi \\right)}$"
     },
     "execution_count": 15,
     "metadata": {},
     "output_type": "execute_result"
    }
   ],
   "source": [
    "# Równanie falowe\n",
    "x, t, omega, A, k, phi, v = sp.symbols('x t omega A k phi v')\n",
    "y = A * sp.sin(k*x - omega*t + phi)\n",
    "y\n",
    "# gdzie:\n",
    "# A - amplituda\n",
    "# k - liczba falowa\n",
    "# omega - częstotliwość kołowa\n",
    "# phi - faza początkowa\n",
    "# v - prędkość fali"
   ],
   "metadata": {
    "collapsed": false,
    "ExecuteTime": {
     "end_time": "2024-03-21T18:15:40.102944Z",
     "start_time": "2024-03-21T18:15:40.099206Z"
    }
   },
   "id": "3d01fa7902cae2cc",
   "execution_count": 15
  },
  {
   "cell_type": "code",
   "outputs": [
    {
     "data": {
      "text/plain": "-A*k**2*sin(k*x - omega*t + phi)",
      "text/latex": "$\\displaystyle - A k^{2} \\sin{\\left(k x - \\omega t + \\phi \\right)}$"
     },
     "execution_count": 16,
     "metadata": {},
     "output_type": "execute_result"
    }
   ],
   "source": [
    "# Druga pochodna po x\n",
    "y.diff(x, 2)"
   ],
   "metadata": {
    "collapsed": false,
    "ExecuteTime": {
     "end_time": "2024-03-21T18:15:41.825793Z",
     "start_time": "2024-03-21T18:15:41.821110Z"
    }
   },
   "id": "7c05007d0c34e71b",
   "execution_count": 16
  },
  {
   "cell_type": "code",
   "outputs": [
    {
     "data": {
      "text/plain": "-A*omega**2*sin(k*x - omega*t + phi)",
      "text/latex": "$\\displaystyle - A \\omega^{2} \\sin{\\left(k x - \\omega t + \\phi \\right)}$"
     },
     "execution_count": 17,
     "metadata": {},
     "output_type": "execute_result"
    }
   ],
   "source": [
    "# Druga pochodna po t\n",
    "y.diff(t, 2)"
   ],
   "metadata": {
    "collapsed": false,
    "ExecuteTime": {
     "end_time": "2024-03-21T18:15:45.139178Z",
     "start_time": "2024-03-21T18:15:45.133821Z"
    }
   },
   "id": "f92a20aae681e41a",
   "execution_count": 17
  },
  {
   "cell_type": "code",
   "outputs": [
    {
     "data": {
      "text/plain": "-A*k**2*sin(k*x - omega*t + phi) + A*omega**2*sin(k*x - omega*t + phi)/v**2",
      "text/latex": "$\\displaystyle - A k^{2} \\sin{\\left(k x - \\omega t + \\phi \\right)} + \\frac{A \\omega^{2} \\sin{\\left(k x - \\omega t + \\phi \\right)}}{v^{2}}$"
     },
     "execution_count": 18,
     "metadata": {},
     "output_type": "execute_result"
    }
   ],
   "source": [
    "# Sprawdzenie równania falowego\n",
    "eq=y.diff(x, 2) - v**-2 * y.diff(t, 2)\n",
    "eq"
   ],
   "metadata": {
    "collapsed": false,
    "ExecuteTime": {
     "end_time": "2024-03-21T18:15:53.790502Z",
     "start_time": "2024-03-21T18:15:53.779265Z"
    }
   },
   "id": "c20be4624c9467f8",
   "execution_count": 18
  },
  {
   "cell_type": "code",
   "outputs": [
    {
     "data": {
      "text/plain": "A*(-k**2*v**2 + omega**2)*sin(k*x - omega*t + phi)/v**2",
      "text/latex": "$\\displaystyle \\frac{A \\left(- k^{2} v^{2} + \\omega^{2}\\right) \\sin{\\left(k x - \\omega t + \\phi \\right)}}{v^{2}}$"
     },
     "execution_count": 19,
     "metadata": {},
     "output_type": "execute_result"
    }
   ],
   "source": [
    "# Rozwiązanie równania falowego\n",
    "sp.simplify(eq)"
   ],
   "metadata": {
    "collapsed": false,
    "ExecuteTime": {
     "end_time": "2024-03-21T18:15:56.904291Z",
     "start_time": "2024-03-21T18:15:56.814921Z"
    }
   },
   "id": "c92f496411074e4a",
   "execution_count": 19
  },
  {
   "cell_type": "code",
   "outputs": [
    {
     "data": {
      "text/plain": "0",
      "text/latex": "$\\displaystyle 0$"
     },
     "execution_count": 20,
     "metadata": {},
     "output_type": "execute_result"
    }
   ],
   "source": [
    "subs = {v: omega/k}\n",
    "eq.subs(subs)"
   ],
   "metadata": {
    "collapsed": false,
    "ExecuteTime": {
     "end_time": "2024-03-21T18:16:26.631514Z",
     "start_time": "2024-03-21T18:16:26.627316Z"
    }
   },
   "id": "917e65cb4f3fd38e",
   "execution_count": 20
  },
  {
   "cell_type": "code",
   "outputs": [],
   "source": [],
   "metadata": {
    "collapsed": false
   },
   "id": "9495760b4285d442"
  }
 ],
 "metadata": {
  "kernelspec": {
   "display_name": "Python 3",
   "language": "python",
   "name": "python3"
  },
  "language_info": {
   "codemirror_mode": {
    "name": "ipython",
    "version": 2
   },
   "file_extension": ".py",
   "mimetype": "text/x-python",
   "name": "python",
   "nbconvert_exporter": "python",
   "pygments_lexer": "ipython2",
   "version": "2.7.6"
  }
 },
 "nbformat": 4,
 "nbformat_minor": 5
}
