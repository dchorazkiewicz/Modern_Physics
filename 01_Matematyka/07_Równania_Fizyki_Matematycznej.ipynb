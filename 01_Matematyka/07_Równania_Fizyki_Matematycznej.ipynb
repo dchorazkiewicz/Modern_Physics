{
 "cells": [
  {
   "cell_type": "markdown",
   "id": "d3d97862c2dadbdf",
   "metadata": {
    "collapsed": false,
    "jupyter": {
     "outputs_hidden": false
    }
   },
   "source": [
    "## Przykłady równań w fizyce matematycznej\n",
    "\n",
    "W fizyce matematycznej istnieje wiele kluczowych równań, które opisują różnorodne zjawiska fizyczne. Poniżej przedstawiono trzy fundamentalne równania wraz z krótkim omówieniem ich znaczenia i zastosowań.\n",
    "\n",
    "### 1. Równanie falowe\n",
    "\n",
    "Równanie falowe opisuje propagację fal w różnych ośrodkach. Jego najbardziej ogólna forma w trzech wymiarach to:\n",
    "\n",
    "$$\\nabla^2 u - \\frac{1}{c^2} \\frac{\\partial^2 u}{\\partial t^2} = 0$$\n",
    "\n",
    "gdzie \\(u\\) to amplituda fali, \\(c\\) to prędkość fali w ośrodku, a \\(\\nabla^2\\) to operator Laplace'a. Równanie to ma zastosowanie do fal dźwiękowych, fal elektromagnetycznych, a nawet do niektórych rodzajów fal w ciałach stałych.\n",
    "\n",
    "### 2. Równanie ciepła\n",
    "\n",
    "Równanie ciepła opisuje dystrybucję temperatury w danym ośrodku w czasie. Jest ono kluczowe w termodynamice i mechanice płynów. Ma postać:\n",
    "\n",
    "$$\\frac{\\partial u}{\\partial t} - \\alpha \\nabla^2 u = 0$$\n",
    "\n",
    "gdzie \\(u\\) to temperatura, \\(t\\) to czas, a \\(\\alpha\\) to współczynnik dyfuzji termicznej charakterystyczny dla danego ośrodka. Równanie to znajduje zastosowanie w wielu dziedzinach inżynierii, od analizy przewodzenia ciepła po modelowanie procesów chemicznych.\n",
    "\n",
    "### 3. Równanie Schrödingera\n",
    "\n",
    "Równanie Schrödingera jest fundamentalnym równaniem mechaniki kwantowej i opisuje, jak zmienia się w czasie stan kwantowy systemu. W formie zależnej od czasu prezentuje się następująco:\n",
    "\n",
    "$$i\\hbar \\frac{\\partial \\psi}{\\partial t} = -\\frac{\\hbar^2}{2m} \\nabla^2 \\psi + V \\psi$$\n",
    "\n",
    "gdzie \\(i\\) to jednostka urojona, \\(\\hbar\\) to zredukowana stała Plancka, \\(m\\) to masa cząstki, \\(\\psi\\) to funkcja falowa cząstki, a \\(V\\) to potencjał energetyczny. Równanie to umożliwia obliczenie prawdopodobieństwa znalezienia cząstki kwantowej w danym stanie lub miejscu.\n"
   ]
  },
  {
   "cell_type": "markdown",
   "id": "05e0df42-16c1-4aa8-8130-bcd96806a7bd",
   "metadata": {},
   "source": [
    "# Symulacja fali na strunie metodą różnic skończonych\n",
    "\n",
    "## Parametry symulacji\n",
    "\n",
    "- Długość struny: $L = 10$\n",
    "- Prędkość fali: $c = 1$\n",
    "- Krok przestrzenny: $\\Delta x = 0.1$\n",
    "- Krok czasowy: $\\Delta t = 0.005$\n",
    "- Całkowity czas symulacji: $T = 20$\n",
    "\n",
    "## Metoda różnic skończonych\n",
    "\n",
    "Symulacja opiera się na jednowymiarowej, dyskretnej siatce przestrzennej z punktami oddalonymi od siebie o $\\Delta x$. W każdym punkcie siatki, obliczane jest przemieszczenie struny $u$ w danym momencie czasu, korzystając z różnic skończonych.\n",
    "\n",
    "### Warunki początkowe\n",
    "\n",
    "Na początku symulacji przemieszczenie $u$ jest zdefiniowane jako funkcja Gaussa, skoncentrowana w środku struny:\n",
    "\n",
    "$$\n",
    "u = \\exp\\left(-\\frac{(x - L / 2)^2}{0.5}\\right)\n",
    "$$\n",
    "\n",
    "To reprezentuje początkowe ukształtowanie struny przed rozpoczęciem propagacji fali.\n",
    "\n",
    "### Warunki brzegowe\n",
    "\n",
    "Zastosowano warunki brzegowe Dirichleta, ustawiając przemieszczenie na końcach struny na zero ($u[0] = u[-1] = 0$). Oznacza to, że końce struny są nieruchome.\n",
    "\n",
    "### Obliczenia\n",
    "\n",
    "W każdym kroku czasowym $\\Delta t$, przemieszczenie w każdym punkcie siatki jest aktualizowane zgodnie z równaniem falowym, które jest aproksymowane za pomocą metody różnic skończonych. Wzór używany do aktualizacji $u$ w punkcie $j$ wygląda następująco:\n",
    "\n",
    "$$\n",
    "u_{\\text{next}}[j] = 2 \\cdot u[j] - u_{\\text{prev}}[j] + \\sigma^2 \\cdot (u[j+1] - 2 \\cdot u[j] + u[j-1])\n",
    "$$\n",
    "\n",
    "gdzie $\\sigma = \\frac{c \\Delta t}{\\Delta x}$ to liczba Couranta.\n",
    "\n",
    "## Animacja\n",
    "\n",
    "Animacja została stworzona za pomocą biblioteki `matplotlib`, wykorzystując `FuncAnimation` do aktualizacji przemieszczeń struny w czasie i zapisania wyniku jako plik wideo lub GIF.\n"
   ]
  },
  {
   "cell_type": "code",
   "execution_count": 1,
   "id": "9495760b4285d442",
   "metadata": {
    "ExecuteTime": {
     "start_time": "2024-03-23T11:26:55.490265Z"
    },
    "collapsed": false,
    "is_executing": true,
    "jupyter": {
     "outputs_hidden": false
    }
   },
   "outputs": [
    {
     "data": {
      "image/png": "[encoded data removed]",
      "text/plain": [
       "<Figure size 640x480 with 1 Axes>"
      ]
     },
     "metadata": {},
     "output_type": "display_data"
    }
   ],
   "source": [
    "import numpy as np\n",
    "import matplotlib.pyplot as plt\n",
    "from matplotlib.animation import FuncAnimation\n",
    "\n",
    "# Parametry\n",
    "L = 10          # Długość struny\n",
    "c = 1           # Prędkość fali\n",
    "dx = 0.1        # Krok przestrzenny\n",
    "dt = 0.005      # Krok czasowy\n",
    "T = 20           # Całkowity czas symulacji\n",
    "\n",
    "# Stabilność i liczba Couranta\n",
    "sigma = c * dt / dx\n",
    "\n",
    "# Siatka przestrzenna i czasowa\n",
    "x = np.arange(0, L + dx, dx)\n",
    "N = len(x)\n",
    "\n",
    "# Warunki początkowe (Gauss)\n",
    "u = np.exp(-((x - L / 2) ** 2) / 0.5)\n",
    "u_prev = np.copy(u)  # u w chwili n-1\n",
    "u_next = np.zeros(N)  # u w chwili n+1\n",
    "\n",
    "# Inicjalizacja wykresu\n",
    "fig, ax = plt.subplots()\n",
    "line, = ax.plot(x, u, 'r-')\n",
    "ax.set_xlim(0, L)\n",
    "ax.set_ylim(-1, 1)\n",
    "ax.set_xlabel('Położenie')\n",
    "ax.set_ylabel('Przemieszczenie')\n",
    "\n",
    "# Funkcja aktualizująca w każdym kroku animacji\n",
    "def update(frame):\n",
    "    global u, u_prev, u_next\n",
    "    \n",
    "    # Zastosowanie warunków brzegowych Dirichleta (u=0 na końcach struny)\n",
    "    u_next[0] = u_next[-1] = 0\n",
    "    \n",
    "    # Równanie falowe rozwiązane metodą różnic skończonych\n",
    "    for j in range(1, N - 1):\n",
    "        u_next[j] = 2 * u[j] - u_prev[j] + sigma ** 2 * (u[j + 1] - 2 * u[j] + u[j - 1])\n",
    "    \n",
    "    u_prev = np.copy(u)\n",
    "    u = np.copy(u_next)\n",
    "    line.set_ydata(u)\n",
    "    return line,\n",
    "\n",
    "# Stworzenie animacji\n",
    "ani = FuncAnimation(fig, update, frames=np.arange(0, T, dt), blit=True)\n",
    "\n",
    "ani.save('animacja.mp4', writer='ffmpeg', fps=60)\n",
    "\n"
   ]
  },
  {
   "cell_type": "markdown",
   "id": "7a8ed862def9ff98",
   "metadata": {
    "collapsed": false,
    "jupyter": {
     "outputs_hidden": false
    }
   },
   "source": [
    "# Równanie ciełpa\n",
    "\n",
    "Równanie ciepła jest równaniem różniczkowym cząstkowym, które opisuje przepływ ciepła w ośrodku. W jednym wymiarze, równanie to ma postać:\n",
    "\n",
    "$$\\frac{\\partial u}{\\partial t} = \\alpha \\frac{\\partial^2 u}{\\partial x^2}$$\n"
   ]
  },
  {
   "cell_type": "code",
   "execution_count": 2,
   "id": "9554de3e23396e3b",
   "metadata": {
    "ExecuteTime": {
     "end_time": "2024-03-23T11:52:57.140513Z",
     "start_time": "2024-03-23T11:50:07.216962Z"
    },
    "collapsed": false,
    "jupyter": {
     "outputs_hidden": false
    }
   },
   "outputs": [
    {
     "data": {
      "image/png": "[encoded data removed]",
      "text/plain": [
       "<Figure size 640x480 with 1 Axes>"
      ]
     },
     "metadata": {},
     "output_type": "display_data"
    }
   ],
   "source": [
    "import numpy as np\n",
    "import matplotlib.pyplot as plt\n",
    "from matplotlib.animation import FuncAnimation\n",
    "\n",
    "# Parametry\n",
    "L = 10          # Długość obszaru symulacji\n",
    "alpha = 0.9    # Współczynnik dyfuzji cieplnej\n",
    "dx = 0.1        # Krok przestrzenny\n",
    "dt = 0.001      # Krok czasowy\n",
    "T = 10           # Całkowity czas symulacji\n",
    "\n",
    "# Warunki stabilności dla równania ciepła\n",
    "assert alpha * dt / dx**2 < 0.5, \"Warunek stabilności nie jest spełniony!\"\n",
    "\n",
    "# Siatka przestrzenna\n",
    "x = np.arange(0, L + dx, dx)\n",
    "N = len(x)\n",
    "\n",
    "# Warunki początkowe (np. Gauss)\n",
    "u = np.exp(-((x - L / 2) ** 2) / 0.5)\n",
    "u_next = np.zeros(N)  # u w chwili n+1\n",
    "\n",
    "# Inicjalizacja wykresu\n",
    "fig, ax = plt.subplots()\n",
    "line, = ax.plot(x, u, 'r-')\n",
    "ax.set_xlim(0, L)\n",
    "ax.set_ylim(-0.5, 1.5)\n",
    "ax.set_xlabel('Położenie')\n",
    "ax.set_ylabel('Temperatura')\n",
    "\n",
    "# Funkcja aktualizująca w każdym kroku animacji\n",
    "def update(frame):\n",
    "    global u, u_next\n",
    "    \n",
    "    # Równanie ciepła rozwiązane metodą różnic skończonych\n",
    "    # Zastosowanie warunków brzegowych Neumanna (izolowane końce) przed obliczeniami\n",
    "    u_next[0] = u[1]  # Przypisanie wartości u[1] do u_next[0] przed obliczeniami\n",
    "    u_next[-1] = u[-2]  # Analogicznie dla drugiego końca\n",
    "    \n",
    "    for j in range(1, N - 1):\n",
    "        u_next[j] = u[j] + (alpha * dt / dx ** 2) * (u[j + 1] - 2 * u[j] + u[j - 1])\n",
    "    \n",
    "    # Aktualizacja warunków brzegowych po obliczeniach\n",
    "    u_next[0] = u_next[1]  # Ponowne przypisanie wartości dla izolowanych końców, jeśli potrzebne\n",
    "    u_next[-1] = u_next[-2]\n",
    "    \n",
    "    u = np.copy(u_next)\n",
    "    line.set_ydata(u)\n",
    "    return line,\n",
    "\n",
    "\n",
    "# Stworzenie animacji\n",
    "ani = FuncAnimation(fig, update, frames=np.arange(0, T, dt), blit=True)\n",
    "\n",
    "# plt.show()\n",
    "# Aby zapisać animację, odkomentuj poniższą linię\n",
    "ani.save('animacja_ciepla.mp4', writer='ffmpeg', fps=60)\n"
   ]
  },
  {
   "cell_type": "markdown",
   "id": "67db03b17c99ec72",
   "metadata": {
    "collapsed": false,
    "jupyter": {
     "outputs_hidden": false
    }
   },
   "source": [
    "# Równanie Schrödingera\n",
    "\n",
    "Równanie Schrödingera jest jednym z najważniejszych równań w mechanice kwantowej, opisującym ewolucję stanu kwantowego układu. W jednym wymiarze, równanie to ma postać:\n",
    "\n",
    "$$i\\hbar \\frac{\\partial \\psi}{\\partial t} = -\\frac{\\hbar^2}{2m} \\frac{\\partial^2 \\psi}{\\partial x^2} + V \\psi$$\n",
    "\n",
    "WWW: https://ben.land/post/2022/03/09/quantum-mechanics-simulation/"
   ]
  },
  {
   "cell_type": "code",
   "execution_count": null,
   "id": "2e11cea0aef267fd",
   "metadata": {
    "collapsed": false,
    "jupyter": {
     "outputs_hidden": false
    }
   },
   "outputs": [],
   "source": []
  }
 ],
 "metadata": {
  "kernelspec": {
   "display_name": "Python 3 (ipykernel)",
   "language": "python",
   "name": "python3"
  },
  "language_info": {
   "codemirror_mode": {
    "name": "ipython",
    "version": 3
   },
   "file_extension": ".py",
   "mimetype": "text/x-python",
   "name": "python",
   "nbconvert_exporter": "python",
   "pygments_lexer": "ipython3",
   "version": "3.11.5"
  }
 },
 "nbformat": 4,
 "nbformat_minor": 5
}
