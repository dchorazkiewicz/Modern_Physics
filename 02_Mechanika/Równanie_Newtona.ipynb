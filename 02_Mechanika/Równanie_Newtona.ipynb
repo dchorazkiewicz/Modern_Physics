{
 "cells": [
  {
   "cell_type": "markdown",
   "id": "a3d01f0902c08ad",
   "metadata": {
    "collapsed": false,
    "jupyter": {
     "outputs_hidden": false
    }
   },
   "source": [
    "# Równanie Newtona\n",
    "\n",
    "## Opis ruchu ciała: położenie...\n",
    "\n",
    "Aby opisać ruch ciała musimy znać położenie ciała w przestrzeni dla każdego momentu czasu. \n",
    "Mówiąc prostym językiem (x(t), y(t), z(t)) to położenie ciała w przestrzeni w chwili t.\n",
    "\n",
    "Przykładowo rozważmy poniższy przykład ruchu ciała:\n",
    "\n",
    "$$ x(t) = R \\cos(\\omega t) $$\n",
    "$$ y(t) = R \\sin(2*\\omega t) $$\n",
    "$$ z(t) = 0 $$"
   ]
  },
  {
   "cell_type": "code",
   "execution_count": 1,
   "id": "9ea7eaad6ba24458",
   "metadata": {
    "ExecuteTime": {
     "end_time": "2024-03-25T13:57:33.508326Z",
     "start_time": "2024-03-25T13:57:33.402136Z"
    },
    "collapsed": false,
    "jupyter": {
     "outputs_hidden": false
    }
   },
   "outputs": [
    {
     "data": {
      "application/vnd.jupyter.widget-view+json": {
       "model_id": "c969af58620141ee8aacd44fdb6ae9de",
       "version_major": 2,
       "version_minor": 0
      },
      "text/plain": [
       "interactive(children=(FloatSlider(value=0.0, description='Time:', max=6.283185307179586, step=0.01), Output())…"
      ]
     },
     "metadata": {},
     "output_type": "display_data"
    },
    {
     "data": {
      "text/plain": [
       "<function __main__.plot_point_on_circle(t=0)>"
      ]
     },
     "execution_count": 1,
     "metadata": {},
     "output_type": "execute_result"
    }
   ],
   "source": [
    "import numpy as np\n",
    "import matplotlib.pyplot as plt\n",
    "import ipywidgets as widgets\n",
    "from ipywidgets import interact\n",
    "\n",
    "R = 1  # Radius\n",
    "omega = 1  # Angular velocity\n",
    "\n",
    "def plot_point_on_circle(t=0):\n",
    "    x = R * np.cos(omega * t)  # X coordinate\n",
    "    y = R * np.sin(2*omega * t)  # Y coordinate\n",
    "\n",
    "    plt.plot(x, y, 'ro')  # Plot point as a red dot\n",
    "    # Plot path\n",
    "    plt.plot(R * np.cos(omega * np.linspace(0, 2 * np.pi, 100)), R * np.sin(2*omega * np.linspace(0, 2 * np.pi, 100)), 'k--')\n",
    "    \n",
    "    plt.axis('equal')\n",
    "    plt.xlim(-1.5, 1.5)\n",
    "    plt.ylim(-1.5, 1.5)\n",
    "    plt.grid(True)\n",
    "    plt.title(f'Position on Circle at t = {t:.2f}')\n",
    "    plt.xlabel('X Position')\n",
    "    plt.ylabel('Y Position')\n",
    "\n",
    "    # Draw position vector without arrowhead\n",
    "    plt.plot([0, x], [0, y], 'g-', linewidth=2)\n",
    "\n",
    "    # Add position labels\n",
    "    plt.text(x, y, f'({x:.2f}, {y:.2f}), t={t:.2f}', fontsize=12)\n",
    "    plt.show()\n",
    "\n",
    "# Create slider for time and interact with the plot_point_on_circle function\n",
    "time_slider = widgets.FloatSlider(value=0, min=0, max=2 * np.pi, step=0.01, description='Time:')\n",
    "interact(plot_point_on_circle, t=time_slider)\n"
   ]
  },
  {
   "cell_type": "code",
   "execution_count": null,
   "id": "e987cf2df5bcc83e",
   "metadata": {
    "ExecuteTime": {
     "end_time": "2024-03-25T13:57:33.728137Z",
     "start_time": "2024-03-25T13:57:33.726316Z"
    },
    "collapsed": false,
    "jupyter": {
     "outputs_hidden": false
    }
   },
   "outputs": [],
   "source": []
  },
  {
   "cell_type": "markdown",
   "id": "9af431e49117099f",
   "metadata": {
    "collapsed": false,
    "jupyter": {
     "outputs_hidden": false
    }
   },
   "source": [
    "# Prędkość...\n",
    "\n",
    "Prędkość ciała to pochodna położenia ciała po czasie.\n",
    "\n",
    "$$ v_x(t) = \\frac{dx}{dt} $$\n",
    "$$ v_y(t) = \\frac{dy}{dt} $$\n",
    "$$ v_z(t) = \\frac{dz}{dt} $$\n",
    "\n",
    "Biorąc nasz poprzedni przykład ruchu po okręgu, prędkość ciała w chwili t można opisać jako:\n",
    "\n",
    "$$ v_x(t) = -R \\omega \\sin(\\omega t) $$\n",
    "$$ v_y(t) = 2R \\omega \\cos(2\\omega t) $$\n",
    "$$ v_z(t) = 0 $$\n",
    "\n",
    "Prędkość to wielkość wektorowa więc narysujmy ją jako strzałkę.\n"
   ]
  },
  {
   "cell_type": "code",
   "execution_count": 2,
   "id": "72f0fd3964687899",
   "metadata": {
    "ExecuteTime": {
     "end_time": "2024-03-25T13:57:37.945977Z",
     "start_time": "2024-03-25T13:57:37.848473Z"
    },
    "collapsed": false,
    "jupyter": {
     "outputs_hidden": false
    }
   },
   "outputs": [
    {
     "data": {
      "application/vnd.jupyter.widget-view+json": {
       "model_id": "0f9a7e8d6cec46fdb620f20f0329c9f8",
       "version_major": 2,
       "version_minor": 0
      },
      "text/plain": [
       "interactive(children=(FloatSlider(value=0.0, description='Time:', max=6.283185307179586, step=0.01), Output())…"
      ]
     },
     "metadata": {},
     "output_type": "display_data"
    },
    {
     "data": {
      "text/plain": [
       "<function __main__.plot_point_on_circle(t=0)>"
      ]
     },
     "execution_count": 2,
     "metadata": {},
     "output_type": "execute_result"
    }
   ],
   "source": [
    "import numpy as np\n",
    "import matplotlib.pyplot as plt\n",
    "import ipywidgets as widgets\n",
    "from ipywidgets import interact\n",
    "\n",
    "R = 1  # Radius\n",
    "omega = 1  # Angular velocity\n",
    "\n",
    "def plot_point_on_circle(t=0):\n",
    "    x = R * np.cos(omega * t)  # X coordinate\n",
    "    y = R * np.sin(2*omega * t)  # Y coordinate\n",
    "\n",
    "    # Calculate velocity components\n",
    "    vx = -omega * R * np.sin(omega * t)\n",
    "    vy = 2 * omega * R * np.cos(2 * omega * t)\n",
    "\n",
    "    plt.plot(x, y, 'ro')  # Plot point as a red dot\n",
    "    # Plot path\n",
    "    plt.plot(R * np.cos(omega * np.linspace(0, 2 * np.pi, 100)), R * np.sin(2*omega * np.linspace(0, 2 * np.pi, 100)), 'k--')\n",
    "    \n",
    "    plt.axis('equal')\n",
    "    plt.xlim(-1.5, 1.5)\n",
    "    plt.ylim(-1.5, 1.5)\n",
    "    plt.grid(True)\n",
    "    plt.title(f'Position on Circle at t = {t:.2f}')\n",
    "    plt.xlabel('X Position')\n",
    "    plt.ylabel('Y Position')\n",
    "\n",
    "    # Draw position vector without arrowhead\n",
    "    plt.plot([0, x], [0, y], 'g-', linewidth=2)\n",
    "\n",
    "    # Draw velocity vector as an arrow\n",
    "    plt.arrow(x, y, vx * 0.1, vy * 0.1, head_width=0.05, head_length=0.1, fc='red', ec='red')\n",
    "\n",
    "    # Add position labels\n",
    "    plt.text(x, y, f'({x:.2f}, {y:.2f}), t={t:.2f}', fontsize=12)\n",
    "    plt.show()\n",
    "\n",
    "# Create slider for time and interact with the plot_point_on_circle function\n",
    "time_slider = widgets.FloatSlider(value=0, min=0, max=2 * np.pi, step=0.01, description='Time:')\n",
    "interact(plot_point_on_circle, t=time_slider)\n"
   ]
  },
  {
   "cell_type": "code",
   "execution_count": 3,
   "id": "513ad56f96b8cb4d",
   "metadata": {
    "ExecuteTime": {
     "end_time": "2024-03-25T13:57:39.798796Z",
     "start_time": "2024-03-25T13:57:39.635476Z"
    },
    "collapsed": false,
    "jupyter": {
     "outputs_hidden": false
    }
   },
   "outputs": [
    {
     "data": {
      "application/vnd.jupyter.widget-view+json": {
       "model_id": "55661c70c8c84dd5919d9e95f59fde3c",
       "version_major": 2,
       "version_minor": 0
      },
      "text/plain": [
       "interactive(children=(FloatSlider(value=0.0, description='Time:', max=6.283185307179586, step=0.01), Output())…"
      ]
     },
     "metadata": {},
     "output_type": "display_data"
    },
    {
     "data": {
      "text/plain": [
       "<function __main__.plot_point_on_circle(t=0)>"
      ]
     },
     "execution_count": 3,
     "metadata": {},
     "output_type": "execute_result"
    }
   ],
   "source": [
    "import numpy as np\n",
    "import matplotlib.pyplot as plt\n",
    "import ipywidgets as widgets\n",
    "from ipywidgets import interact\n",
    "\n",
    "R = 1  # Radius\n",
    "omega = 1  # Angular velocity\n",
    "\n",
    "def plot_point_on_circle(t=0):\n",
    "    x = R * np.cos(omega * t)  # X coordinate\n",
    "    y = R * np.sin(2*omega * t)  # Y coordinate\n",
    "\n",
    "    # Calculate velocity components\n",
    "    vx = -omega * R * np.sin(omega * t)\n",
    "    vy = 2 * omega * R * np.cos(2 * omega * t)\n",
    "\n",
    "    # Calculate acceleration components\n",
    "    ax = -omega**2 * R * np.cos(omega * t)\n",
    "    ay = -4 * omega**2 * R * np.sin(2 * omega * t)\n",
    "\n",
    "    plt.plot(x, y, 'ro')  # Plot point as a red dot\n",
    "    # Plot path\n",
    "    plt.plot(R * np.cos(omega * np.linspace(0, 2 * np.pi, 100)), R * np.sin(2*omega * np.linspace(0, 2 * np.pi, 100)), 'k--')\n",
    "    \n",
    "    plt.axis('equal')\n",
    "    plt.xlim(-1.5, 1.5)\n",
    "    plt.ylim(-1.5, 1.5)\n",
    "    plt.grid(True)\n",
    "    plt.title(f'Position on Circle at t = {t:.2f}')\n",
    "    plt.xlabel('X Position')\n",
    "    plt.ylabel('Y Position')\n",
    "\n",
    "    # Draw position vector without arrowhead\n",
    "    plt.plot([0, x], [0, y], 'g-', linewidth=2)\n",
    "\n",
    "    # Draw velocity vector as an arrow\n",
    "    plt.arrow(x, y, vx * 0.1, vy * 0.1, head_width=0.05, head_length=0.1, fc='red', ec='red', linewidth=2)\n",
    "\n",
    "    # Draw acceleration vector as an arrow\n",
    "    plt.arrow(x, y, ax * 0.1, ay * 0.1, head_width=0.05, head_length=0.1, fc='blue', ec='blue', linewidth=2)\n",
    "\n",
    "    # Add position labels\n",
    "    plt.text(x, y, f'({x:.2f}, {y:.2f}), t={t:.2f}', fontsize=12)\n",
    "    plt.show()\n",
    "\n",
    "# Create slider for time and interact with the plot_point_on_circle function\n",
    "time_slider = widgets.FloatSlider(value=0, min=0, max=2 * np.pi, step=0.01, description='Time:')\n",
    "interact(plot_point_on_circle, t=time_slider)\n"
   ]
  },
  {
   "cell_type": "markdown",
   "id": "d324c84303cc2160",
   "metadata": {
    "collapsed": false,
    "jupyter": {
     "outputs_hidden": false
    }
   },
   "source": [
    "\n",
    "\n",
    "Równanie Newtona w przestrzeni trójwymiarowej ma postać:\n",
    "$$ m \\frac{d^2x}{dt^2} = F_x(x,y,z,t) $$\n",
    "$$ m \\frac{d^2y}{dt^2} = F_y(x,y,z,t) $$\n",
    "$$ m \\frac{d^2z}{dt^2} = F_z(x,y,z,t) $$\n",
    "\n",
    "gdzie $m$ jest masą ciała, a $F_x$, $F_y$, $F_z$ to składowe siły działającej na ciało w kierunkach osi układu współrzędnych."
   ]
  },
  {
   "cell_type": "code",
   "execution_count": null,
   "id": "adcefc0dae3098e1",
   "metadata": {
    "collapsed": false,
    "jupyter": {
     "outputs_hidden": false
    }
   },
   "outputs": [],
   "source": []
  }
 ],
 "metadata": {
  "kernelspec": {
   "display_name": "Python 3 (ipykernel)",
   "language": "python",
   "name": "python3"
  },
  "language_info": {
   "codemirror_mode": {
    "name": "ipython",
    "version": 3
   },
   "file_extension": ".py",
   "mimetype": "text/x-python",
   "name": "python",
   "nbconvert_exporter": "python",
   "pygments_lexer": "ipython3",
   "version": "3.11.5"
  }
 },
 "nbformat": 4,
 "nbformat_minor": 5
}
