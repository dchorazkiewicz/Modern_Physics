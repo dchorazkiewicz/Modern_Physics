{
 "cells": [
  {
   "cell_type": "markdown",
   "id": "a3d01f0902c08ad",
   "metadata": {
    "collapsed": false,
    "jupyter": {
     "outputs_hidden": false
    }
   },
   "source": [
    "# Równanie Newtona\n",
    "\n",
    "## Opis ruchu ciała: położenie...\n",
    "\n",
    "Aby opisać ruch ciała musimy znać położenie ciała w przestrzeni dla każdego momentu czasu. \n",
    "Mówiąc prostym językiem (x(t), y(t), z(t)) to położenie ciała w przestrzeni w chwili t.\n",
    "\n",
    "Przykładowo rozważmy poniższy przykład ruchu ciała:\n",
    "\n",
    "$$ x(t) = R \\cos(\\omega t) $$\n",
    "$$ y(t) = R \\sin(2*\\omega t) $$\n",
    "$$ z(t) = 0 $$"
   ]
  },
  {
   "cell_type": "code",
   "execution_count": 8,
   "id": "9ea7eaad6ba24458",
   "metadata": {
    "ExecuteTime": {
     "end_time": "2024-03-25T14:13:20.243142Z",
     "start_time": "2024-03-25T14:13:20.129359Z"
    },
    "collapsed": false,
    "jupyter": {
     "outputs_hidden": false
    }
   },
   "outputs": [
    {
     "data": {
      "application/vnd.jupyter.widget-view+json": {
       "model_id": "996b0b581d6247d7b9f67997337cc62b",
       "version_major": 2,
       "version_minor": 0
      },
      "text/plain": [
       "interactive(children=(FloatSlider(value=0.0, description='Time:', max=6.283185307179586, step=0.01), Output())…"
      ]
     },
     "metadata": {},
     "output_type": "display_data"
    },
    {
     "data": {
      "text/plain": [
       "<function __main__.plot_point_on_circle(t=0)>"
      ]
     },
     "execution_count": 8,
     "metadata": {},
     "output_type": "execute_result"
    }
   ],
   "source": [
    "import numpy as np\n",
    "import matplotlib.pyplot as plt\n",
    "import ipywidgets as widgets\n",
    "from ipywidgets import interact\n",
    "\n",
    "R = 1  # Radius\n",
    "omega = 1  # Angular velocity\n",
    "\n",
    "def plot_point_on_circle(t=0):\n",
    "    x = R * np.cos(omega * t)  # X coordinate\n",
    "    y = R * np.sin(2*omega * t)  # Y coordinate\n",
    "\n",
    "    plt.plot(x, y, 'ro')  # Plot point as a red dot\n",
    "    # Plot path\n",
    "    plt.plot(R * np.cos(omega * np.linspace(0, 2 * np.pi, 100)), R * np.sin(2*omega * np.linspace(0, 2 * np.pi, 100)), 'k--')\n",
    "    \n",
    "    plt.axis('equal')\n",
    "    plt.xlim(-1.5, 1.5)\n",
    "    plt.ylim(-1.5, 1.5)\n",
    "    plt.grid(True)\n",
    "    plt.title(f'Position on Circle at t = {t:.2f}')\n",
    "    plt.xlabel('X Position')\n",
    "    plt.ylabel('Y Position')\n",
    "\n",
    "    # Draw position vector without arrowhead\n",
    "    plt.plot([0, x], [0, y], 'g-', linewidth=2)\n",
    "\n",
    "    # Add position labels\n",
    "    plt.text(x, y, f'({x:.2f}, {y:.2f}), t={t:.2f}', fontsize=12)\n",
    "    plt.show()\n",
    "\n",
    "# Create slider for time and interact with the plot_point_on_circle function\n",
    "time_slider = widgets.FloatSlider(value=0, min=0, max=2 * np.pi, step=0.01, description='Time:')\n",
    "interact(plot_point_on_circle, t=time_slider)\n"
   ]
  },
  {
   "cell_type": "code",
   "execution_count": null,
   "id": "748454d13f6a5bc5",
   "metadata": {
    "ExecuteTime": {
     "end_time": "2024-03-25T14:13:22.811317Z",
     "start_time": "2024-03-25T14:13:22.809458Z"
    },
    "collapsed": false,
    "jupyter": {
     "outputs_hidden": false
    }
   },
   "outputs": [],
   "source": []
  },
  {
   "cell_type": "code",
   "execution_count": null,
   "id": "e987cf2df5bcc83e",
   "metadata": {
    "ExecuteTime": {
     "end_time": "2024-03-25T14:13:23.920346Z",
     "start_time": "2024-03-25T14:13:23.917478Z"
    },
    "collapsed": false,
    "jupyter": {
     "outputs_hidden": false
    }
   },
   "outputs": [],
   "source": []
  },
  {
   "cell_type": "markdown",
   "id": "9af431e49117099f",
   "metadata": {
    "collapsed": false,
    "jupyter": {
     "outputs_hidden": false
    }
   },
   "source": [
    "# Prędkość...\n",
    "\n",
    "Prędkość ciała to pochodna położenia ciała po czasie.\n",
    "\n",
    "$$ v_x(t) = \\frac{dx}{dt} $$\n",
    "$$ v_y(t) = \\frac{dy}{dt} $$\n",
    "$$ v_z(t) = \\frac{dz}{dt} $$\n",
    "\n",
    "Biorąc nasz poprzedni przykład ruchu po okręgu, prędkość ciała w chwili t można opisać jako:\n",
    "\n",
    "$$ v_x(t) = -R \\omega \\sin(\\omega t) $$\n",
    "$$ v_y(t) = 2R \\omega \\cos(2\\omega t) $$\n",
    "$$ v_z(t) = 0 $$\n",
    "\n",
    "Prędkość to wielkość wektorowa więc narysujmy ją jako strzałkę.\n"
   ]
  },
  {
   "cell_type": "code",
   "execution_count": 9,
   "id": "72f0fd3964687899",
   "metadata": {
    "ExecuteTime": {
     "end_time": "2024-03-25T14:13:26.269610Z",
     "start_time": "2024-03-25T14:13:26.174469Z"
    },
    "collapsed": false,
    "jupyter": {
     "outputs_hidden": false
    }
   },
   "outputs": [
    {
     "data": {
      "application/vnd.jupyter.widget-view+json": {
       "model_id": "65db48c3d971487f93abad4535111b83",
       "version_major": 2,
       "version_minor": 0
      },
      "text/plain": [
       "interactive(children=(FloatSlider(value=0.0, description='Time:', max=6.283185307179586, step=0.01), Output())…"
      ]
     },
     "metadata": {},
     "output_type": "display_data"
    },
    {
     "data": {
      "text/plain": [
       "<function __main__.plot_point_on_circle(t=0)>"
      ]
     },
     "execution_count": 9,
     "metadata": {},
     "output_type": "execute_result"
    }
   ],
   "source": [
    "import numpy as np\n",
    "import matplotlib.pyplot as plt\n",
    "import ipywidgets as widgets\n",
    "from ipywidgets import interact\n",
    "\n",
    "R = 1  # Radius\n",
    "omega = 1  # Angular velocity\n",
    "\n",
    "def plot_point_on_circle(t=0):\n",
    "    x = R * np.cos(omega * t)  # X coordinate\n",
    "    y = R * np.sin(2*omega * t)  # Y coordinate\n",
    "\n",
    "    # Calculate velocity components\n",
    "    vx = -omega * R * np.sin(omega * t)\n",
    "    vy = 2 * omega * R * np.cos(2 * omega * t)\n",
    "\n",
    "    plt.plot(x, y, 'ro')  # Plot point as a red dot\n",
    "    # Plot path\n",
    "    plt.plot(R * np.cos(omega * np.linspace(0, 2 * np.pi, 100)), R * np.sin(2*omega * np.linspace(0, 2 * np.pi, 100)), 'k--')\n",
    "    \n",
    "    plt.axis('equal')\n",
    "    plt.xlim(-1.5, 1.5)\n",
    "    plt.ylim(-1.5, 1.5)\n",
    "    plt.grid(True)\n",
    "    plt.title(f'Position on Circle at t = {t:.2f}')\n",
    "    plt.xlabel('X Position')\n",
    "    plt.ylabel('Y Position')\n",
    "\n",
    "    # Draw position vector without arrowhead\n",
    "    plt.plot([0, x], [0, y], 'g-', linewidth=2)\n",
    "\n",
    "    # Draw velocity vector as an arrow\n",
    "    plt.arrow(x, y, vx * 0.1, vy * 0.1, head_width=0.05, head_length=0.1, fc='red', ec='red')\n",
    "\n",
    "    # Add position labels\n",
    "    plt.text(x, y, f'({x:.2f}, {y:.2f}), t={t:.2f}', fontsize=12)\n",
    "    plt.show()\n",
    "\n",
    "# Create slider for time and interact with the plot_point_on_circle function\n",
    "time_slider = widgets.FloatSlider(value=0, min=0, max=2 * np.pi, step=0.01, description='Time:')\n",
    "interact(plot_point_on_circle, t=time_slider)\n"
   ]
  },
  {
   "cell_type": "code",
   "execution_count": 10,
   "id": "513ad56f96b8cb4d",
   "metadata": {
    "ExecuteTime": {
     "end_time": "2024-03-25T14:25:07.220897Z",
     "start_time": "2024-03-25T14:25:07.127865Z"
    },
    "collapsed": false,
    "jupyter": {
     "outputs_hidden": false
    }
   },
   "outputs": [
    {
     "data": {
      "application/vnd.jupyter.widget-view+json": {
       "model_id": "19a58ea12be9400ba0338794e3d144fb",
       "version_major": 2,
       "version_minor": 0
      },
      "text/plain": [
       "interactive(children=(FloatSlider(value=0.0, description='Time:', max=6.283185307179586, step=0.01), Output())…"
      ]
     },
     "metadata": {},
     "output_type": "display_data"
    },
    {
     "data": {
      "text/plain": [
       "<function __main__.plot_point_on_circle(t=0)>"
      ]
     },
     "execution_count": 10,
     "metadata": {},
     "output_type": "execute_result"
    }
   ],
   "source": [
    "import numpy as np\n",
    "import matplotlib.pyplot as plt\n",
    "import ipywidgets as widgets\n",
    "from ipywidgets import interact\n",
    "\n",
    "R = 1  # Radius\n",
    "omega = 1  # Angular velocity\n",
    "\n",
    "def plot_point_on_circle(t=0):\n",
    "    x = R * np.cos(omega * t)  # X coordinate\n",
    "    y = R * np.sin(2*omega * t)  # Y coordinate\n",
    "\n",
    "    # Calculate velocity components\n",
    "    vx = -omega * R * np.sin(omega * t)\n",
    "    vy = 2 * omega * R * np.cos(2 * omega * t)\n",
    "\n",
    "    # Calculate acceleration components\n",
    "    ax = -omega**2 * R * np.cos(omega * t)\n",
    "    ay = -4 * omega**2 * R * np.sin(2 * omega * t)\n",
    "\n",
    "    plt.plot(x, y, 'ro')  # Plot point as a red dot\n",
    "    # Plot path\n",
    "    plt.plot(R * np.cos(omega * np.linspace(0, 2 * np.pi, 100)), R * np.sin(2*omega * np.linspace(0, 2 * np.pi, 100)), 'k--')\n",
    "    \n",
    "    plt.axis('equal')\n",
    "    plt.xlim(-1.5, 1.5)\n",
    "    plt.ylim(-1.5, 1.5)\n",
    "    plt.grid(True)\n",
    "    plt.title(f'Position on Circle at t = {t:.2f}')\n",
    "    plt.xlabel('X Position')\n",
    "    plt.ylabel('Y Position')\n",
    "\n",
    "    # Draw position vector without arrowhead\n",
    "    plt.plot([0, x], [0, y], 'g-', linewidth=2)\n",
    "\n",
    "    # Draw velocity vector as an arrow\n",
    "    plt.arrow(x, y, vx * 0.1, vy * 0.1, head_width=0.05, head_length=0.1, fc='red', ec='red', linewidth=2)\n",
    "\n",
    "    # Draw acceleration vector as an arrow\n",
    "    plt.arrow(x, y, ax * 0.1, ay * 0.1, head_width=0.05, head_length=0.1, fc='blue', ec='blue', linewidth=2)\n",
    "\n",
    "    # Add position labels\n",
    "    plt.text(x, y, f'({x:.2f}, {y:.2f}), t={t:.2f}', fontsize=12)\n",
    "    plt.show()\n",
    "\n",
    "# Create slider for time and interact with the plot_point_on_circle function\n",
    "time_slider = widgets.FloatSlider(value=0, min=0, max=2 * np.pi, step=0.01, description='Time:')\n",
    "interact(plot_point_on_circle, t=time_slider)\n"
   ]
  },
  {
   "cell_type": "code",
   "execution_count": null,
   "id": "55ede24240ed4f85",
   "metadata": {
    "ExecuteTime": {
     "end_time": "2024-03-25T14:13:28.595914Z",
     "start_time": "2024-03-25T14:13:28.593944Z"
    },
    "collapsed": false,
    "jupyter": {
     "outputs_hidden": false
    }
   },
   "outputs": [],
   "source": []
  },
  {
   "cell_type": "markdown",
   "id": "ccda4431cf302312",
   "metadata": {
    "collapsed": false,
    "jupyter": {
     "outputs_hidden": false
    }
   },
   "source": [
    "# Przypadek ruchu po okręgu\n",
    "\n"
   ]
  },
  {
   "cell_type": "code",
   "execution_count": 11,
   "id": "bb1e4eadea5fa9a5",
   "metadata": {
    "ExecuteTime": {
     "end_time": "2024-03-25T14:25:10.263680Z",
     "start_time": "2024-03-25T14:25:10.168994Z"
    },
    "collapsed": false,
    "jupyter": {
     "outputs_hidden": false
    }
   },
   "outputs": [
    {
     "data": {
      "application/vnd.jupyter.widget-view+json": {
       "model_id": "02ca8c681ea94f32b104129e66563dc3",
       "version_major": 2,
       "version_minor": 0
      },
      "text/plain": [
       "interactive(children=(FloatSlider(value=0.0, description='Time:', max=6.283185307179586, step=0.01), Output())…"
      ]
     },
     "metadata": {},
     "output_type": "display_data"
    },
    {
     "data": {
      "text/plain": [
       "<function __main__.plot_point_on_circle(t=0)>"
      ]
     },
     "execution_count": 11,
     "metadata": {},
     "output_type": "execute_result"
    }
   ],
   "source": [
    "import numpy as np\n",
    "import matplotlib.pyplot as plt\n",
    "import ipywidgets as widgets\n",
    "from ipywidgets import interact\n",
    "\n",
    "R = 1  # Radius\n",
    "omega = 1  # Angular velocity\n",
    "\n",
    "def plot_point_on_circle(t=0):\n",
    "    x = R * np.cos(omega * t)  # X coordinate\n",
    "    y = R * np.sin(omega * t)  # Y coordinate\n",
    "\n",
    "    # Calculate velocity components\n",
    "    vx = -omega * R * np.sin(omega * t)\n",
    "    vy = omega * R * np.cos(omega * t)\n",
    "\n",
    "    # Calculate acceleration components\n",
    "    ax = -omega**2 * R * np.cos(omega * t)\n",
    "    ay = -omega**2 * R * np.sin(omega * t)\n",
    "\n",
    "    plt.plot(x, y, 'ro')  # Plot point as a red dot\n",
    "    # Plot path\n",
    "    plt.plot(R * np.cos(omega * np.linspace(0, 2 * np.pi, 100)), R * np.sin(omega * np.linspace(0, 2 * np.pi, 100)), 'k--')\n",
    "    \n",
    "    plt.axis('equal')\n",
    "    plt.xlim(-1.5, 1.5)\n",
    "    plt.ylim(-1.5, 1.5)\n",
    "    plt.grid(True)\n",
    "    plt.title(f'Position on Circle at t = {t:.2f}')\n",
    "    plt.xlabel('X Position')\n",
    "    plt.ylabel('Y Position')\n",
    "\n",
    "    # Draw position vector without arrowhead\n",
    "    plt.plot([0, x], [0, y], 'g-', linewidth=2)\n",
    "\n",
    "    # Draw velocity vector as an arrow\n",
    "    plt.arrow(x, y, vx * 0.1, vy * 0.1, head_width=0.05, head_length=0.1, fc='red', ec='red', linewidth=2)\n",
    "\n",
    "    # Draw acceleration vector as an arrow\n",
    "    plt.arrow(x, y, ax * 0.1, ay * 0.1, head_width=0.05, head_length=0.1, fc='blue', ec='blue', linewidth=2)\n",
    "\n",
    "    # Add position labels\n",
    "    plt.text(x, y, f'({x:.2f}, {y:.2f}), t={t:.2f}', fontsize=12)\n",
    "    plt.show()\n",
    "\n",
    "# Create slider for time and interact with the plot_point_on_circle function\n",
    "time_slider = widgets.FloatSlider(value=0, min=0, max=2 * np.pi, step=0.01, description='Time:')\n",
    "interact(plot_point_on_circle, t=time_slider)\n"
   ]
  },
  {
   "cell_type": "markdown",
   "id": "d324c84303cc2160",
   "metadata": {
    "collapsed": false,
    "jupyter": {
     "outputs_hidden": false
    }
   },
   "source": [
    "# Fizyka\n",
    "\n",
    "Równanie Newtona w przestrzeni trójwymiarowej ma postać:\n",
    "$$ m \\frac{d^2x}{dt^2} = F_x(x,y,z,t) $$\n",
    "$$ m \\frac{d^2y}{dt^2} = F_y(x,y,z,t) $$\n",
    "$$ m \\frac{d^2z}{dt^2} = F_z(x,y,z,t) $$\n",
    "\n",
    "gdzie $m$ jest masą ciała, a $F_x$, $F_y$, $F_z$ to składowe siły działającej na ciało w kierunkach osi układu współrzędnych."
   ]
  },
  {
   "cell_type": "code",
   "execution_count": 12,
   "id": "adcefc0dae3098e1",
   "metadata": {
    "ExecuteTime": {
     "end_time": "2024-03-25T14:53:11.989576Z",
     "start_time": "2024-03-25T14:53:11.222361Z"
    },
    "collapsed": false,
    "jupyter": {
     "outputs_hidden": false
    }
   },
   "outputs": [
    {
     "data": {
      "application/vnd.jupyter.widget-view+json": {
       "model_id": "0439d9c2adaf4f82af9051aba8fae1d9",
       "version_major": 2,
       "version_minor": 0
      },
      "text/plain": [
       "interactive(children=(FloatSlider(value=10.0, description='Maksymalny czas:', max=20.0, min=0.1), Output()), _…"
      ]
     },
     "metadata": {},
     "output_type": "display_data"
    },
    {
     "data": {
      "text/plain": [
       "<function __main__.plot_trajectory(t_max=10)>"
      ]
     },
     "execution_count": 12,
     "metadata": {},
     "output_type": "execute_result"
    }
   ],
   "source": [
    "import numpy as np\n",
    "import matplotlib.pyplot as plt\n",
    "import ipywidgets as widgets\n",
    "from ipywidgets import interact\n",
    "\n",
    "# Stałe\n",
    "k = 1.0  # Stała charakterystyczna dla siły\n",
    "m = 1.0  # Masa\n",
    "dt = 0.0001  # Krok czasowy\n",
    "\n",
    "# Warunki początkowe\n",
    "x0 = np.array([1.0, 0.0])  # Początkowe położenie\n",
    "v0 = np.array([0.0, 1.0])  # Początkowa prędkość\n",
    "\n",
    "# Funkcja siły, przyjmująca położenie jako argument\n",
    "def F(x):\n",
    "    r = np.sqrt(x[0]**2 + x[1]**2)\n",
    "    return -k * x / r**3\n",
    "\n",
    "# Funkcja do rysowania trajektorii\n",
    "def plot_trajectory(t_max=10):\n",
    "    N = int(t_max / dt)\n",
    "    t = np.linspace(0, t_max, N)\n",
    "    x = np.zeros((N, 2))\n",
    "    v = np.zeros((N, 2))\n",
    "\n",
    "    x[0], v[0] = x0, v0\n",
    "\n",
    "    # Rozwiązywanie równań ruchu metodą Euler'a\n",
    "    for i in range(N-1):\n",
    "        x[i + 1] = x[i] + dt * v[i]\n",
    "        v[i + 1] = v[i] + dt * F(x[i]) / m\n",
    "\n",
    "    plt.plot(x[:, 0], x[:, 1], label='Trajektoria')\n",
    "    plt.xlabel('X')\n",
    "    plt.ylabel('Y')\n",
    "    plt.axis('equal')\n",
    "    plt.grid(True)\n",
    "    plt.title('Ruch w przestrzeni 2D')\n",
    "    plt.legend()\n",
    "    plt.show()\n",
    "\n",
    "# Tworzenie slidera do kontroli maksymalnego czasu symulacji\n",
    "time_slider = widgets.FloatSlider(value=10, min=0.1, max=20, step=0.1, description='Maksymalny czas:')\n",
    "interact(plot_trajectory, t_max=time_slider)\n"
   ]
  },
  {
   "cell_type": "code",
   "execution_count": 13,
   "id": "8c205fd0942f5edc",
   "metadata": {
    "ExecuteTime": {
     "end_time": "2024-03-25T14:59:30.645541Z",
     "start_time": "2024-03-25T14:59:30.554614Z"
    },
    "collapsed": false,
    "jupyter": {
     "outputs_hidden": false
    }
   },
   "outputs": [
    {
     "data": {
      "application/vnd.jupyter.widget-view+json": {
       "model_id": "6f934344d4f94d828fadf789f158cd48",
       "version_major": 2,
       "version_minor": 0
      },
      "text/plain": [
       "interactive(children=(FloatSlider(value=10.0, description='Maximum Time:', max=20.0, min=0.1), Output()), _dom…"
      ]
     },
     "metadata": {},
     "output_type": "display_data"
    },
    {
     "data": {
      "text/plain": [
       "<function __main__.plot_trajectory(t_max=3)>"
      ]
     },
     "execution_count": 13,
     "metadata": {},
     "output_type": "execute_result"
    }
   ],
   "source": [
    "import numpy as np\n",
    "import matplotlib.pyplot as plt\n",
    "from scipy.integrate import solve_ivp\n",
    "import ipywidgets as widgets\n",
    "from ipywidgets import interact\n",
    "\n",
    "# Constants\n",
    "k = 1.0  # Characteristic constant for the force\n",
    "m = 1.0  # Mass\n",
    "\n",
    "# Initial conditions\n",
    "x0 = np.array([1.0, 0.0])  # Initial position\n",
    "v0 = np.array([0.0, 1.10])  # Initial velocity\n",
    "initial_state = np.concatenate((x0, v0))  # Combine position and velocity\n",
    "\n",
    "# Force function, taking position as argument and returning acceleration\n",
    "def F(t, state):\n",
    "    x, y, vx, vy = state\n",
    "    r = np.sqrt(x**2 + y**2)\n",
    "    ax = -k * x / (m * r**3)\n",
    "    ay = -k * y / (m * r**3)\n",
    "    return [vx, vy, ax, ay]  # Return velocity and acceleration\n",
    "\n",
    "# Function to plot the trajectory\n",
    "def plot_trajectory(t_max=3):\n",
    "    # Solve the ODE\n",
    "    sol = solve_ivp(F, [0, t_max], initial_state, method='RK45', t_eval=np.linspace(0, t_max, 10000))\n",
    "\n",
    "    # Extract position data\n",
    "    x, y = sol.y[0], sol.y[1]\n",
    "\n",
    "    plt.plot(x, y, label='Trajectory')\n",
    "    plt.xlabel('X')\n",
    "    plt.ylabel('Y')\n",
    "    plt.axis('equal')\n",
    "    plt.grid(True)\n",
    "    plt.title('Motion in 2D Space')\n",
    "    plt.legend()\n",
    "    plt.show()\n",
    "\n",
    "# Creating a slider to control the maximum simulation time\n",
    "time_slider = widgets.FloatSlider(value=10, min=0.1, max=20, step=0.1, description='Maximum Time:')\n",
    "interact(plot_trajectory, t_max=time_slider)\n"
   ]
  },
  {
   "cell_type": "code",
   "execution_count": null,
   "id": "c51812829d2567c",
   "metadata": {
    "collapsed": false,
    "jupyter": {
     "outputs_hidden": false
    }
   },
   "outputs": [],
   "source": [
    "  "
   ]
  }
 ],
 "metadata": {
  "kernelspec": {
   "display_name": "Python 3 (ipykernel)",
   "language": "python",
   "name": "python3"
  },
  "language_info": {
   "codemirror_mode": {
    "name": "ipython",
    "version": 3
   },
   "file_extension": ".py",
   "mimetype": "text/x-python",
   "name": "python",
   "nbconvert_exporter": "python",
   "pygments_lexer": "ipython3",
   "version": "3.11.5"
  }
 },
 "nbformat": 4,
 "nbformat_minor": 5
}
