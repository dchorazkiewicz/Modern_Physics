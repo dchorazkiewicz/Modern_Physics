{
 "cells": [
  {
   "cell_type": "code",
   "execution_count": 1,
   "id": "initial_id",
   "metadata": {
    "ExecuteTime": {
     "end_time": "2024-03-26T16:54:04.567727Z",
     "start_time": "2024-03-26T16:54:04.565380Z"
    }
   },
   "outputs": [],
   "source": [
    "import numpy as np\n",
    "import scipy as sp\n",
    "import matplotlib.pyplot as plt\n",
    "import plotly.express as px"
   ]
  },
  {
   "cell_type": "markdown",
   "id": "6f0bf21da8e1e019",
   "metadata": {
    "collapsed": false,
    "jupyter": {
     "outputs_hidden": false
    }
   },
   "source": [
    "## Analiza rzutu ukośnego w przestrzeni trójwymiarowej\n",
    "\n",
    "WWW: [https://en.wikipedia.org/wiki/Projectile_motion](https://en.wikipedia.org/wiki/Projectile_motion)\n",
    "\n",
    "Rzut ukośny w przestrzeni 3D jest rozszerzeniem klasycznego problemu rzutu ukośnego, uwzględniającym trzy wymiary: x (poziomy), y (głębokość) oraz z (pionowy). W tej analizie skupimy się na formalnym opisie sił i równań ruchu za pomocą wektorów i równań różniczkowych.\n",
    "\n",
    "### Siły działające\n",
    "\n",
    "W przestrzeni trójwymiarowej na ciało rzucone pod kątem względem poziomu działa głównie siła grawitacji, którą można zapisać jako:\n",
    "\n",
    "$$\n",
    "\\vec{F}_g = m \\vec{g} = \\begin{bmatrix} 0 \\\\ 0 \\\\ -mg \\end{bmatrix}\n",
    "$$\n",
    "\n",
    "gdzie:\n",
    "- \\(m\\) jest masą ciała,\n",
    "- \\(\\vec{g}\\) jest wektorem przyspieszenia grawitacyjnego, mającym kierunek pionowy i wartość w przybliżeniu równą \\(9.81 \\, \\text{m/s}^2\\) skierowaną w dół.\n",
    "\n",
    "### Równania ruchu\n",
    "\n",
    "Stosując drugie prawo Newtona w formie wektorowej \\( \\vec{F} = m \\vec{a} \\), otrzymujemy równania ruchu dla każdej z osi. Przyjmujemy, że opór powietrza jest zaniedbywany, co jest typowe dla uproszczonych modeli rzutu ukośnego.\n",
    "\n",
    "#### Równania różniczkowe ruchu\n",
    "\n",
    "Równania ruchu można wyrazić jako system równań różniczkowych:\n",
    "\n",
    "$$\n",
    "\\frac{d^2\\vec{r}}{dt^2} = \\vec{g}\n",
    "$$\n",
    "\n",
    "gdzie \\(\\vec{r}\\) to wektor położenia ciała. W komponentach, przyjmując \\(\\vec{r} = \\begin{bmatrix} x(t) \\\\ y(t) \\\\ z(t) \\end{bmatrix}\\), równania przyjmują formę:\n",
    "\n",
    "$$\n",
    "\\frac{d^2x}{dt^2} = 0, \\quad \\frac{d^2y}{dt^2} = 0, \\quad \\frac{d^2z}{dt^2} = -g\n",
    "$$\n",
    "\n",
    "Integrując te równania względem czasu, otrzymujemy równania prędkości:\n",
    "\n",
    "$$\n",
    "\\frac{dx}{dt} = v_{x0}, \\quad \\frac{dy}{dt} = v_{y0}, \\quad \\frac{dz}{dt} = v_{z0} - gt\n",
    "$$\n",
    "\n",
    "gdzie \\(v_{x0}\\), \\(v_{y0}\\), \\(v_{z0}\\) to składowe prędkości początkowej w kierunkach odpowiednio x, y, z. Kolejna integracja daje nam równania położenia:\n",
    "\n",
    "$$\n",
    "x(t) = x_0 + v_{x0}t, \\quad y(t) = y_0 + v_{y0}t, \\quad z(t) = z_0 + v_{z0}t - \\frac{1}{2}gt^2\n",
    "$$\n",
    "\n",
    "### Wnioski\n",
    "\n",
    "Analiza rzutu ukośnego w przestrzeni trójwymiarowej za pomocą wektorów i równań różniczkowych pozwala na dokładne opisanie trajektorii ruchu obiektu. Dzięki rozdzieleniu ruchu na komponenty możemy łatwiej analizować wpływ różnych sił oraz warunków początkowych na zachowanie się ciała w przestrzeni.\n"
   ]
  },
  {
   "cell_type": "code",
   "execution_count": 2,
   "id": "a5999c27541191ed",
   "metadata": {
    "ExecuteTime": {
     "end_time": "2024-03-26T16:54:05.155377Z",
     "start_time": "2024-03-26T16:54:05.109581Z"
    },
    "collapsed": false,
    "jupyter": {
     "outputs_hidden": false
    }
   },
   "outputs": [
    {
     "data": {
      "text/latex": [
       "$\\displaystyle x{\\left(t \\right)} = C_{1} + C_{2} t$"
      ],
      "text/plain": [
       "Eq(x(t), C1 + C2*t)"
      ]
     },
     "execution_count": 2,
     "metadata": {},
     "output_type": "execute_result"
    }
   ],
   "source": [
    "# pokażmy w sympy, że nasz model jest poprawny\n",
    "import sympy as sp\n",
    "t, x0, y0, z0, v_x0, v_y0, v_z0, g = sp.symbols('t x0 y0 z0 v_x0 v_y0 v_z0 g')\n",
    "\n",
    "# równania różniczkowe mx'' = 0, my'' = 0, mz'' = -g\n",
    "# Definicja równań różniczkowych\n",
    "x = sp.Function('x')(t)\n",
    "y = sp.Function('y')(t)\n",
    "z = sp.Function('z')(t)\n",
    "\n",
    "# Równania różniczkowe\n",
    "eq_x = sp.Eq(sp.diff(x, t, t), 0)\n",
    "eq_y = sp.Eq(sp.diff(y, t, t), 0)\n",
    "eq_z = sp.Eq(sp.diff(z, t, t), -g)\n",
    "\n",
    "# Rozwiązania równań różniczkowych\n",
    "sol_x = sp.dsolve(eq_x, x)\n",
    "sol_y = sp.dsolve(eq_y, y)\n",
    "sol_z = sp.dsolve(eq_z, z)\n",
    "# rozwiązania równań różniczkowych x(t)\n",
    "sol_x"
   ]
  },
  {
   "cell_type": "code",
   "execution_count": 3,
   "id": "6c3a7497a09d4c2a",
   "metadata": {
    "ExecuteTime": {
     "end_time": "2024-03-26T16:54:05.226229Z",
     "start_time": "2024-03-26T16:54:05.222976Z"
    },
    "collapsed": false,
    "jupyter": {
     "outputs_hidden": false
    }
   },
   "outputs": [
    {
     "data": {
      "text/latex": [
       "$\\displaystyle y{\\left(t \\right)} = C_{1} + C_{2} t$"
      ],
      "text/plain": [
       "Eq(y(t), C1 + C2*t)"
      ]
     },
     "execution_count": 3,
     "metadata": {},
     "output_type": "execute_result"
    }
   ],
   "source": [
    "# rozwiązania równań różniczkowych y(t)\n",
    "sol_y"
   ]
  },
  {
   "cell_type": "code",
   "execution_count": 4,
   "id": "cb194d5e7178f567",
   "metadata": {
    "ExecuteTime": {
     "end_time": "2024-03-26T16:54:05.268022Z",
     "start_time": "2024-03-26T16:54:05.264479Z"
    },
    "collapsed": false,
    "jupyter": {
     "outputs_hidden": false
    }
   },
   "outputs": [
    {
     "data": {
      "text/latex": [
       "$\\displaystyle z{\\left(t \\right)} = C_{1} + C_{2} t - \\frac{g t^{2}}{2}$"
      ],
      "text/plain": [
       "Eq(z(t), C1 + C2*t - g*t**2/2)"
      ]
     },
     "execution_count": 4,
     "metadata": {},
     "output_type": "execute_result"
    }
   ],
   "source": [
    "# rozwiązania równań różniczkowych z(t)\n",
    "sol_z"
   ]
  },
  {
   "cell_type": "code",
   "execution_count": 5,
   "id": "92295f207275a134",
   "metadata": {
    "ExecuteTime": {
     "end_time": "2024-03-26T16:54:05.330571Z",
     "start_time": "2024-03-26T16:54:05.327080Z"
    },
    "collapsed": false,
    "jupyter": {
     "outputs_hidden": false
    }
   },
   "outputs": [
    {
     "data": {
      "text/latex": [
       "$\\displaystyle C_{1}$"
      ],
      "text/plain": [
       "C1"
      ]
     },
     "execution_count": 5,
     "metadata": {},
     "output_type": "execute_result"
    }
   ],
   "source": [
    "# warunki początkowe dla x(t)\n",
    "# x(0) = x0\n",
    "sol_x.rhs.subs(t, 0)"
   ]
  },
  {
   "cell_type": "code",
   "execution_count": 6,
   "id": "97aec2bf33b94ffd",
   "metadata": {
    "ExecuteTime": {
     "end_time": "2024-03-26T16:54:05.360477Z",
     "start_time": "2024-03-26T16:54:05.339367Z"
    },
    "collapsed": false,
    "jupyter": {
     "outputs_hidden": false
    }
   },
   "outputs": [
    {
     "data": {
      "text/latex": [
       "$\\displaystyle C_{2}$"
      ],
      "text/plain": [
       "C2"
      ]
     },
     "execution_count": 6,
     "metadata": {},
     "output_type": "execute_result"
    }
   ],
   "source": [
    "# x'(0) = v_x0\n",
    "sp.diff(sol_x.rhs, t).subs(t, 0)"
   ]
  },
  {
   "cell_type": "code",
   "execution_count": null,
   "id": "dcfafd9a2ed654e7",
   "metadata": {
    "ExecuteTime": {
     "end_time": "2024-03-26T16:54:05.374754Z",
     "start_time": "2024-03-26T16:54:05.373200Z"
    },
    "collapsed": false,
    "jupyter": {
     "outputs_hidden": false
    }
   },
   "outputs": [],
   "source": [
    "\n"
   ]
  },
  {
   "cell_type": "markdown",
   "id": "98cb5d24bd293f4e",
   "metadata": {
    "collapsed": false,
    "jupyter": {
     "outputs_hidden": false
    }
   },
   "source": [
    "# Maksymalny zasięg rzutu ukośnego\n",
    "\n",
    "Znajdźmy pierwiastki równania $z(t)=z_0+v_{z0}t-\\frac{1}{2}gt^2=0$ aby znaleźć czas $t_0$ w którym ciało dotknie ziemi. Następnie obliczmy położenie $x(t_0)$ w tym czasie dla równania $x(t)=x_0+v_{x0}t$. Analogicznie znajdziemy drugi czas $t_1$ w którym ciało dotknie ziemi oraz obliczymy położenie $x(t_1)$. Ostatecznie obliczymy zasięg rzutu jako różnicę $x(t_1)-x(0)$."
   ]
  },
  {
   "cell_type": "code",
   "execution_count": 7,
   "id": "6c52fcd11fdfd6db",
   "metadata": {
    "ExecuteTime": {
     "end_time": "2024-03-26T16:54:05.496766Z",
     "start_time": "2024-03-26T16:54:05.439633Z"
    },
    "collapsed": false,
    "jupyter": {
     "outputs_hidden": false
    }
   },
   "outputs": [
    {
     "data": {
      "text/latex": [
       "$\\displaystyle \\frac{v_{z0} - \\sqrt{2 g z_{0} + v_{z0}^{2}}}{g}$"
      ],
      "text/plain": [
       "(v_z0 - sqrt(2*g*z0 + v_z0**2))/g"
      ]
     },
     "execution_count": 7,
     "metadata": {},
     "output_type": "execute_result"
    }
   ],
   "source": [
    "# znajdź pierwiastki równania z(t) = 0 , czas dotknięcia ziemi\n",
    "import sympy as sp\n",
    "t, z0, v_z0, x0, v_x0,g = sp.symbols('t z0 v_z0 x0 v_x0 g')\n",
    "x=x0 + v_x0*t\n",
    "z = z0 + v_z0*t - g*t**2/2\n",
    "roots = sp.solve(z, t)\n",
    "t0=roots[0]\n",
    "t0"
   ]
  },
  {
   "cell_type": "code",
   "execution_count": 8,
   "id": "86667602289c55b4",
   "metadata": {
    "ExecuteTime": {
     "end_time": "2024-03-26T16:54:05.590609Z",
     "start_time": "2024-03-26T16:54:05.584905Z"
    },
    "collapsed": false,
    "jupyter": {
     "outputs_hidden": false
    }
   },
   "outputs": [
    {
     "data": {
      "text/latex": [
       "$\\displaystyle \\frac{v_{z0} + \\sqrt{2 g z_{0} + v_{z0}^{2}}}{g}$"
      ],
      "text/plain": [
       "(v_z0 + sqrt(2*g*z0 + v_z0**2))/g"
      ]
     },
     "execution_count": 8,
     "metadata": {},
     "output_type": "execute_result"
    }
   ],
   "source": [
    "t1=roots[1]\n",
    "t1"
   ]
  },
  {
   "cell_type": "code",
   "execution_count": 9,
   "id": "119c320c195a7f3f",
   "metadata": {
    "ExecuteTime": {
     "end_time": "2024-03-26T16:54:05.723272Z",
     "start_time": "2024-03-26T16:54:05.719993Z"
    },
    "collapsed": false,
    "jupyter": {
     "outputs_hidden": false
    }
   },
   "outputs": [
    {
     "data": {
      "text/latex": [
       "$\\displaystyle x_{0}$"
      ],
      "text/plain": [
       "x0"
      ]
     },
     "execution_count": 9,
     "metadata": {},
     "output_type": "execute_result"
    }
   ],
   "source": [
    "# podsawienie wartości do wzoru z(t_1)\n",
    "x.subs(t, 0).simplify()"
   ]
  },
  {
   "cell_type": "code",
   "execution_count": 10,
   "id": "19bdb6160e4f85a5",
   "metadata": {
    "ExecuteTime": {
     "end_time": "2024-03-26T16:54:05.799647Z",
     "start_time": "2024-03-26T16:54:05.782627Z"
    },
    "collapsed": false,
    "jupyter": {
     "outputs_hidden": false
    }
   },
   "outputs": [
    {
     "data": {
      "text/latex": [
       "$\\displaystyle \\frac{g x_{0} + v_{x0} \\left(v_{z0} + \\sqrt{2 g z_{0} + v_{z0}^{2}}\\right)}{g}$"
      ],
      "text/plain": [
       "(g*x0 + v_x0*(v_z0 + sqrt(2*g*z0 + v_z0**2)))/g"
      ]
     },
     "execution_count": 10,
     "metadata": {},
     "output_type": "execute_result"
    }
   ],
   "source": [
    "# podsawienie wartości do wzoru z(t_2)\n",
    "x.subs(t, t1).simplify()"
   ]
  },
  {
   "cell_type": "code",
   "execution_count": 11,
   "id": "7b833832eed3269",
   "metadata": {
    "ExecuteTime": {
     "end_time": "2024-03-26T16:54:05.850157Z",
     "start_time": "2024-03-26T16:54:05.838117Z"
    },
    "collapsed": false,
    "jupyter": {
     "outputs_hidden": false
    }
   },
   "outputs": [
    {
     "data": {
      "text/latex": [
       "$\\displaystyle \\frac{v_{x0} \\left(v_{z0} + \\sqrt{2 g z_{0} + v_{z0}^{2}}\\right)}{g}$"
      ],
      "text/plain": [
       "v_x0*(v_z0 + sqrt(2*g*z0 + v_z0**2))/g"
      ]
     },
     "execution_count": 11,
     "metadata": {},
     "output_type": "execute_result"
    }
   ],
   "source": [
    "zasieg=(x.subs(t, t1)-x.subs(t, 0)).simplify()\n",
    "zasieg"
   ]
  },
  {
   "cell_type": "code",
   "execution_count": 12,
   "id": "332a59794238a9b3",
   "metadata": {
    "ExecuteTime": {
     "end_time": "2024-03-26T16:54:05.917849Z",
     "start_time": "2024-03-26T16:54:05.909453Z"
    },
    "collapsed": false,
    "jupyter": {
     "outputs_hidden": false
    }
   },
   "outputs": [
    {
     "data": {
      "text/latex": [
       "$\\displaystyle \\frac{v_{x0} \\left(v_{z0} + \\sqrt{v_{z0}^{2}}\\right)}{g}$"
      ],
      "text/plain": [
       "v_x0*(v_z0 + sqrt(v_z0**2))/g"
      ]
     },
     "execution_count": 12,
     "metadata": {},
     "output_type": "execute_result"
    }
   ],
   "source": [
    "# jeśli z0=0 to zasięg wynosi\n",
    "zasieg.subs(z0, 0).simplify()"
   ]
  },
  {
   "cell_type": "markdown",
   "id": "f69f7550c7013012",
   "metadata": {
    "collapsed": false,
    "jupyter": {
     "outputs_hidden": false
    }
   },
   "source": [
    "# Maksymalna wysokość rzutu\n",
    "\n",
    "To zadanie można wykonać szukając maksimum funkcji $z(t)$, czyli pochodnej $z'(t)$ równą zero. Następnie obliczamy wartość funkcji $z(t)$ w tym punkcie.\n"
   ]
  },
  {
   "cell_type": "code",
   "execution_count": 13,
   "id": "c4c73cd738b97f5d",
   "metadata": {
    "ExecuteTime": {
     "end_time": "2024-03-26T16:54:06.044110Z",
     "start_time": "2024-03-26T16:54:06.036865Z"
    },
    "collapsed": false,
    "jupyter": {
     "outputs_hidden": false
    }
   },
   "outputs": [
    {
     "data": {
      "text/latex": [
       "$\\displaystyle - g t + v_{z0}$"
      ],
      "text/plain": [
       "-g*t + v_z0"
      ]
     },
     "execution_count": 13,
     "metadata": {},
     "output_type": "execute_result"
    }
   ],
   "source": [
    "# znajdź maksimum funkcji z(t)\n",
    "zdiff=z.diff(t).simplify()\n",
    "zdiff"
   ]
  },
  {
   "cell_type": "code",
   "execution_count": 14,
   "id": "c170a99a0c1bf3b1",
   "metadata": {
    "ExecuteTime": {
     "end_time": "2024-03-26T16:54:06.180762Z",
     "start_time": "2024-03-26T16:54:06.173644Z"
    },
    "collapsed": false,
    "jupyter": {
     "outputs_hidden": false
    }
   },
   "outputs": [
    {
     "data": {
      "text/plain": [
       "[v_z0/g]"
      ]
     },
     "execution_count": 14,
     "metadata": {},
     "output_type": "execute_result"
    }
   ],
   "source": [
    "czas_max=sp.solve(zdiff, t)\n",
    "czas_max"
   ]
  },
  {
   "cell_type": "code",
   "execution_count": 15,
   "id": "589c838f3ccbfdd0",
   "metadata": {
    "ExecuteTime": {
     "end_time": "2024-03-26T16:54:06.253093Z",
     "start_time": "2024-03-26T16:54:06.243782Z"
    },
    "collapsed": false,
    "jupyter": {
     "outputs_hidden": false
    }
   },
   "outputs": [
    {
     "data": {
      "text/latex": [
       "$\\displaystyle z_{0} + \\frac{v_{z0}^{2}}{2 g}$"
      ],
      "text/plain": [
       "z0 + v_z0**2/(2*g)"
      ]
     },
     "execution_count": 15,
     "metadata": {},
     "output_type": "execute_result"
    }
   ],
   "source": [
    "# oblicz położenie z(t) dla czasu t_max\n",
    "z_max=z.subs(t, czas_max[0]).simplify()\n",
    "z_max"
   ]
  },
  {
   "cell_type": "markdown",
   "id": "5a0f2529137348a0",
   "metadata": {
    "collapsed": false,
    "jupyter": {
     "outputs_hidden": false
    }
   },
   "source": [
    "# Czas lotu\n",
    "\n",
    "Czas lotu ciała można obliczyć jako czas spotkania z ziemią, czyli czas $t_1$ z poprzedniego punktu. \n"
   ]
  },
  {
   "cell_type": "code",
   "execution_count": 16,
   "id": "8ca26cd3f07beb03",
   "metadata": {
    "ExecuteTime": {
     "end_time": "2024-03-26T16:54:06.282648Z",
     "start_time": "2024-03-26T16:54:06.278781Z"
    },
    "collapsed": false,
    "jupyter": {
     "outputs_hidden": false
    }
   },
   "outputs": [
    {
     "data": {
      "text/latex": [
       "$\\displaystyle \\frac{v_{z0} + \\sqrt{2 g z_{0} + v_{z0}^{2}}}{g}$"
      ],
      "text/plain": [
       "(v_z0 + sqrt(2*g*z0 + v_z0**2))/g"
      ]
     },
     "execution_count": 16,
     "metadata": {},
     "output_type": "execute_result"
    }
   ],
   "source": [
    "t1"
   ]
  },
  {
   "cell_type": "code",
   "execution_count": 17,
   "id": "ece11d5d1b669066",
   "metadata": {
    "ExecuteTime": {
     "end_time": "2024-03-26T16:54:06.326245Z",
     "start_time": "2024-03-26T16:54:06.317919Z"
    },
    "collapsed": false,
    "jupyter": {
     "outputs_hidden": false
    }
   },
   "outputs": [
    {
     "data": {
      "text/latex": [
       "$\\displaystyle \\frac{v_{z0} + \\sqrt{v_{z0}^{2}}}{g}$"
      ],
      "text/plain": [
       "(v_z0 + sqrt(v_z0**2))/g"
      ]
     },
     "execution_count": 17,
     "metadata": {},
     "output_type": "execute_result"
    }
   ],
   "source": [
    "# oblicz czas lotu dla z0=0 (czyli ciało startuje z poziomu ziemi)\n",
    "t1.subs(z0, 0).simplify()"
   ]
  },
  {
   "cell_type": "markdown",
   "id": "37e25720034d68a3",
   "metadata": {
    "collapsed": false,
    "jupyter": {
     "outputs_hidden": false
    }
   },
   "source": [
    "# Numerical solution"
   ]
  },
  {
   "cell_type": "code",
   "execution_count": 18,
   "id": "87980e8d0fb8a26b",
   "metadata": {
    "ExecuteTime": {
     "end_time": "2024-03-26T16:54:06.415864Z",
     "start_time": "2024-03-26T16:54:06.336750Z"
    },
    "collapsed": false,
    "jupyter": {
     "outputs_hidden": false
    }
   },
   "outputs": [
    {
     "data": {
      "image/png": "[encoded data removed]",
      "text/plain": [
       "<Figure size 640x480 with 1 Axes>"
      ]
     },
     "metadata": {},
     "output_type": "display_data"
    }
   ],
   "source": [
    "import numpy as np\n",
    "from Newton_solver import NewtonSolverIVP3D\n",
    "\n",
    "g=9.81  # przyspieszenie ziemskie [m/s^2]\n",
    "\n",
    "def rzut_ukosny(t, position, velocity):\n",
    "    k = 1.0  # Spring constant\n",
    "    return [0, 0, -g]\n",
    "\n",
    "\n",
    "# Solver\n",
    "solver = NewtonSolverIVP3D()\n",
    "solver.add_force(rzut_ukosny)  # dodaj siłę grawitacji\n",
    "solver.set_initial_conditions([0.0, 0.0, 0.0], [100.0, 0.0, 100.0])  # warunki początkowe\n",
    "solver.set_mass(1.0)  # masa ciała\n",
    "t, position, velocity = solver.solve_motion([0, 20], time_step=0.01)\n",
    "\n",
    "\n",
    "# Wykres\n",
    "import matplotlib.pyplot as plt\n",
    "fig, ax = plt.subplots()\n",
    "ax.plot(position[0], position[2])\n",
    "ax.set_xlabel('x')\n",
    "ax.set_ylabel('z')\n",
    "plt.show()"
   ]
  },
  {
   "cell_type": "code",
   "execution_count": null,
   "id": "90180b5d7d4a2495",
   "metadata": {
    "collapsed": false,
    "jupyter": {
     "outputs_hidden": false
    }
   },
   "outputs": [],
   "source": []
  }
 ],
 "metadata": {
  "kernelspec": {
   "display_name": "Python 3 (ipykernel)",
   "language": "python",
   "name": "python3"
  },
  "language_info": {
   "codemirror_mode": {
    "name": "ipython",
    "version": 3
   },
   "file_extension": ".py",
   "mimetype": "text/x-python",
   "name": "python",
   "nbconvert_exporter": "python",
   "pygments_lexer": "ipython3",
   "version": "3.11.5"
  }
 },
 "nbformat": 4,
 "nbformat_minor": 5
}
