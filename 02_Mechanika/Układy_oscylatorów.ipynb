{
 "cells": [
  {
   "cell_type": "markdown",
   "id": "189f52ac2e7a8375",
   "metadata": {
    "collapsed": false,
    "jupyter": {
     "outputs_hidden": false
    }
   },
   "source": [
    "# Układ sprężyna-spężyna-masa\n",
    "\n",
    "W układzie sprężyna-sprężyna-masa mamy do czynienia z dwoma sprężynami o stałych $k_1$ i $k_2$ oraz masą $m$. Sprężyna 1 jest połączona z podporą, sprężyna 2 z masą, a sprężyna 1 i 2 są połączone ze sobą. W układzie tym mamy do czynienia z dwoma stopniami swobody, a mianowicie z przemieszczeniem masy $x_1$ oraz przemieszczeniem masy $x_2$.\n",
    "\n",
    "Jęśli układ poddamy działaniu siły zewnętrznej F i będziemy utrzymywać masę w stanie spoczynku, to prawdziwe będą równania:\n",
    "\n",
    "$$\n",
    "\\begin{cases}\n",
    "F= k_1 \\Delta x_1 \\\\\n",
    "F= k_2 \\Delta x_2 \\\\\n",
    "F=k_{eff}(\\Delta x_1 + \\Delta x_2)\n",
    "\\end{cases}\n",
    "$$  \n",
    "\n",
    "gdzie $k_{eff}$ jest stałą sprężystości układu sprężyna-sprężyna.\n",
    "\n",
    "Z równań tych wynika, że \n",
    "\n",
    "$$k_{eff} = \\frac{1}{\\frac{1}{k_1} + \\frac{1}{k_2}}$$\n",
    "\n",
    "co można zapisać jako:\n",
    "\n",
    "$$\n",
    "k_{eff} = \\frac{k_1 k_2}{k_1 +k_2}\n",
    "$$\n"
   ]
  },
  {
   "cell_type": "code",
   "execution_count": null,
   "id": "98aad6e1ebfd98b7",
   "metadata": {
    "ExecuteTime": {
     "end_time": "2024-03-31T06:16:43.936479Z",
     "start_time": "2024-03-31T06:16:43.934632Z"
    },
    "collapsed": false,
    "jupyter": {
     "outputs_hidden": false
    }
   },
   "outputs": [],
   "source": []
  },
  {
   "cell_type": "markdown",
   "id": "ef484a1f44470b9c",
   "metadata": {
    "collapsed": false,
    "jupyter": {
     "outputs_hidden": false
    }
   },
   "source": [
    "# Układ dwie równolegle sprężyny i masa\n",
    "\n",
    "W układzie dwie równolegle sprężyny i masa mamy do czynienia z dwoma sprężynami o stałych $k_1$ i $k_2$ oraz masą $m$. Obie sprężyny są połączone z podporą oraz masą. W układzie tym mamy do czynienia z jednym stopniem swobody, a mianowicie z przemieszczeniem masy $x$.\n",
    "\n",
    "Jęśli układ poddamy działaniu siły zewnętrznej F i będziemy utrzymywać masę w stanie spoczynku, to prawdziwe będą równania:\n",
    "\n",
    "$$\n",
    "\\begin{cases}\n",
    "F= k_1 \\Delta x + k_2 \\Delta x = (k_1 + k_2) \\Delta x \\\\\n",
    "F=k_{eff} \\Delta x\n",
    "\\end{cases}\n",
    "$$\n",
    "\n",
    "czyli efektywna stała sprężystości układu sprężyna-sprężyna wynosi:\n",
    "\n",
    "$$\n",
    "k_{eff} = k_1 + k_2\n",
    "$$\n"
   ]
  },
  {
   "cell_type": "markdown",
   "id": "dd29557cb879eb3a",
   "metadata": {
    "collapsed": false,
    "jupyter": {
     "outputs_hidden": false
    }
   },
   "source": [
    "# Układ podpora-sprężyna-masa-sprężyna-podpora\n",
    "\n",
    "W układzie podpora-sprężyna-masa-sprężyna-podpora mamy do czynienia z dwoma sprężynami o stałych $k_1$ i $k_2$ Zakładając, że długość spoczynkowa sprężyn jest taka sama i wynosi $l_0$ oraz dodatkowo zakładamy że podpory są w odległości $L$ od siebie, to równanie ruchu masy $m$ można zapisać jako:\n",
    "\n",
    "$$\n",
    "m \\ddot{x} = -k_1 (x - l_0) - k_2 (x - L + l_0)\n",
    "$$\n",
    "\n",
    "co możemy zapisać jako:\n",
    "\n",
    "$$\n",
    "m \\ddot{x} = -(k_1 + k_2) x +l_0 (k_1 - k_2) + k_2 L\n",
    "$$\n",
    "\n",
    "położenie równowagi układu znajdujemy z równania:\n",
    "\n",
    "$$\n",
    "0 = -(k_1 + k_2) x +l_0 (k_1 - k_2) + k_2 L\n",
    "$$\n",
    "\n",
    "czyli:\n",
    "\n",
    "$$\n",
    "x = \\frac{l_0 (k_1 - k_2) + k_2 L}{k_1 + k_2}\n",
    "$$\n",
    "\n",
    "Przypadek szczególny: $k_1 = k_2 = k$ daje nam\n",
    "\n",
    "$$\n",
    "x = \\frac{L}{2}\n",
    "$$\n",
    "\n",
    "co zgadza się z intuicją!"
   ]
  },
  {
   "cell_type": "code",
   "execution_count": null,
   "id": "69d818818b143e9b",
   "metadata": {
    "ExecuteTime": {
     "end_time": "2024-03-31T06:16:43.947976Z",
     "start_time": "2024-03-31T06:16:43.946133Z"
    },
    "collapsed": false,
    "jupyter": {
     "outputs_hidden": false
    }
   },
   "outputs": [],
   "source": []
  },
  {
   "cell_type": "markdown",
   "id": "bf5c9b7e00e7f93c",
   "metadata": {
    "collapsed": false,
    "jupyter": {
     "outputs_hidden": false
    }
   },
   "source": [
    "# Układ podpora-sprężyna-masa-sprężyna-masa-sprężyna-podpora\n",
    "\n",
    "W tym przypadku mamy już układ 2 równań różniczkowych drugiego rzędu. Zakładamy, że długość spoczynkowa sprężyn wynosi $l_0$ oraz że podpory są w odległości $L$ od siebie. Równania ruchu masy $m_1$ oraz $m_2$ można zapisać jako:\n",
    "\n",
    "\n",
    "$$\n",
    "\\begin{cases}\n",
    "m_1 \\ddot{x_1} = -k_1 (x_1 - l_0) - k_2 (x_2 - x_1 - l_0) \\\\\n",
    "m_2 \\ddot{x_2} = k_2 (x_2 - x_1 - l_0)- k_3 (x_2 - L + l_0)\n",
    "\\end{cases}\n",
    "$$\n",
    "\n",
    "\n",
    "zakładając, że $m_1=m_2$ oraz $k_1=k_2=k_3=k$ otrzymujemy położenie równowagi układu:\n",
    "\n",
    "$$\n",
    "\\begin{cases}\n",
    "0 = -k (x_1 - l_0) + k (x_2 - x_1 - l_0) \\\\\n",
    "0 = -k (x_2 - x_1 - l_0) - k (x_2 - L + l_0)\n",
    "\\end{cases}\n",
    "$$\n",
    "\n",
    "czyli:\n",
    "\n",
    "$$\n",
    "\\begin{cases}\n",
    "x_1 = \\frac{L}{3} \\\\\n",
    "x_2 = \\frac{2L}{3}\n",
    "\\end{cases}\n",
    "$$\n",
    "\n"
   ]
  },
  {
   "cell_type": "code",
   "execution_count": 1,
   "id": "d09c870c558375ba",
   "metadata": {
    "ExecuteTime": {
     "end_time": "2024-03-31T06:16:44.588225Z",
     "start_time": "2024-03-31T06:16:43.950550Z"
    },
    "collapsed": false,
    "jupyter": {
     "outputs_hidden": false
    }
   },
   "outputs": [
    {
     "data": {
      "application/vnd.jupyter.widget-view+json": {
       "model_id": "8d32f01dd0654af6a54885d0a4c6d2d4",
       "version_major": 2,
       "version_minor": 0
      },
      "text/plain": [
       "interactive(children=(IntSlider(value=0, description='t_index', max=199), Output()), _dom_classes=('widget-int…"
      ]
     },
     "metadata": {},
     "output_type": "display_data"
    },
    {
     "data": {
      "text/plain": [
       "<function __main__.plot_masses(t_index)>"
      ]
     },
     "execution_count": 1,
     "metadata": {},
     "output_type": "execute_result"
    }
   ],
   "source": [
    "import numpy as np\n",
    "from scipy.integrate import odeint\n",
    "import matplotlib.pyplot as plt\n",
    "from ipywidgets import interact, widgets\n",
    "\n",
    "# Definicja równań różniczkowych systemu\n",
    "def spring_mass_system(y, t, k, L, m):\n",
    "    x1, x2, v1, v2 = y\n",
    "    dx1dt = v1\n",
    "    dx2dt = v2\n",
    "    dv1dt = (-k*(x1-L/3) + k*(x2-x1-L/3)) / m\n",
    "    dv2dt = (-k*(x2-x1-L/3) - k*(x2-2*L/3)) / m\n",
    "    return [dx1dt, dx2dt, dv1dt, dv2dt]\n",
    "\n",
    "# Parametry systemu\n",
    "k = 1.0  # Współczynnik sprężystości sprężyn\n",
    "L = 3.0  # Długość między podporami\n",
    "m = 1.0  # Masy\n",
    "\n",
    "# Warunki początkowe: [x1, x2, v1, v2]\n",
    "y0 = [L/3, 2*L/3, 0.1, 0]  # Początkowe położenia i prędkości\n",
    "\n",
    "# Czas\n",
    "t = np.linspace(0, 10, 200)  # od 0 do 10 sekund\n",
    "\n",
    "# Rozwiązanie równań różniczkowych\n",
    "solution = odeint(spring_mass_system, y0, t, args=(k, L, m))\n",
    "\n",
    "# Funkcja do wizualizacji\n",
    "def plot_masses(t_index):\n",
    "    plt.figure(figsize=(10, 2))\n",
    "    plt.plot([0, L], [0, 0], 'k')  # Podpory\n",
    "    plt.plot(solution[t_index, 0], 0, 'go', markersize=10)  # Masa 1\n",
    "    plt.plot(solution[t_index, 1], 0, 'ro', markersize=10)  # Masa 2\n",
    "    plt.xlim(-1, L+1)\n",
    "    plt.ylim(-1, 1)\n",
    "    plt.xlabel('Pozycja')\n",
    "    plt.yticks([])\n",
    "    plt.show()\n",
    "\n",
    "# Widget interaktywny\n",
    "interact(plot_masses, t_index=widgets.IntSlider(min=0, max=len(t)-1, step=1, value=0))\n"
   ]
  },
  {
   "cell_type": "markdown",
   "id": "a123503995e43e8",
   "metadata": {
    "collapsed": false,
    "jupyter": {
     "outputs_hidden": false
    }
   },
   "source": [
    "# Układ podpora-sprężyna-masa-sprężyna-masa-sprężyna-masa-sprężyna-podpora\n",
    "\n",
    "\\begin{cases}\n",
    "m_1 \\ddot{x_1} = -k_1 (x_1 - l_0) + k_2 (x_2 - x_1 - l_0), \\\\\n",
    "m_2 \\ddot{x_2} = -k_2 (x_2 - x_1 - l_0) + k_3 (x_3 - x_2 - l_0), \\\\\n",
    "m_3 \\ddot{x_3} = -k_3 (x_3 - x_2 - l_0) - k_4 (x_3 - L + l_0).\n",
    "\\end{cases}\n"
   ]
  },
  {
   "cell_type": "code",
   "execution_count": 2,
   "id": "1231c0c5209416e4",
   "metadata": {
    "ExecuteTime": {
     "end_time": "2024-03-31T06:16:44.653547Z",
     "start_time": "2024-03-31T06:16:44.589452Z"
    },
    "collapsed": false,
    "jupyter": {
     "outputs_hidden": false
    }
   },
   "outputs": [
    {
     "data": {
      "application/vnd.jupyter.widget-view+json": {
       "model_id": "8fd1dfec7d184097b5f8196eddfdb1f4",
       "version_major": 2,
       "version_minor": 0
      },
      "text/plain": [
       "interactive(children=(IntSlider(value=0, description='t_index', max=399), Output()), _dom_classes=('widget-int…"
      ]
     },
     "metadata": {},
     "output_type": "display_data"
    },
    {
     "data": {
      "text/plain": [
       "<function __main__.plot_masses_3(t_index)>"
      ]
     },
     "execution_count": 2,
     "metadata": {},
     "output_type": "execute_result"
    }
   ],
   "source": [
    "import numpy as np\n",
    "from scipy.integrate import odeint\n",
    "import matplotlib.pyplot as plt\n",
    "from ipywidgets import interact, widgets\n",
    "\n",
    "# Definicja równań różniczkowych systemu dla 3 kul\n",
    "def spring_mass_system_3(y, t, k, L, l0, m):\n",
    "    x1, x2, x3, v1, v2, v3 = y\n",
    "    dx1dt = v1\n",
    "    dx2dt = v2\n",
    "    dx3dt = v3\n",
    "    dv1dt = (-k*(x1 - l0) + k*(x2 - x1 - l0)) / m\n",
    "    dv2dt = (-k*(x2 - x1 - l0) + k*(x3 - x2 - l0)) / m\n",
    "    dv3dt = (-k*(x3 - x2 - l0) - k*(x3 - L + l0)) / m\n",
    "    return [dx1dt, dx2dt, dx3dt, dv1dt, dv2dt, dv3dt]\n",
    "\n",
    "# Parametry systemu\n",
    "k = 1.0  # Współczynnik sprężystości sprężyn\n",
    "L = 8.0  # Długość między podporami\n",
    "l0 = 2.0 # Długość spoczynkowa sprężyn\n",
    "m = 1.0  # Masy\n",
    "\n",
    "# Warunki początkowe: [x1, x2, x3, v1, v2, v3]\n",
    "y0 = [l0, 2*l0, 3*l0, 0.5, 0, 0]  # Początkowe położenia i prędkości mas\n",
    "\n",
    "# Czas\n",
    "t = np.linspace(0, 20, 400)  # od 0 do 20 sekund\n",
    "\n",
    "# Rozwiązanie równań różniczkowych\n",
    "solution = odeint(spring_mass_system_3, y0, t, args=(k, L, l0, m))\n",
    "\n",
    "# Funkcja do wizualizacji\n",
    "def plot_masses_3(t_index):\n",
    "    plt.figure(figsize=(12, 2))\n",
    "    plt.plot([0, L], [0, 0], 'k-')  # Podpory\n",
    "    plt.plot(solution[t_index, 0], 0, 'go', markersize=12, label='Masa 1')  # Masa 1\n",
    "    plt.plot(solution[t_index, 1], 0, 'ro', markersize=12, label='Masa 2')  # Masa 2\n",
    "    plt.plot(solution[t_index, 2], 0, 'bo', markersize=12, label='Masa 3')  # Masa 3\n",
    "    plt.xlim(-1, L+1)\n",
    "    plt.ylim(-1, 1)\n",
    "    plt.legend()\n",
    "    plt.xlabel('Pozycja')\n",
    "    plt.yticks([])\n",
    "    plt.show()\n",
    "\n",
    "# Widget interaktywny\n",
    "interact(plot_masses_3, t_index=widgets.IntSlider(min=0, max=len(t)-1, step=1, value=0))\n"
   ]
  },
  {
   "cell_type": "markdown",
   "id": "fdc2bafa0c18cda2",
   "metadata": {
    "collapsed": false,
    "jupyter": {
     "outputs_hidden": false
    }
   },
   "source": [
    "# Układ 10 mas i 11 sprężyn\n",
    "\n",
    "\\begin{align*}\n",
    "m_1 \\ddot{x_1} &= -k_1 (x_1 - l_0) + k_2 (x_2 - x_1 - l_0), \\\\\n",
    "m_2 \\ddot{x_2} &= -k_2 (x_2 - x_1 - l_0) + k_3 (x_3 - x_2 - l_0), \\\\\n",
    "m_3 \\ddot{x_3} &= -k_3 (x_3 - x_2 - l_0) + k_4 (x_4 - x_3 - l_0), \\\\\n",
    "m_4 \\ddot{x_4} &= -k_4 (x_4 - x_3 - l_0) + k_5 (x_5 - x_4 - l_0), \\\\\n",
    "m_5 \\ddot{x_5} &= -k_5 (x_5 - x_4 - l_0) + k_6 (x_6 - x_5 - l_0), \\\\\n",
    "m_6 \\ddot{x_6} &= -k_6 (x_6 - x_5 - l_0) + k_7 (x_7 - x_6 - l_0), \\\\\n",
    "m_7 \\ddot{x_7} &= -k_7 (x_7 - x_6 - l_0) + k_8 (x_8 - x_7 - l_0), \\\\\n",
    "m_8 \\ddot{x_8} &= -k_8 (x_8 - x_7 - l_0) + k_9 (x_9 - x_8 - l_0), \\\\\n",
    "m_9 \\ddot{x_9} &= -k_9 (x_9 - x_8 - l_0) + k_{10} (x_{10} - x_9 - l_0), \\\\\n",
    "m_{10} \\ddot{x_{10}} &= -k_9 (x_{10} - x_9 - l_0) - k_{10} (x_{10} - L + l_0).\n",
    "\\end{align*}\n"
   ]
  },
  {
   "cell_type": "code",
   "execution_count": 3,
   "id": "fdcb195dbe7b448a",
   "metadata": {
    "ExecuteTime": {
     "end_time": "2024-03-31T08:24:38.837566Z",
     "start_time": "2024-03-31T08:24:38.766574Z"
    },
    "collapsed": false,
    "jupyter": {
     "outputs_hidden": false
    }
   },
   "outputs": [
    {
     "data": {
      "application/vnd.jupyter.widget-view+json": {
       "model_id": "3fcde288d46446d7922c4c359c1f5729",
       "version_major": 2,
       "version_minor": 0
      },
      "text/plain": [
       "interactive(children=(IntSlider(value=0, description='t_index', max=1999), Output()), _dom_classes=('widget-in…"
      ]
     },
     "metadata": {},
     "output_type": "display_data"
    },
    {
     "data": {
      "text/plain": [
       "<function __main__.plot_masses_general(t_index)>"
      ]
     },
     "execution_count": 3,
     "metadata": {},
     "output_type": "execute_result"
    }
   ],
   "source": [
    "import numpy as np\n",
    "from scipy.integrate import odeint\n",
    "import matplotlib.pyplot as plt\n",
    "from ipywidgets import interact, widgets\n",
    "\n",
    "def spring_mass_system_general(y, t, k, L, l0, m, N):\n",
    "    dydt = np.zeros(2*N)\n",
    "    for i in range(N):\n",
    "        # x_i\n",
    "        dydt[i] = y[N+i]\n",
    "        # v_i\n",
    "        if i == 0:\n",
    "            dydt[N+i] = (-k*(y[i] - l0) + k*(y[i+1] - y[i] - l0)) / m\n",
    "        elif i == N-1:\n",
    "            dydt[N+i] = (-k*(y[i] - y[i-1] - l0) - k*(y[i] - L + l0)) / m\n",
    "        else:\n",
    "            dydt[N+i] = (-k*(y[i] - y[i-1] - l0) + k*(y[i+1] - y[i] - l0)) / m\n",
    "    return dydt\n",
    "\n",
    "# Parametry systemu\n",
    "N = 10  # Liczba mas\n",
    "k = 1.0  # Współczynnik sprężystości sprężyn\n",
    "L = 22.0  # Długość między podporami\n",
    "l0 = 2.0 # Długość spoczynkowa sprężyn\n",
    "m = 1.0  # Masy\n",
    "\n",
    "# Warunki początkowe: [x1,...,xN, v1,...,vN]\n",
    "y0 = np.array([i*l0 for i in range(1, N+1)] + [0]*N)\n",
    "\n",
    "y0[10]=.5\n",
    "# Czas\n",
    "t = np.linspace(0, 50, 2000)  # od 0 do 20 sekund\n",
    "\n",
    "# Rozwiązanie równań różniczkowych\n",
    "solution = odeint(spring_mass_system_general, y0, t, args=(k, L, l0, m, N))\n",
    "\n",
    "# Funkcja do wizualizacji\n",
    "def plot_masses_general(t_index):\n",
    "    plt.figure(figsize=(14, 2))\n",
    "    plt.plot([0, L], [0, 0], 'k-')  # Podpory\n",
    "    for i in range(N):\n",
    "        plt.plot(solution[t_index, i], 0, 'o', markersize=12, label=f'Masa {i+1}')\n",
    "    plt.xlim(-1, L+1)\n",
    "    plt.ylim(-1, 1)\n",
    "    # plt.legend()\n",
    "    plt.xlabel('Pozycja')\n",
    "    plt.yticks([])\n",
    "    plt.show()\n",
    "\n",
    "# Widget interaktywny\n",
    "interact(plot_masses_general, t_index=widgets.IntSlider(min=0, max=len(t)-1, step=1, value=0))\n"
   ]
  },
  {
   "cell_type": "markdown",
   "id": "597171c9272e9922",
   "metadata": {
    "collapsed": false,
    "jupyter": {
     "outputs_hidden": false
    }
   },
   "source": [
    "# Układ 100 mas"
   ]
  },
  {
   "cell_type": "code",
   "execution_count": 4,
   "id": "c007e333-842e-4174-9d3a-5de4b3eb039a",
   "metadata": {
    "ExecuteTime": {
     "end_time": "2024-03-31T08:25:07.438951Z",
     "start_time": "2024-03-31T08:25:06.628500Z"
    }
   },
   "outputs": [
    {
     "data": {
      "application/vnd.jupyter.widget-view+json": {
       "model_id": "0b463751b9be48d5b753cab714665436",
       "version_major": 2,
       "version_minor": 0
      },
      "text/plain": [
       "interactive(children=(IntSlider(value=0, description='t_index', max=19999), Output()), _dom_classes=('widget-i…"
      ]
     },
     "metadata": {},
     "output_type": "display_data"
    },
    {
     "data": {
      "text/plain": [
       "<function __main__.plot_masses_general(t_index)>"
      ]
     },
     "execution_count": 4,
     "metadata": {},
     "output_type": "execute_result"
    }
   ],
   "source": [
    "import numpy as np\n",
    "from scipy.integrate import odeint\n",
    "import matplotlib.pyplot as plt\n",
    "from ipywidgets import interact, widgets\n",
    "\n",
    "def spring_mass_system_general(y, t, k, L, l0, m, N):\n",
    "    dydt = np.zeros(2*N)\n",
    "    for i in range(N):\n",
    "        # x_i\n",
    "        dydt[i] = y[N+i]\n",
    "        # v_i\n",
    "        if i == 0:\n",
    "            dydt[N+i] = (-k*(y[i] - l0) + k*(y[i+1] - y[i] - l0)) / m\n",
    "        elif i == N-1:\n",
    "            dydt[N+i] = (-k*(y[i] - y[i-1] - l0) - k*(y[i] - L + l0)) / m\n",
    "        else:\n",
    "            dydt[N+i] = (-k*(y[i] - y[i-1] - l0) + k*(y[i+1] - y[i] - l0)) / m\n",
    "    return dydt\n",
    "\n",
    "# Parametry systemu\n",
    "N = 100  # Liczba mas\n",
    "k = 1.0  # Współczynnik sprężystości sprężyn\n",
    "L = 202.0  # Długość między podporami\n",
    "l0 = 2.0 # Długość spoczynkowa sprężyn\n",
    "m = 1.0  # Masy\n",
    "\n",
    "# Warunki początkowe: [x1,...,xN, v1,...,vN]\n",
    "y0 = np.array([i*l0 for i in range(1, N+1)] + [0]*N)\n",
    "\n",
    "y0[100]=.5\n",
    "# Czas\n",
    "t = np.linspace(0, 500, 20000)  # od 0 do 20 sekund\n",
    "\n",
    "# Rozwiązanie równań różniczkowych\n",
    "solution = odeint(spring_mass_system_general, y0, t, args=(k, L, l0, m, N))\n",
    "\n",
    "# Funkcja do wizualizacji\n",
    "def plot_masses_general(t_index):\n",
    "    plt.figure(figsize=(30, 2))\n",
    "    plt.plot([0, L], [0, 0], 'k-')  # Podpory\n",
    "    for i in range(N):\n",
    "        plt.plot(solution[t_index, i], 0, 'o', markersize=12, label=f'Masa {i+1}')\n",
    "    plt.xlim(-1, L+1)\n",
    "    plt.ylim(-1, 1)\n",
    "    # plt.legend()\n",
    "    plt.xlabel('Pozycja')\n",
    "    plt.yticks([])\n",
    "    plt.show()\n",
    "\n",
    "# Widget interaktywny\n",
    "interact(plot_masses_general, t_index=widgets.IntSlider(min=0, max=len(t)-1, step=1, value=0))\n"
   ]
  },
  {
   "cell_type": "markdown",
   "id": "d9f8c00e39870689",
   "metadata": {
    "collapsed": false,
    "jupyter": {
     "outputs_hidden": false
    }
   },
   "source": [
    "# Teraz opiszemy układ podpora-sprężyna-masa-spężyna-podpora (drgania poprzeczne!)\n",
    "\n",
    "Niech podpory będą w odległości $2L$ od siebie, masa będzie siedzieć w połowie odległości między podporami, a sprężyny o stałych $k$ będą w stanie spoczynku. Zakładamy, że oscylacje mogą odbywać się tylko w jednym wymiarze, a mianowicie w kierunku równoległym do podpór. Wówczas równanie ruchu masy $m$ można zapisać jako:\n",
    "\n",
    "$$\n",
    "m \\ddot{y} = -k 2\\frac{y}{L}(\\sqrt{L^2 + y^2} - l_0)\n",
    "$$\n",
    "\n",
    "\n"
   ]
  },
  {
   "cell_type": "markdown",
   "id": "25d66efc560a521",
   "metadata": {
    "collapsed": false,
    "jupyter": {
     "outputs_hidden": false
    }
   },
   "source": [
    "# Dwie masy pomiędzy sprężynami w położeniach horyzontalnych $L$ oraz $2L$ z wychyleniem $y_1$ oraz $y_2$\n",
    "\n",
    "Niech podpory będą w odległości $3L$ wówczas równanie ruchu masy $m_1$ oraz $m_2$ można zapisać jako:\n",
    "\n",
    "$$\n",
    "\\begin{cases}\n",
    "m_1 \\ddot{y_1} = -k \\frac{y_1}{L}(\\sqrt{L^2 + y_1^2} - l_0) + k \\frac{y_2 - y_1}{L}(\\sqrt{L^2 + (y_2 - y_1)^2} - l_0) \\\\\n",
    "m_2 \\ddot{y_2} = -k \\frac{y_2 - y_1}{L}(\\sqrt{L^2 + (y_2 - y_1)^2} - l_0) - k \\frac{y_2}{L}(\\sqrt{L^2 + y_2^2} - l_0)\n",
    "\\end{cases}\n",
    "$$\n"
   ]
  },
  {
   "cell_type": "code",
   "execution_count": 5,
   "id": "c7c9f13b53ebc7e8",
   "metadata": {
    "ExecuteTime": {
     "end_time": "2024-03-31T08:26:26.984352Z",
     "start_time": "2024-03-31T08:26:26.924767Z"
    },
    "collapsed": false,
    "jupyter": {
     "outputs_hidden": false
    }
   },
   "outputs": [
    {
     "data": {
      "application/vnd.jupyter.widget-view+json": {
       "model_id": "3ed34b7c21b144849777e4abea073134",
       "version_major": 2,
       "version_minor": 0
      },
      "text/plain": [
       "interactive(children=(IntSlider(value=0, description='t_index', max=999), Output()), _dom_classes=('widget-int…"
      ]
     },
     "metadata": {},
     "output_type": "display_data"
    },
    {
     "data": {
      "text/plain": [
       "<function __main__.plot_masses_general(t_index)>"
      ]
     },
     "execution_count": 5,
     "metadata": {},
     "output_type": "execute_result"
    }
   ],
   "source": [
    "import numpy as np\n",
    "from scipy.integrate import solve_ivp\n",
    "import matplotlib.pyplot as plt\n",
    "from ipywidgets import interactive\n",
    "\n",
    "# Parametry\n",
    "m1, m2, k, L, l0 = 1.0, 1.0, 1.0, 1.0, 0.5  # przykładowe wartości\n",
    "\n",
    "# Definicja systemu równań\n",
    "def system(t, y):\n",
    "    y1, y2, dy1, dy2 = y\n",
    "    ddy1 = (-k * y1 / L * (np.sqrt(L**2 + y1**2) - l0) + k * (y2 - y1) / L * (np.sqrt(L**2 + (y2 - y1)**2) - l0)) / m1\n",
    "    ddy2 = (-k * (y2 - y1) / L * (np.sqrt(L**2 + (y2 - y1)**2) - l0) - k * y2 / L * (np.sqrt(L**2 + y2**2) - l0)) / m2\n",
    "    return [dy1, dy2, ddy1, ddy2]\n",
    "\n",
    "# Warunki początkowe\n",
    "\n",
    "y0 = [0, 0, 10, 0]  # y1, y2, dy1, dy2\n",
    "\n",
    "# Czas\n",
    "t = np.linspace(0, 20, 1000)\n",
    "\n",
    "# Rozwiązanie równań różniczkowych\n",
    "\n",
    "sol = solve_ivp(system, [t[0], t[-1]], y0, t_eval=t)\n",
    "\n",
    "\n",
    "# Wizualizacja\n",
    "def plot_masses_general(t_index):\n",
    "    plt.figure(figsize=(10, 2))\n",
    "    plt.plot([0, 3*L], [0, 0], 'k-') \n",
    "    # położenie masy 1\n",
    "    plt.plot(1,sol.y[0, t_index], 'go', markersize=10, label='Masa 1')\n",
    "    # położenie masy 2\n",
    "    plt.plot(2,sol.y[1, t_index], 'ro', markersize=10, label='Masa 2')\n",
    "    plt.xlim(-1, 4)\n",
    "    \n",
    "    plt.ylim(-10, 10)\n",
    "\n",
    "interact(plot_masses_general, t_index=widgets.IntSlider(min=0, max=len(t)-1, step=1, value=0))"
   ]
  },
  {
   "cell_type": "code",
   "execution_count": null,
   "id": "90a46e9ca8409fa0",
   "metadata": {
    "collapsed": false,
    "jupyter": {
     "outputs_hidden": false
    }
   },
   "outputs": [],
   "source": []
  },
  {
   "cell_type": "markdown",
   "id": "efc8f1e16bc347b9",
   "metadata": {
    "collapsed": false,
    "jupyter": {
     "outputs_hidden": false
    }
   },
   "source": [
    "# Trzy masy pomiędzy sprężynami w położeniach horyzontalnych $L$, $2L$ oraz $3L$ z wychyleniem $y_1$, $y_2$ oraz $y_3$\n",
    "\n",
    "\\begin{align*}\n",
    "m_1 \\ddot{y}_1 &= -k \\frac{y_1}{L} \\left( \\sqrt{L^2 + y_1^2} - l_0 \\right) + k \\frac{y_2 - y_1}{L} \\left( \\sqrt{L^2 + (y_2 - y_1)^2} - l_0 \\right), \\\\\n",
    "m_2 \\ddot{y}_2 &= -k \\frac{y_2 - y_1}{L} \\left( \\sqrt{L^2 + (y_2 - y_1)^2} - l_0 \\right) + k \\frac{y_3 - y_2}{L} \\left( \\sqrt{L^2 + (y_3 - y_2)^2} - l_0 \\right), \\\\\n",
    "m_3 \\ddot{y}_3 &= -k \\frac{y_3 - y_2}{L} \\left( \\sqrt{L^2 + (y_3 - y_2)^2} - l_0 \\right) - k \\frac{y_3}{L} \\left( \\sqrt{L^2 + y_3^2} - l_0 \\right).\n",
    "\\end{align*}\n"
   ]
  },
  {
   "cell_type": "code",
   "execution_count": 6,
   "id": "f0187f5a6ce999c2",
   "metadata": {
    "ExecuteTime": {
     "end_time": "2024-03-31T08:26:34.358840Z",
     "start_time": "2024-03-31T08:26:34.289422Z"
    },
    "collapsed": false,
    "jupyter": {
     "outputs_hidden": false
    }
   },
   "outputs": [
    {
     "data": {
      "application/vnd.jupyter.widget-view+json": {
       "model_id": "cb71f16a250a4adeb32859ee2460aa9c",
       "version_major": 2,
       "version_minor": 0
      },
      "text/plain": [
       "interactive(children=(IntSlider(value=0, description='t_index', max=999), Output()), _dom_classes=('widget-int…"
      ]
     },
     "execution_count": 6,
     "metadata": {},
     "output_type": "execute_result"
    }
   ],
   "source": [
    "import numpy as np\n",
    "from scipy.integrate import solve_ivp\n",
    "import matplotlib.pyplot as plt\n",
    "from ipywidgets import interactive, IntSlider\n",
    "import ipywidgets as widgets\n",
    "\n",
    "# Parametry\n",
    "m1, m2, m3, k, L, l0 = 1.0, 1.0, 1.0, 1.0, 1.0, 0.5  # przykładowe wartości\n",
    "\n",
    "# Definicja systemu równań\n",
    "# Definicja systemu równań\n",
    "def system(t, y):\n",
    "    y1, y2, y3, dy1, dy2, dy3 = y\n",
    "    ddy1 = (-k * y1 / L * (np.sqrt(L**2 + y1**2) - l0) + k * (y2 - y1) / L * (np.sqrt(L**2 + (y2 - y1)**2) - l0)) / m1\n",
    "    ddy2 = (-k * (y2 - y1) / L * (np.sqrt(L**2 + (y2 - y1)**2) - l0) + k * (y3 - y2) / L * (np.sqrt(L**2 + (y3 - y2)**2) - l0)) / m2\n",
    "    ddy3 = (-k * (y3 - y2) / L * (np.sqrt(L**2 + (y3 - y2)**2) - l0) - k * y3 / L * (np.sqrt(L**2 + y3**2) - l0)) / m3\n",
    "    return [dy1, dy2, dy3, ddy1, ddy2, ddy3]\n",
    "\n",
    "\n",
    "# Warunki początkowe\n",
    "y0 = [0, 0, 0, 10, 0, 0]  # y1, y2, y3, dy1, dy2, dy3\n",
    "\n",
    "# Czas\n",
    "t = np.linspace(0, 20, 1000)\n",
    "\n",
    "# Rozwiązanie równań różniczkowych\n",
    "sol = solve_ivp(system, [t[0], t[-1]], y0, t_eval=t)\n",
    "\n",
    "# Dokończmy funkcję wizualizacyjną\n",
    "def plot_masses_general(t_index):\n",
    "    plt.figure(figsize=(10, 2))\n",
    "    plt.plot([0, 4*L], [0, 0], 'k-', lw=2)  # Podpory\n",
    "    # Położenie mas\n",
    "    plt.plot(L, sol.y[0, t_index], 'go', markersize=10, label='Masa 1')\n",
    "    plt.plot(2*L, sol.y[1, t_index], 'ro', markersize=10, label='Masa 2')\n",
    "    plt.plot(3*L, sol.y[2, t_index], 'bo', markersize=10, label='Masa 3')\n",
    "    plt.xlim(0, 4*L)\n",
    "    plt.ylim(-10, 10)\n",
    "    plt.show()\n",
    "\n",
    "interactive_plot = interactive(plot_masses_general, t_index=IntSlider(min=0, max=len(t)-1, step=1, value=0))\n",
    "interactive_plot\n"
   ]
  },
  {
   "cell_type": "code",
   "execution_count": null,
   "id": "326ed87d28cccb37",
   "metadata": {
    "ExecuteTime": {
     "end_time": "2024-03-31T08:26:40.569365Z",
     "start_time": "2024-03-31T08:26:40.567516Z"
    },
    "collapsed": false,
    "jupyter": {
     "outputs_hidden": false
    }
   },
   "outputs": [],
   "source": []
  },
  {
   "cell_type": "markdown",
   "id": "5a399f8a820191a2",
   "metadata": {
    "collapsed": false,
    "jupyter": {
     "outputs_hidden": false
    }
   },
   "source": [
    "# Układ 10 mas\n",
    "\n",
    "$$\n",
    "\\begin{align*}\n",
    "m_1 \\ddot{y}_1 &= -k \\left( \\frac{y_1}{L} \\right) \\left( \\sqrt{L^2 + y_1^2} - l_0 \\right) + k \\left( \\frac{y_2 - y_1}{L} \\right) \\left( \\sqrt{L^2 + (y_2 - y_1)^2} - l_0 \\right)\\text{Dla } i = 1: \\\\\n",
    "m_i \\ddot{y}_i &= -k \\left( \\frac{y_i - y_{i-1}}{L} \\right) \\left( \\sqrt{L^2 + (y_i - y_{i-1})^2} - l_0 \\right) + k \\left( \\frac{y_{i+1} - y_i}{L} \\right) \\left( \\sqrt{L^2 + (y_{i+1} - y_i)^2} - l_0 \\right), \\quad\\text{Dla } 1 < i < n: \\\\\n",
    "m_n \\ddot{y}_n &= -k \\left( \\frac{y_n - y_{n-1}}{L} \\right) \\left( \\sqrt{L^2 + (y_n - y_{n-1})^2} - l_0 \\right) - k \\left( \\frac{y_n}{L} \\right) \\left( \\sqrt{L^2 + y_n^2} - l_0 \\right), \\quad \\text{Dla } i = n: \\\\\n",
    "\\end{align*}\n",
    "$$"
   ]
  },
  {
   "cell_type": "code",
   "execution_count": 7,
   "id": "3038391261808ad0",
   "metadata": {
    "ExecuteTime": {
     "end_time": "2024-03-31T08:26:47.402858Z",
     "start_time": "2024-03-31T08:26:47.319686Z"
    },
    "collapsed": false,
    "jupyter": {
     "outputs_hidden": false
    }
   },
   "outputs": [
    {
     "data": {
      "application/vnd.jupyter.widget-view+json": {
       "model_id": "4f3f57fdd16b453f99f297a719a9e657",
       "version_major": 2,
       "version_minor": 0
      },
      "text/plain": [
       "interactive(children=(IntSlider(value=0, description='t_index', max=999), Output()), _dom_classes=('widget-int…"
      ]
     },
     "execution_count": 7,
     "metadata": {},
     "output_type": "execute_result"
    }
   ],
   "source": [
    "import numpy as np\n",
    "from scipy.integrate import solve_ivp\n",
    "import matplotlib.pyplot as plt\n",
    "from ipywidgets import interactive, IntSlider\n",
    "import ipywidgets as widgets\n",
    "\n",
    "# Parametry\n",
    "n_mases = 10  # liczba mas\n",
    "k, L, l0 = 1.0, 1.0, 0.5  # przykładowe wartości\n",
    "masas = np.ones(n_mases)  # masy, tutaj wszystkie równe 1.0 dla uproszczenia\n",
    "\n",
    "# Definicja systemu równań\n",
    "def system(t, y):\n",
    "    positions = y[:n_mases]  # pozycje\n",
    "    velocities = y[n_mases:]  # prędkości\n",
    "    ddy = np.zeros(n_mases)  # przyspieszenia\n",
    "    for i in range(n_mases):\n",
    "        if i == 0:\n",
    "            force = -k * (positions[i] / L) * (np.sqrt(L**2 + positions[i]**2) - l0) + k * ((positions[i+1] - positions[i]) / L) * (np.sqrt(L**2 + (positions[i+1] - positions[i])**2) - l0)\n",
    "        elif i == n_mases - 1:\n",
    "            force = -k * ((positions[i] - positions[i-1]) / L) * (np.sqrt(L**2 + (positions[i] - positions[i-1])**2) - l0) - k * (positions[i] / L) * (np.sqrt(L**2 + positions[i]**2) - l0)\n",
    "        else:\n",
    "            force = -k * ((positions[i] - positions[i-1]) / L) * (np.sqrt(L**2 + (positions[i] - positions[i-1])**2) - l0) + k * ((positions[i+1] - positions[i]) / L) * (np.sqrt(L**2 + (positions[i+1] - positions[i])**2) - l0)\n",
    "        ddy[i] = force / masas[i]\n",
    "    return np.concatenate([velocities, ddy])  # Zwracamy prędkości i przyspieszenia\n",
    "\n",
    "# Warunki początkowe\n",
    "y0 = np.zeros(2 * n_mases)  # dla y_i oraz dy_i, tu zakładamy, że wszystkie prędkości początkowe są zerowe poza pierwszą masą\n",
    "y0[n_mases] = 10  # prędkość początkowa dla pierwszej masy\n",
    "\n",
    "# Czas\n",
    "t = np.linspace(0, 20, 1000)\n",
    "\n",
    "# Rozwiązanie równań różniczkowych\n",
    "sol = solve_ivp(system, [t[0], t[-1]], y0, t_eval=t)  # Usunąłem flagę vectorized\n",
    "\n",
    "# Wizualizacja\n",
    "def plot_masses_general(t_index):\n",
    "    plt.figure(figsize=(15, 3))\n",
    "    for i in range(n_mases):\n",
    "        plt.plot((i+1)*L, sol.y[i, t_index], 'o', markersize=10, label=f'Masa {i+1}')\n",
    "    plt.plot([0, (n_mases+1)*L], [0, 0], 'k-', lw=2)  # Podpory\n",
    "    plt.xlim(0, (n_mases+1)*L)\n",
    "    plt.ylim(-10, 10)\n",
    "    # plt.legend()\n",
    "    plt.show()\n",
    "\n",
    "interactive_plot = interactive(plot_masses_general, t_index=IntSlider(min=0, max=len(t)-1, step=1, value=0))\n",
    "interactive_plot\n"
   ]
  },
  {
   "cell_type": "code",
   "execution_count": null,
   "id": "eb3e4fc493ab7751",
   "metadata": {
    "collapsed": false,
    "jupyter": {
     "outputs_hidden": false
    }
   },
   "outputs": [],
   "source": []
  }
 ],
 "metadata": {
  "kernelspec": {
   "display_name": "Python 3 (ipykernel)",
   "language": "python",
   "name": "python3"
  },
  "language_info": {
   "codemirror_mode": {
    "name": "ipython",
    "version": 3
   },
   "file_extension": ".py",
   "mimetype": "text/x-python",
   "name": "python",
   "nbconvert_exporter": "python",
   "pygments_lexer": "ipython3",
   "version": "3.11.5"
  }
 },
 "nbformat": 4,
 "nbformat_minor": 5
}
