{
 "cells": [
  {
   "cell_type": "markdown",
   "id": "189f52ac2e7a8375",
   "metadata": {
    "collapsed": false,
    "jupyter": {
     "outputs_hidden": false
    }
   },
   "source": [
    "# Układ sprężyna-spężyna-masa\n",
    "\n",
    "W układzie sprężyna-sprężyna-masa mamy do czynienia z dwoma sprężynami o stałych $k_1$ i $k_2$ oraz masą $m$. Sprężyna 1 jest połączona z podporą, sprężyna 2 z masą, a sprężyna 1 i 2 są połączone ze sobą. W układzie tym mamy do czynienia z dwoma stopniami swobody, a mianowicie z przemieszczeniem masy $x_1$ oraz przemieszczeniem masy $x_2$.\n",
    "\n",
    "Jęśli układ poddamy działaniu siły zewnętrznej F i będziemy utrzymywać masę w stanie spoczynku, to prawdziwe będą równania:\n",
    "\n",
    "$$\n",
    "\\begin{cases}\n",
    "F= k_1 \\Delta x_1 \\\\\n",
    "F= k_2 \\Delta x_2 \\\\\n",
    "F=k_{eff}(\\Delta x_1 + \\Delta x_2)\n",
    "\\end{cases}\n",
    "$$  \n",
    "\n",
    "gdzie $k_{eff}$ jest stałą sprężystości układu sprężyna-sprężyna.\n",
    "\n",
    "Z równań tych wynika, że \n",
    "\n",
    "$$k_{eff} = \\frac{1}{\\frac{1}{k_1} + \\frac{1}{k_2}}$$\n",
    "\n",
    "co można zapisać jako:\n",
    "\n",
    "$$\n",
    "k_{eff} = \\frac{k_1 k_2}{k_1 +k_2}\n",
    "$$\n"
   ]
  },
  {
   "cell_type": "code",
   "execution_count": null,
   "id": "98aad6e1ebfd98b7",
   "metadata": {
    "ExecuteTime": {
     "end_time": "2024-03-30T13:26:02.941021Z",
     "start_time": "2024-03-30T13:26:02.938794Z"
    },
    "collapsed": false,
    "jupyter": {
     "outputs_hidden": false
    }
   },
   "outputs": [],
   "source": []
  },
  {
   "cell_type": "markdown",
   "id": "ef484a1f44470b9c",
   "metadata": {
    "collapsed": false,
    "jupyter": {
     "outputs_hidden": false
    }
   },
   "source": [
    "# Układ dwie równolegle sprężyny i masa\n",
    "\n",
    "W układzie dwie równolegle sprężyny i masa mamy do czynienia z dwoma sprężynami o stałych $k_1$ i $k_2$ oraz masą $m$. Obie sprężyny są połączone z podporą oraz masą. W układzie tym mamy do czynienia z jednym stopniem swobody, a mianowicie z przemieszczeniem masy $x$.\n",
    "\n",
    "Jęśli układ poddamy działaniu siły zewnętrznej F i będziemy utrzymywać masę w stanie spoczynku, to prawdziwe będą równania:\n",
    "\n",
    "$$\n",
    "\\begin{cases}\n",
    "F= k_1 \\Delta x + k_2 \\Delta x = (k_1 + k_2) \\Delta x \\\\\n",
    "F=k_{eff} \\Delta x\n",
    "\\end{cases}\n",
    "$$\n",
    "\n",
    "czyli efektywna stała sprężystości układu sprężyna-sprężyna wynosi:\n",
    "\n",
    "$$\n",
    "k_{eff} = k_1 + k_2\n",
    "$$\n"
   ]
  },
  {
   "cell_type": "markdown",
   "id": "dd29557cb879eb3a",
   "metadata": {
    "collapsed": false,
    "jupyter": {
     "outputs_hidden": false
    }
   },
   "source": [
    "# Układ podpora-sprężyna-masa-sprężyna-podpora\n",
    "\n",
    "W układzie podpora-sprężyna-masa-sprężyna-podpora mamy do czynienia z dwoma sprężynami o stałych $k_1$ i $k_2$ Zakładając, że długość spoczynkowa sprężyn jest taka sama i wynosi $l_0$ oraz dodatkowo zakładamy że podpory są w odległości $L$ od siebie, to równanie ruchu masy $m$ można zapisać jako:\n",
    "\n",
    "$$\n",
    "m \\ddot{x} = -k_1 (x - l_0) - k_2 (x - L + l_0)\n",
    "$$\n",
    "\n",
    "co możemy zapisać jako:\n",
    "\n",
    "$$\n",
    "m \\ddot{x} = -(k_1 + k_2) x +l_0 (k_1 - k_2) + k_2 L\n",
    "$$\n",
    "\n",
    "położenie równowagi układu znajdujemy z równania:\n",
    "\n",
    "$$\n",
    "0 = -(k_1 + k_2) x +l_0 (k_1 - k_2) + k_2 L\n",
    "$$\n",
    "\n",
    "czyli:\n",
    "\n",
    "$$\n",
    "x = \\frac{l_0 (k_1 - k_2) + k_2 L}{k_1 + k_2}\n",
    "$$\n",
    "\n",
    "Przypadek szczególny: $k_1 = k_2 = k$ daje nam\n",
    "\n",
    "$$\n",
    "x = \\frac{L}{2}\n",
    "$$\n",
    "\n",
    "co zgadza się z intuicją!"
   ]
  },
  {
   "cell_type": "code",
   "execution_count": null,
   "id": "69d818818b143e9b",
   "metadata": {
    "ExecuteTime": {
     "end_time": "2024-03-30T13:26:05.043035Z",
     "start_time": "2024-03-30T13:26:05.040200Z"
    },
    "collapsed": false,
    "jupyter": {
     "outputs_hidden": false
    }
   },
   "outputs": [],
   "source": []
  },
  {
   "cell_type": "markdown",
   "id": "bf5c9b7e00e7f93c",
   "metadata": {
    "collapsed": false,
    "jupyter": {
     "outputs_hidden": false
    }
   },
   "source": [
    "# Układ podpora-sprężyna-masa-sprężyna-masa-sprężyna-podpora\n",
    "\n",
    "W tym przypadku mamy już układ 2 równań różniczkowych drugiego rzędu. Zakładamy, że długość spoczynkowa sprężyn wynosi $l_0$ oraz że podpory są w odległości $L$ od siebie. Równania ruchu masy $m_1$ oraz $m_2$ można zapisać jako:\n",
    "\n",
    "\n",
    "$$\n",
    "\\begin{cases}\n",
    "m_1 \\ddot{x_1} = -k_1 (x_1 - l_0) - k_2 (x_2 - x_1 - l_0) \\\\\n",
    "m_2 \\ddot{x_2} = k_2 (x_2 - x_1 - l_0)- k_3 (x_2 - L + l_0)\n",
    "\\end{cases}\n",
    "$$\n",
    "\n",
    "\n",
    "zakładając, że $m_1=m_2$ oraz $k_1=k_2=k_3=k$ otrzymujemy położenie równowagi układu:\n",
    "\n",
    "$$\n",
    "\\begin{cases}\n",
    "0 = -k (x_1 - l_0) + k (x_2 - x_1 - l_0) \\\\\n",
    "0 = -k (x_2 - x_1 - l_0) - k (x_2 - L + l_0)\n",
    "\\end{cases}\n",
    "$$\n",
    "\n",
    "czyli:\n",
    "\n",
    "$$\n",
    "\\begin{cases}\n",
    "x_1 = \\frac{L}{3} \\\\\n",
    "x_2 = \\frac{2L}{3}\n",
    "\\end{cases}\n",
    "$$\n",
    "\n"
   ]
  },
  {
   "cell_type": "code",
   "execution_count": null,
   "id": "d09c870c558375ba",
   "metadata": {
    "collapsed": false,
    "jupyter": {
     "outputs_hidden": false
    }
   },
   "outputs": [],
   "source": []
  },
  {
   "cell_type": "markdown",
   "id": "a123503995e43e8",
   "metadata": {
    "collapsed": false,
    "jupyter": {
     "outputs_hidden": false
    }
   },
   "source": [
    "# Układ podpora-sprężyna-masa-sprężyna-masa-sprężyna-masa-sprężyna-podpora\n",
    "\n",
    "\\begin{cases}\n",
    "m_1 \\ddot{x_1} = -k_1 (x_1 - l_0) + k_2 (x_2 - x_1 - l_0), \\\\\n",
    "m_2 \\ddot{x_2} = -k_2 (x_2 - x_1 - l_0) + k_3 (x_3 - x_2 - l_0), \\\\\n",
    "m_3 \\ddot{x_3} = -k_3 (x_3 - x_2 - l_0) - k_4 (x_3 - L + l_0).\n",
    "\\end{cases}\n"
   ]
  },
  {
   "cell_type": "markdown",
   "id": "fdc2bafa0c18cda2",
   "metadata": {
    "collapsed": false,
    "jupyter": {
     "outputs_hidden": false
    }
   },
   "source": [
    "# Układ 10 mas i 11 sprężyn\n",
    "\n",
    "\\begin{align*}\n",
    "m_1 \\ddot{x_1} &= -k_1 (x_1 - l_0) + k_2 (x_2 - x_1 - l_0), \\\\\n",
    "m_2 \\ddot{x_2} &= -k_2 (x_2 - x_1 - l_0) + k_3 (x_3 - x_2 - l_0), \\\\\n",
    "m_3 \\ddot{x_3} &= -k_3 (x_3 - x_2 - l_0) + k_4 (x_4 - x_3 - l_0), \\\\\n",
    "m_4 \\ddot{x_4} &= -k_4 (x_4 - x_3 - l_0) + k_5 (x_5 - x_4 - l_0), \\\\\n",
    "m_5 \\ddot{x_5} &= -k_5 (x_5 - x_4 - l_0) + k_6 (x_6 - x_5 - l_0), \\\\\n",
    "m_6 \\ddot{x_6} &= -k_6 (x_6 - x_5 - l_0) + k_7 (x_7 - x_6 - l_0), \\\\\n",
    "m_7 \\ddot{x_7} &= -k_7 (x_7 - x_6 - l_0) + k_8 (x_8 - x_7 - l_0), \\\\\n",
    "m_8 \\ddot{x_8} &= -k_8 (x_8 - x_7 - l_0) + k_9 (x_9 - x_8 - l_0), \\\\\n",
    "m_9 \\ddot{x_9} &= -k_9 (x_9 - x_8 - l_0) + k_{10} (x_{10} - x_9 - l_0), \\\\\n",
    "m_{10} \\ddot{x_{10}} &= -k_9 (x_{10} - x_9 - l_0) - k_{10} (x_{10} - L + l_0).\n",
    "\\end{align*}\n"
   ]
  },
  {
   "cell_type": "code",
   "execution_count": null,
   "id": "fdcb195dbe7b448a",
   "metadata": {
    "collapsed": false,
    "jupyter": {
     "outputs_hidden": false
    }
   },
   "outputs": [],
   "source": []
  }
 ],
 "metadata": {
  "kernelspec": {
   "display_name": "Python 3 (ipykernel)",
   "language": "python",
   "name": "python3"
  },
  "language_info": {
   "codemirror_mode": {
    "name": "ipython",
    "version": 3
   },
   "file_extension": ".py",
   "mimetype": "text/x-python",
   "name": "python",
   "nbconvert_exporter": "python",
   "pygments_lexer": "ipython3",
   "version": "3.11.5"
  }
 },
 "nbformat": 4,
 "nbformat_minor": 5
}
