{
 "cells": [
  {
   "cell_type": "markdown",
   "id": "189f52ac2e7a8375",
   "metadata": {
    "collapsed": false
   },
   "source": [
    "# Układ sprężyna-spężyna-masa\n",
    "\n",
    "W układzie sprężyna-sprężyna-masa mamy do czynienia z dwoma sprężynami o stałych $k_1$ i $k_2$ oraz masą $m$. Sprężyna 1 jest połączona z podporą, sprężyna 2 z masą, a sprężyna 1 i 2 są połączone ze sobą. W układzie tym mamy do czynienia z dwoma stopniami swobody, a mianowicie z przemieszczeniem masy $x_1$ oraz przemieszczeniem masy $x_2$.\n",
    "\n",
    "Jęśli układ poddamy działaniu siły zewnętrznej F i będziemy utrzymywać masę w stanie spoczynku, to prawdziwe będą równania:\n",
    "\n",
    "$$\n",
    "\\begin{cases}\n",
    "F= k_1 \\Delta x_1 \\\\\n",
    "F= k_2 \\Delta x_2 \\\\\n",
    "F=k_{eff}(\\Delta x_1 + \\Delta x_2)\n",
    "\\end{cases}\n",
    "$$  \n",
    "\n",
    "gdzie $k_{eff}$ jest stałą sprężystości układu sprężyna-sprężyna.\n",
    "\n",
    "Z równań tych wynika, że \n",
    "\n",
    "$$k_{eff} = \\frac{1}{\\frac{1}{k_1} + \\frac{1}{k_2}}$$\n",
    "\n",
    "co można zapisać jako:\n",
    "\n",
    "$$\n",
    "k_{eff} = \\frac{k_1 k_2}{k_1 +k_2}\n",
    "$$\n"
   ]
  },
  {
   "cell_type": "code",
   "execution_count": null,
   "id": "98aad6e1ebfd98b7",
   "metadata": {
    "ExecuteTime": {
     "end_time": "2024-03-30T13:26:02.941021Z",
     "start_time": "2024-03-30T13:26:02.938794Z"
    },
    "collapsed": false
   },
   "outputs": [],
   "source": []
  },
  {
   "cell_type": "markdown",
   "id": "ef484a1f44470b9c",
   "metadata": {
    "collapsed": false
   },
   "source": [
    "# Układ dwie równolegle sprężyny i masa\n",
    "\n",
    "W układzie dwie równolegle sprężyny i masa mamy do czynienia z dwoma sprężynami o stałych $k_1$ i $k_2$ oraz masą $m$. Obie sprężyny są połączone z podporą oraz masą. W układzie tym mamy do czynienia z jednym stopniem swobody, a mianowicie z przemieszczeniem masy $x$.\n",
    "\n",
    "Jęśli układ poddamy działaniu siły zewnętrznej F i będziemy utrzymywać masę w stanie spoczynku, to prawdziwe będą równania:\n",
    "\n",
    "$$\n",
    "\\begin{cases}\n",
    "F= k_1 \\Delta x + k_2 \\Delta x = (k_1 + k_2) \\Delta x \\\\\n",
    "F=k_{eff} \\Delta x\n",
    "\\end{cases}\n",
    "$$\n",
    "\n",
    "czyli efektywna stała sprężystości układu sprężyna-sprężyna wynosi:\n",
    "\n",
    "$$\n",
    "k_{eff} = k_1 + k_2\n",
    "$$\n"
   ]
  },
  {
   "cell_type": "markdown",
   "id": "dd29557cb879eb3a",
   "metadata": {
    "collapsed": false
   },
   "source": [
    "# Układ podpora-sprężyna-masa-sprężyna-podpora\n",
    "\n",
    "W układzie podpora-sprężyna-masa-sprężyna-podpora mamy do czynienia z dwoma sprężynami o stałych $k_1$ i $k_2$ Zakładając, że długość spoczynkowa sprężyn jest taka sama i wynosi $l_0$ oraz dodatkowo zakładamy że podpory są w odległości $L$ od siebie, to równanie ruchu masy $m$ można zapisać jako:\n",
    "\n",
    "$$\n",
    "m \\ddot{x} = -k_1 (x - l_0) - k_2 (x - L + l_0)\n",
    "$$\n",
    "\n",
    "co możemy zapisać jako:\n",
    "\n",
    "$$\n",
    "m \\ddot{x} = -(k_1 + k_2) x +l_0 (k_1 - k_2) + k_2 L\n",
    "$$\n",
    "\n",
    "położenie równowagi układu znajdujemy z równania:\n",
    "\n",
    "$$\n",
    "0 = -(k_1 + k_2) x +l_0 (k_1 - k_2) + k_2 L\n",
    "$$\n",
    "\n",
    "czyli:\n",
    "\n",
    "$$\n",
    "x = \\frac{l_0 (k_1 - k_2) + k_2 L}{k_1 + k_2}\n",
    "$$\n",
    "\n",
    "Przypadek szczególny: $k_1 = k_2 = k$ daje nam\n",
    "\n",
    "$$\n",
    "x = \\frac{L}{2}\n",
    "$$\n",
    "\n",
    "co zgadza się z intuicją!"
   ]
  },
  {
   "cell_type": "code",
   "execution_count": null,
   "id": "69d818818b143e9b",
   "metadata": {
    "ExecuteTime": {
     "end_time": "2024-03-30T13:26:05.043035Z",
     "start_time": "2024-03-30T13:26:05.040200Z"
    },
    "collapsed": false
   },
   "outputs": [],
   "source": []
  },
  {
   "cell_type": "markdown",
   "id": "bf5c9b7e00e7f93c",
   "metadata": {
    "collapsed": false
   },
   "source": [
    "# Układ podpora-sprężyna-masa-sprężyna-masa-sprężyna-podpora\n",
    "\n",
    "W tym przypadku mamy już układ 2 równań różniczkowych drugiego rzędu. Zakładamy, że długość spoczynkowa sprężyn wynosi $l_0$ oraz że podpory są w odległości $L$ od siebie. Równania ruchu masy $m_1$ oraz $m_2$ można zapisać jako:\n",
    "\n",
    "\n",
    "$$\n",
    "\\begin{cases}\n",
    "m_1 \\ddot{x_1} = -k_1 (x_1 - l_0) - k_2 (x_2 - x_1 - l_0) \\\\\n",
    "m_2 \\ddot{x_2} = k_2 (x_2 - x_1 - l_0)- k_3 (x_2 - L + l_0)\n",
    "\\end{cases}\n",
    "$$\n",
    "\n",
    "\n",
    "zakładając, że $m_1=m_2$ oraz $k_1=k_2=k_3=k$ otrzymujemy położenie równowagi układu:\n",
    "\n",
    "$$\n",
    "\\begin{cases}\n",
    "0 = -k (x_1 - l_0) + k (x_2 - x_1 - l_0) \\\\\n",
    "0 = -k (x_2 - x_1 - l_0) - k (x_2 - L + l_0)\n",
    "\\end{cases}\n",
    "$$\n",
    "\n",
    "czyli:\n",
    "\n",
    "$$\n",
    "\\begin{cases}\n",
    "x_1 = \\frac{L}{3} \\\\\n",
    "x_2 = \\frac{2L}{3}\n",
    "\\end{cases}\n",
    "$$\n",
    "\n"
   ]
  },
  {
   "cell_type": "code",
   "execution_count": 14,
   "id": "d09c870c558375ba",
   "metadata": {
    "ExecuteTime": {
     "end_time": "2024-03-30T15:21:00.033349Z",
     "start_time": "2024-03-30T15:20:59.983732Z"
    },
    "collapsed": false
   },
   "outputs": [
    {
     "data": {
      "application/vnd.jupyter.widget-view+json": {
       "model_id": "7fe17dab47944602ba938fa58bec1ad3",
       "version_major": 2,
       "version_minor": 0
      },
      "text/plain": [
       "interactive(children=(IntSlider(value=0, description='t_index', max=199), Output()), _dom_classes=('widget-int…"
      ]
     },
     "metadata": {},
     "output_type": "display_data"
    },
    {
     "data": {
      "text/plain": [
       "<function __main__.plot_masses(t_index)>"
      ]
     },
     "execution_count": 14,
     "metadata": {},
     "output_type": "execute_result"
    }
   ],
   "source": [
    "import numpy as np\n",
    "from scipy.integrate import odeint\n",
    "import matplotlib.pyplot as plt\n",
    "from ipywidgets import interact, widgets\n",
    "\n",
    "# Definicja równań różniczkowych systemu\n",
    "def spring_mass_system(y, t, k, L, m):\n",
    "    x1, x2, v1, v2 = y\n",
    "    dx1dt = v1\n",
    "    dx2dt = v2\n",
    "    dv1dt = (-k*(x1-L/3) + k*(x2-x1-L/3)) / m\n",
    "    dv2dt = (-k*(x2-x1-L/3) - k*(x2-2*L/3)) / m\n",
    "    return [dx1dt, dx2dt, dv1dt, dv2dt]\n",
    "\n",
    "# Parametry systemu\n",
    "k = 1.0  # Współczynnik sprężystości sprężyn\n",
    "L = 3.0  # Długość między podporami\n",
    "m = 1.0  # Masy\n",
    "\n",
    "# Warunki początkowe: [x1, x2, v1, v2]\n",
    "y0 = [L/3, 2*L/3, 0.1, 0]  # Początkowe położenia i prędkości\n",
    "\n",
    "# Czas\n",
    "t = np.linspace(0, 10, 200)  # od 0 do 10 sekund\n",
    "\n",
    "# Rozwiązanie równań różniczkowych\n",
    "solution = odeint(spring_mass_system, y0, t, args=(k, L, m))\n",
    "\n",
    "# Funkcja do wizualizacji\n",
    "def plot_masses(t_index):\n",
    "    plt.figure(figsize=(10, 2))\n",
    "    plt.plot([0, L], [0, 0], 'k')  # Podpory\n",
    "    plt.plot(solution[t_index, 0], 0, 'go', markersize=10)  # Masa 1\n",
    "    plt.plot(solution[t_index, 1], 0, 'ro', markersize=10)  # Masa 2\n",
    "    plt.xlim(-1, L+1)\n",
    "    plt.ylim(-1, 1)\n",
    "    plt.xlabel('Pozycja')\n",
    "    plt.yticks([])\n",
    "    plt.show()\n",
    "\n",
    "# Widget interaktywny\n",
    "interact(plot_masses, t_index=widgets.IntSlider(min=0, max=len(t)-1, step=1, value=0))\n"
   ]
  },
  {
   "cell_type": "markdown",
   "id": "a123503995e43e8",
   "metadata": {
    "collapsed": false
   },
   "source": [
    "# Układ podpora-sprężyna-masa-sprężyna-masa-sprężyna-masa-sprężyna-podpora\n",
    "\n",
    "\\begin{cases}\n",
    "m_1 \\ddot{x_1} = -k_1 (x_1 - l_0) + k_2 (x_2 - x_1 - l_0), \\\\\n",
    "m_2 \\ddot{x_2} = -k_2 (x_2 - x_1 - l_0) + k_3 (x_3 - x_2 - l_0), \\\\\n",
    "m_3 \\ddot{x_3} = -k_3 (x_3 - x_2 - l_0) - k_4 (x_3 - L + l_0).\n",
    "\\end{cases}\n"
   ]
  },
  {
   "cell_type": "code",
   "execution_count": 17,
   "id": "1231c0c5209416e4",
   "metadata": {
    "ExecuteTime": {
     "end_time": "2024-03-30T15:22:52.559271Z",
     "start_time": "2024-03-30T15:22:52.493790Z"
    },
    "collapsed": false
   },
   "outputs": [
    {
     "data": {
      "application/vnd.jupyter.widget-view+json": {
       "model_id": "f273330ad1a24c57b4dff16e645f183b",
       "version_major": 2,
       "version_minor": 0
      },
      "text/plain": [
       "interactive(children=(IntSlider(value=0, description='t_index', max=399), Output()), _dom_classes=('widget-int…"
      ]
     },
     "metadata": {},
     "output_type": "display_data"
    },
    {
     "data": {
      "text/plain": [
       "<function __main__.plot_masses_3(t_index)>"
      ]
     },
     "execution_count": 17,
     "metadata": {},
     "output_type": "execute_result"
    }
   ],
   "source": [
    "import numpy as np\n",
    "from scipy.integrate import odeint\n",
    "import matplotlib.pyplot as plt\n",
    "from ipywidgets import interact, widgets\n",
    "\n",
    "# Definicja równań różniczkowych systemu dla 3 kul\n",
    "def spring_mass_system_3(y, t, k, L, l0, m):\n",
    "    x1, x2, x3, v1, v2, v3 = y\n",
    "    dx1dt = v1\n",
    "    dx2dt = v2\n",
    "    dx3dt = v3\n",
    "    dv1dt = (-k*(x1 - l0) + k*(x2 - x1 - l0)) / m\n",
    "    dv2dt = (-k*(x2 - x1 - l0) + k*(x3 - x2 - l0)) / m\n",
    "    dv3dt = (-k*(x3 - x2 - l0) - k*(x3 - L + l0)) / m\n",
    "    return [dx1dt, dx2dt, dx3dt, dv1dt, dv2dt, dv3dt]\n",
    "\n",
    "# Parametry systemu\n",
    "k = 1.0  # Współczynnik sprężystości sprężyn\n",
    "L = 8.0  # Długość między podporami\n",
    "l0 = 2.0 # Długość spoczynkowa sprężyn\n",
    "m = 1.0  # Masy\n",
    "\n",
    "# Warunki początkowe: [x1, x2, x3, v1, v2, v3]\n",
    "y0 = [l0, 2*l0, 3*l0, 0.5, 0, 0]  # Początkowe położenia i prędkości mas\n",
    "\n",
    "# Czas\n",
    "t = np.linspace(0, 20, 400)  # od 0 do 20 sekund\n",
    "\n",
    "# Rozwiązanie równań różniczkowych\n",
    "solution = odeint(spring_mass_system_3, y0, t, args=(k, L, l0, m))\n",
    "\n",
    "# Funkcja do wizualizacji\n",
    "def plot_masses_3(t_index):\n",
    "    plt.figure(figsize=(12, 2))\n",
    "    plt.plot([0, L], [0, 0], 'k-')  # Podpory\n",
    "    plt.plot(solution[t_index, 0], 0, 'go', markersize=12, label='Masa 1')  # Masa 1\n",
    "    plt.plot(solution[t_index, 1], 0, 'ro', markersize=12, label='Masa 2')  # Masa 2\n",
    "    plt.plot(solution[t_index, 2], 0, 'bo', markersize=12, label='Masa 3')  # Masa 3\n",
    "    plt.xlim(-1, L+1)\n",
    "    plt.ylim(-1, 1)\n",
    "    plt.legend()\n",
    "    plt.xlabel('Pozycja')\n",
    "    plt.yticks([])\n",
    "    plt.show()\n",
    "\n",
    "# Widget interaktywny\n",
    "interact(plot_masses_3, t_index=widgets.IntSlider(min=0, max=len(t)-1, step=1, value=0))\n"
   ]
  },
  {
   "cell_type": "markdown",
   "id": "fdc2bafa0c18cda2",
   "metadata": {
    "collapsed": false
   },
   "source": [
    "# Układ 10 mas i 11 sprężyn\n",
    "\n",
    "\\begin{align*}\n",
    "m_1 \\ddot{x_1} &= -k_1 (x_1 - l_0) + k_2 (x_2 - x_1 - l_0), \\\\\n",
    "m_2 \\ddot{x_2} &= -k_2 (x_2 - x_1 - l_0) + k_3 (x_3 - x_2 - l_0), \\\\\n",
    "m_3 \\ddot{x_3} &= -k_3 (x_3 - x_2 - l_0) + k_4 (x_4 - x_3 - l_0), \\\\\n",
    "m_4 \\ddot{x_4} &= -k_4 (x_4 - x_3 - l_0) + k_5 (x_5 - x_4 - l_0), \\\\\n",
    "m_5 \\ddot{x_5} &= -k_5 (x_5 - x_4 - l_0) + k_6 (x_6 - x_5 - l_0), \\\\\n",
    "m_6 \\ddot{x_6} &= -k_6 (x_6 - x_5 - l_0) + k_7 (x_7 - x_6 - l_0), \\\\\n",
    "m_7 \\ddot{x_7} &= -k_7 (x_7 - x_6 - l_0) + k_8 (x_8 - x_7 - l_0), \\\\\n",
    "m_8 \\ddot{x_8} &= -k_8 (x_8 - x_7 - l_0) + k_9 (x_9 - x_8 - l_0), \\\\\n",
    "m_9 \\ddot{x_9} &= -k_9 (x_9 - x_8 - l_0) + k_{10} (x_{10} - x_9 - l_0), \\\\\n",
    "m_{10} \\ddot{x_{10}} &= -k_9 (x_{10} - x_9 - l_0) - k_{10} (x_{10} - L + l_0).\n",
    "\\end{align*}\n"
   ]
  },
  {
   "cell_type": "code",
   "execution_count": 23,
   "id": "fdcb195dbe7b448a",
   "metadata": {
    "collapsed": false
   },
   "outputs": [
    {
     "data": {
      "application/vnd.jupyter.widget-view+json": {
       "model_id": "993edd4f7b90487c89db0383c8688d48",
       "version_major": 2,
       "version_minor": 0
      },
      "text/plain": [
       "interactive(children=(IntSlider(value=0, description='t_index', max=1999), Output()), _dom_classes=('widget-in…"
      ]
     },
     "metadata": {},
     "output_type": "display_data"
    },
    {
     "data": {
      "text/plain": [
       "<function __main__.plot_masses_general(t_index)>"
      ]
     },
     "execution_count": 23,
     "metadata": {},
     "output_type": "execute_result"
    }
   ],
   "source": [
    "import numpy as np\n",
    "from scipy.integrate import odeint\n",
    "import matplotlib.pyplot as plt\n",
    "from ipywidgets import interact, widgets\n",
    "\n",
    "def spring_mass_system_general(y, t, k, L, l0, m, N):\n",
    "    dydt = np.zeros(2*N)\n",
    "    for i in range(N):\n",
    "        # x_i\n",
    "        dydt[i] = y[N+i]\n",
    "        # v_i\n",
    "        if i == 0:\n",
    "            dydt[N+i] = (-k*(y[i] - l0) + k*(y[i+1] - y[i] - l0)) / m\n",
    "        elif i == N-1:\n",
    "            dydt[N+i] = (-k*(y[i] - y[i-1] - l0) - k*(y[i] - L + l0)) / m\n",
    "        else:\n",
    "            dydt[N+i] = (-k*(y[i] - y[i-1] - l0) + k*(y[i+1] - y[i] - l0)) / m\n",
    "    return dydt\n",
    "\n",
    "# Parametry systemu\n",
    "N = 10  # Liczba mas\n",
    "k = 1.0  # Współczynnik sprężystości sprężyn\n",
    "L = 22.0  # Długość między podporami\n",
    "l0 = 2.0 # Długość spoczynkowa sprężyn\n",
    "m = 1.0  # Masy\n",
    "\n",
    "# Warunki początkowe: [x1,...,xN, v1,...,vN]\n",
    "y0 = np.array([i*l0 for i in range(1, N+1)] + [0]*N)\n",
    "\n",
    "y0[10]=.5\n",
    "# Czas\n",
    "t = np.linspace(0, 50, 2000)  # od 0 do 20 sekund\n",
    "\n",
    "# Rozwiązanie równań różniczkowych\n",
    "solution = odeint(spring_mass_system_general, y0, t, args=(k, L, l0, m, N))\n",
    "\n",
    "# Funkcja do wizualizacji\n",
    "def plot_masses_general(t_index):\n",
    "    plt.figure(figsize=(14, 2))\n",
    "    plt.plot([0, L], [0, 0], 'k-')  # Podpory\n",
    "    for i in range(N):\n",
    "        plt.plot(solution[t_index, i], 0, 'o', markersize=12, label=f'Masa {i+1}')\n",
    "    plt.xlim(-1, L+1)\n",
    "    plt.ylim(-1, 1)\n",
    "    # plt.legend()\n",
    "    plt.xlabel('Pozycja')\n",
    "    plt.yticks([])\n",
    "    plt.show()\n",
    "\n",
    "# Widget interaktywny\n",
    "interact(plot_masses_general, t_index=widgets.IntSlider(min=0, max=len(t)-1, step=1, value=0))\n"
   ]
  },
  {
   "cell_type": "code",
   "execution_count": 8,
   "id": "c007e333-842e-4174-9d3a-5de4b3eb039a",
   "metadata": {
    "ExecuteTime": {
     "end_time": "2024-03-30T15:36:53.252480Z",
     "start_time": "2024-03-30T15:36:52.360474Z"
    }
   },
   "outputs": [
    {
     "data": {
      "text/plain": "interactive(children=(IntSlider(value=0, description='t_index', max=19999), Output()), _dom_classes=('widget-i…",
      "application/vnd.jupyter.widget-view+json": {
       "version_major": 2,
       "version_minor": 0,
       "model_id": "017aea89c7ce491ab6f022267fd1feaa"
      }
     },
     "metadata": {},
     "output_type": "display_data"
    },
    {
     "data": {
      "text/plain": "<function __main__.plot_masses_general(t_index)>"
     },
     "execution_count": 8,
     "metadata": {},
     "output_type": "execute_result"
    }
   ],
   "source": [
    "import numpy as np\n",
    "from scipy.integrate import odeint\n",
    "import matplotlib.pyplot as plt\n",
    "from ipywidgets import interact, widgets\n",
    "\n",
    "def spring_mass_system_general(y, t, k, L, l0, m, N):\n",
    "    dydt = np.zeros(2*N)\n",
    "    for i in range(N):\n",
    "        # x_i\n",
    "        dydt[i] = y[N+i]\n",
    "        # v_i\n",
    "        if i == 0:\n",
    "            dydt[N+i] = (-k*(y[i] - l0) + k*(y[i+1] - y[i] - l0)) / m\n",
    "        elif i == N-1:\n",
    "            dydt[N+i] = (-k*(y[i] - y[i-1] - l0) - k*(y[i] - L + l0)) / m\n",
    "        else:\n",
    "            dydt[N+i] = (-k*(y[i] - y[i-1] - l0) + k*(y[i+1] - y[i] - l0)) / m\n",
    "    return dydt\n",
    "\n",
    "# Parametry systemu\n",
    "N = 100  # Liczba mas\n",
    "k = 1.0  # Współczynnik sprężystości sprężyn\n",
    "L = 202.0  # Długość między podporami\n",
    "l0 = 2.0 # Długość spoczynkowa sprężyn\n",
    "m = 1.0  # Masy\n",
    "\n",
    "# Warunki początkowe: [x1,...,xN, v1,...,vN]\n",
    "y0 = np.array([i*l0 for i in range(1, N+1)] + [0]*N)\n",
    "\n",
    "y0[100]=.5\n",
    "# Czas\n",
    "t = np.linspace(0, 500, 20000)  # od 0 do 20 sekund\n",
    "\n",
    "# Rozwiązanie równań różniczkowych\n",
    "solution = odeint(spring_mass_system_general, y0, t, args=(k, L, l0, m, N))\n",
    "\n",
    "# Funkcja do wizualizacji\n",
    "def plot_masses_general(t_index):\n",
    "    plt.figure(figsize=(30, 2))\n",
    "    plt.plot([0, L], [0, 0], 'k-')  # Podpory\n",
    "    for i in range(N):\n",
    "        plt.plot(solution[t_index, i], 0, 'o', markersize=12, label=f'Masa {i+1}')\n",
    "    plt.xlim(-1, L+1)\n",
    "    plt.ylim(-1, 1)\n",
    "    # plt.legend()\n",
    "    plt.xlabel('Pozycja')\n",
    "    plt.yticks([])\n",
    "    plt.show()\n",
    "\n",
    "# Widget interaktywny\n",
    "interact(plot_masses_general, t_index=widgets.IntSlider(min=0, max=len(t)-1, step=1, value=0))\n"
   ]
  },
  {
   "cell_type": "code",
   "execution_count": 9,
   "id": "afdd71dc-e6b2-41f2-98a3-73c9b8baeb21",
   "metadata": {
    "ExecuteTime": {
     "end_time": "2024-03-30T15:39:09.999010Z",
     "start_time": "2024-03-30T15:39:09.997066Z"
    }
   },
   "outputs": [],
   "source": []
  },
  {
   "cell_type": "code",
   "outputs": [],
   "source": [],
   "metadata": {
    "collapsed": false
   },
   "id": "64d1916877b167fa"
  }
 ],
 "metadata": {
  "kernelspec": {
   "display_name": "Python 3 (ipykernel)",
   "language": "python",
   "name": "python3"
  },
  "language_info": {
   "codemirror_mode": {
    "name": "ipython",
    "version": 3
   },
   "file_extension": ".py",
   "mimetype": "text/x-python",
   "name": "python",
   "nbconvert_exporter": "python",
   "pygments_lexer": "ipython3",
   "version": "3.11.5"
  }
 },
 "nbformat": 4,
 "nbformat_minor": 5
}
